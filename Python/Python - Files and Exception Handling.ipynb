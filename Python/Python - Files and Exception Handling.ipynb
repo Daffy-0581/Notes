{
 "cells": [
  {
   "cell_type": "code",
   "execution_count": 2,
   "id": "5f624a19",
   "metadata": {},
   "outputs": [],
   "source": [
    "import os"
   ]
  },
  {
   "cell_type": "code",
   "execution_count": 3,
   "id": "a6b78641",
   "metadata": {},
   "outputs": [
    {
     "data": {
      "text/plain": [
       "'C:\\\\Users\\\\nthumma'"
      ]
     },
     "execution_count": 3,
     "metadata": {},
     "output_type": "execute_result"
    }
   ],
   "source": [
    "# returns current working directory\n",
    "os.getcwd()"
   ]
  },
  {
   "cell_type": "code",
   "execution_count": 4,
   "id": "1da023a7",
   "metadata": {},
   "outputs": [
    {
     "data": {
      "text/plain": [
       "['test.txt', 'test1.txt']"
      ]
     },
     "execution_count": 4,
     "metadata": {},
     "output_type": "execute_result"
    }
   ],
   "source": [
    "# get list of files and directories\n",
    "path = \"D:/pyfile/\"\n",
    "os.listdir(path)"
   ]
  },
  {
   "cell_type": "code",
   "execution_count": 5,
   "id": "fe25606a",
   "metadata": {},
   "outputs": [],
   "source": [
    "directory = \"temp\"\n",
    "parent_path = \"D:/pyfile/\"\n",
    "path = os.path.join(parent_path,directory)\n",
    "os.makedirs(path)"
   ]
  },
  {
   "cell_type": "code",
   "execution_count": 6,
   "id": "58d2a216",
   "metadata": {},
   "outputs": [],
   "source": [
    "os.rmdir(path)"
   ]
  },
  {
   "cell_type": "code",
   "execution_count": 14,
   "id": "501703c5",
   "metadata": {},
   "outputs": [
    {
     "name": "stdout",
     "output_type": "stream",
     "text": [
      "['test.txt']\n"
     ]
    }
   ],
   "source": [
    "import os\n",
    "\n",
    "directory = []\n",
    "dirpath = \"D:/pyfile/\"\n",
    "# os.walk() reads all directory and subdirectory\n",
    "for (dir_path, dir_name, files_name) in os.walk(\"D:/pyfile/\"):\n",
    "    directory.extend(files_name)\n",
    "print(directory)"
   ]
  },
  {
   "cell_type": "code",
   "execution_count": 15,
   "id": "ce23e2bf",
   "metadata": {},
   "outputs": [
    {
     "data": {
      "text/plain": [
       "True"
      ]
     },
     "execution_count": 15,
     "metadata": {},
     "output_type": "execute_result"
    }
   ],
   "source": [
    "# returns true foor file else false\n",
    "os.path.isfile(\"D:/pyfile/test.txt\")"
   ]
  },
  {
   "cell_type": "code",
   "execution_count": 19,
   "id": "c0883dbf",
   "metadata": {},
   "outputs": [],
   "source": [
    "# open file from a location in read/text mode\n",
    "fileobj = open(\"D:/pyfile/test.txt\")"
   ]
  },
  {
   "cell_type": "code",
   "execution_count": 20,
   "id": "59343aa0",
   "metadata": {
    "collapsed": true
   },
   "outputs": [
    {
     "data": {
      "text/plain": [
       "'This specially designed Python tutorial will help you learn Python Programming Language in most efficient way, with the topics from basics to advanced (like Web-scraping, Django, Deep-Learning, etc.) with examples. Below are some facts about Python Programming Language:\\nPython is currently the most widely used multi-purpose, high-level programming language.\\nPython allows programming in Object-Oriented and Procedural paradigms.\\nPython programs generally are smaller than other programming languages like Java. Programmers have to type relatively less and indentation requirement of the language, makes them readable all the time.\\nPython language is being used by almost all tech-giant companies like â€“ Google, Amazon, Facebook, Instagram, Dropbox, Uberâ€¦ etc.\\nThe biggest strength of Python is huge collection of standard library which can be used for the following:\\nMachine Learning\\nGUI Applications (like Kivy, Tkinter, PyQt etc. )\\nWeb frameworks like Django (used by YouTube, Instagram, Dropbox)\\nImage processing (like OpenCV, Pillow)\\nWeb scraping (like Scrapy, BeautifulSoup, Selenium)\\nTest frameworks\\nMultimedia\\nScientific computing\\nText processing and many more..'"
      ]
     },
     "execution_count": 20,
     "metadata": {},
     "output_type": "execute_result"
    }
   ],
   "source": [
    "# read the file\n",
    "fileobj.read()"
   ]
  },
  {
   "cell_type": "code",
   "execution_count": 21,
   "id": "a477936e",
   "metadata": {},
   "outputs": [],
   "source": [
    "fileobj = open(\"D:/pyfile/test.txt\", \"r\")   # open file in read mode"
   ]
  },
  {
   "cell_type": "code",
   "execution_count": 23,
   "id": "a658d1f4",
   "metadata": {},
   "outputs": [],
   "source": [
    "# create a new file and open in write mode\n",
    "fileobj = open(\"D:/pyfile/test1.txt\", \"w\")  # open file in write mode"
   ]
  },
  {
   "cell_type": "code",
   "execution_count": 24,
   "id": "3dc303cf",
   "metadata": {},
   "outputs": [
    {
     "data": {
      "text/plain": [
       "45"
      ]
     },
     "execution_count": 24,
     "metadata": {},
     "output_type": "execute_result"
    }
   ],
   "source": [
    "# write over a new file\n",
    "fileobj.write(\"This is new file created using open function.\")"
   ]
  },
  {
   "cell_type": "code",
   "execution_count": 25,
   "id": "c46057d6",
   "metadata": {},
   "outputs": [],
   "source": [
    "# close the file\n",
    "fileobj.close()"
   ]
  },
  {
   "cell_type": "code",
   "execution_count": 26,
   "id": "42f049d0",
   "metadata": {},
   "outputs": [
    {
     "data": {
      "text/plain": [
       "'This is new file created using open function.'"
      ]
     },
     "execution_count": 26,
     "metadata": {},
     "output_type": "execute_result"
    }
   ],
   "source": [
    "fileobj1 = open(\"D:/pyfile/test1.txt\", \"r\")\n",
    "fileobj1.read()"
   ]
  },
  {
   "cell_type": "code",
   "execution_count": 27,
   "id": "ee5a663a",
   "metadata": {},
   "outputs": [],
   "source": [
    "fileobj1.close()"
   ]
  },
  {
   "cell_type": "markdown",
   "id": "5b443fdc",
   "metadata": {},
   "source": [
    "### Append"
   ]
  },
  {
   "cell_type": "code",
   "execution_count": 28,
   "id": "97119ed9",
   "metadata": {},
   "outputs": [
    {
     "data": {
      "text/plain": [
       "57"
      ]
     },
     "execution_count": 28,
     "metadata": {},
     "output_type": "execute_result"
    }
   ],
   "source": [
    "fileobj2=open(\"D:/pyfile/test1.txt\", \"a\")\n",
    "fileobj2.write(\" Python is easy programming lang. Files and File handling\")"
   ]
  },
  {
   "cell_type": "code",
   "execution_count": 29,
   "id": "0cfd42fa",
   "metadata": {},
   "outputs": [],
   "source": [
    "fileobj2.close()"
   ]
  },
  {
   "cell_type": "code",
   "execution_count": 34,
   "id": "228b2f6b",
   "metadata": {},
   "outputs": [
    {
     "name": "stdout",
     "output_type": "stream",
     "text": [
      "Read the first 20 characters\n"
     ]
    },
    {
     "data": {
      "text/plain": [
       "'This is new file cre'"
      ]
     },
     "execution_count": 34,
     "metadata": {},
     "output_type": "execute_result"
    }
   ],
   "source": [
    "fileobj2 = open(\"D:/pyfile/test1.txt\", \"r\")\n",
    "print(\"Read the first 20 characters\")\n",
    "fileobj2.read(20)"
   ]
  },
  {
   "cell_type": "code",
   "execution_count": 35,
   "id": "bd4c6e02",
   "metadata": {},
   "outputs": [],
   "source": [
    "fileobj2.close()"
   ]
  },
  {
   "cell_type": "code",
   "execution_count": 36,
   "id": "c0edc7c0",
   "metadata": {},
   "outputs": [
    {
     "data": {
      "text/plain": [
       "'This specially designed Python tutorial will help you learn Python Programming Language in most efficient way, with the topics from basics to advanced (like Web-scraping, Django, Deep-Learning, etc.) with examples. Below are some facts about Python Programming Language:\\n'"
      ]
     },
     "execution_count": 36,
     "metadata": {},
     "output_type": "execute_result"
    }
   ],
   "source": [
    "fileobj=open(\"D:/pyfile/test.txt\", \"r\")  \n",
    "# read firstline\n",
    "fileobj.readline()"
   ]
  },
  {
   "cell_type": "code",
   "execution_count": 37,
   "id": "87c42307",
   "metadata": {},
   "outputs": [
    {
     "data": {
      "text/plain": [
       "['Python is currently the most widely used multi-purpose, high-level programming language.\\n',\n",
       " 'Python allows programming in Object-Oriented and Procedural paradigms.\\n',\n",
       " 'Python programs generally are smaller than other programming languages like Java. Programmers have to type relatively less and indentation requirement of the language, makes them readable all the time.\\n',\n",
       " 'Python language is being used by almost all tech-giant companies like â€“ Google, Amazon, Facebook, Instagram, Dropbox, Uberâ€¦ etc.\\n',\n",
       " 'The biggest strength of Python is huge collection of standard library which can be used for the following:\\n',\n",
       " 'Machine Learning\\n',\n",
       " 'GUI Applications (like Kivy, Tkinter, PyQt etc. )\\n',\n",
       " 'Web frameworks like Django (used by YouTube, Instagram, Dropbox)\\n',\n",
       " 'Image processing (like OpenCV, Pillow)\\n',\n",
       " 'Web scraping (like Scrapy, BeautifulSoup, Selenium)\\n',\n",
       " 'Test frameworks\\n',\n",
       " 'Multimedia\\n',\n",
       " 'Scientific computing\\n',\n",
       " 'Text processing and many more..']"
      ]
     },
     "execution_count": 37,
     "metadata": {},
     "output_type": "execute_result"
    }
   ],
   "source": [
    "fileobj.readlines()"
   ]
  },
  {
   "cell_type": "code",
   "execution_count": 38,
   "id": "ef76809e",
   "metadata": {},
   "outputs": [
    {
     "data": {
      "text/plain": [
       "'This specially designed Python tutorial will help you learn Python Programming Language in most efficient way, with the topics from basics to advanced (like Web-scraping, Django, Deep-Learning, etc.) with examples. Below are some facts about Python Programming Language:\\nPython is currently the most widely used multi-purpose, high-level programming language.\\nPython allows programming in Object-Oriented and Procedural paradigms.\\nPython programs generally are smaller than other programming languages like Java. Programmers have to type relatively less and indentation requirement of the language, makes them readable all the time.\\nPython language is being used by almost all tech-giant companies like â€“ Google, Amazon, Facebook, Instagram, Dropbox, Uberâ€¦ etc.\\nThe biggest strength of Python is huge collection of standard library which can be used for the following:\\nMachine Learning\\nGUI Applications (like Kivy, Tkinter, PyQt etc. )\\nWeb frameworks like Django (used by YouTube, Instagram, Dropbox)\\nImage processing (like OpenCV, Pillow)\\nWeb scraping (like Scrapy, BeautifulSoup, Selenium)\\nTest frameworks\\nMultimedia\\nScientific computing\\nText processing and many more..'"
      ]
     },
     "execution_count": 38,
     "metadata": {},
     "output_type": "execute_result"
    }
   ],
   "source": [
    "fileobj = open(\"D:/pyfile/test.txt\", \"r\")\n",
    "# brink cursor at the start of file\n",
    "fileobj.seek(0)\n",
    "fileobj.read()"
   ]
  },
  {
   "cell_type": "code",
   "execution_count": 39,
   "id": "28ec0296",
   "metadata": {},
   "outputs": [
    {
     "data": {
      "text/plain": [
       "'ecially designed Python tutorial will help you learn Python Programming Language in most efficient way, with the topics from basics to advanced (like Web-scraping, Django, Deep-Learning, etc.) with examples. Below are some facts about Python Programming Language:\\nPython is currently the most widely used multi-purpose, high-level programming language.\\nPython allows programming in Object-Oriented and Procedural paradigms.\\nPython programs generally are smaller than other programming languages like Java. Programmers have to type relatively less and indentation requirement of the language, makes them readable all the time.\\nPython language is being used by almost all tech-giant companies like â€“ Google, Amazon, Facebook, Instagram, Dropbox, Uberâ€¦ etc.\\nThe biggest strength of Python is huge collection of standard library which can be used for the following:\\nMachine Learning\\nGUI Applications (like Kivy, Tkinter, PyQt etc. )\\nWeb frameworks like Django (used by YouTube, Instagram, Dropbox)\\nImage processing (like OpenCV, Pillow)\\nWeb scraping (like Scrapy, BeautifulSoup, Selenium)\\nTest frameworks\\nMultimedia\\nScientific computing\\nText processing and many more..'"
      ]
     },
     "execution_count": 39,
     "metadata": {},
     "output_type": "execute_result"
    }
   ],
   "source": [
    "# seek(7) -> New initial position\n",
    "fileobj.seek(7)\n",
    "fileobj.read()"
   ]
  },
  {
   "cell_type": "code",
   "execution_count": 40,
   "id": "ae22e56a",
   "metadata": {},
   "outputs": [
    {
     "data": {
      "text/plain": [
       "1189"
      ]
     },
     "execution_count": 40,
     "metadata": {},
     "output_type": "execute_result"
    }
   ],
   "source": [
    "# returns the cursor position\n",
    "fileobj.tell()"
   ]
  },
  {
   "cell_type": "code",
   "execution_count": 44,
   "id": "233dbb66",
   "metadata": {},
   "outputs": [
    {
     "data": {
      "text/plain": [
       "'This specially designed Python tutorial will help you learn Python Programming Language in most efficient way, with the topics from basics to advanced (like Web-scraping, Django, Deep-Learning, etc.) with examples. Below are some facts about Python Programming Language:\\n'"
      ]
     },
     "execution_count": 44,
     "metadata": {},
     "output_type": "execute_result"
    }
   ],
   "source": [
    "fileobj.seek(0)\n",
    "fileobj.readline()"
   ]
  },
  {
   "cell_type": "markdown",
   "id": "64c5e2c0",
   "metadata": {},
   "source": [
    "#### Exercise  : Read first  5 lines of file using readlines()"
   ]
  },
  {
   "cell_type": "code",
   "execution_count": 54,
   "id": "6cb8b1a0",
   "metadata": {},
   "outputs": [
    {
     "name": "stdout",
     "output_type": "stream",
     "text": [
      "This specially designed Python tutorial will help you learn Python Programming Language in most efficient way, with the topics from basics to advanced (like Web-scraping, Django, Deep-Learning, etc.) with examples. Below are some facts about Python Programming Language:\n",
      "\n",
      "Python is currently the most widely used multi-purpose, high-level programming language.\n",
      "\n",
      "Python allows programming in Object-Oriented and Procedural paradigms.\n",
      "\n",
      "Python programs generally are smaller than other programming languages like Java. Programmers have to type relatively less and indentation requirement of the language, makes them readable all the time.\n",
      "\n",
      "Python language is being used by almost all tech-giant companies like â€“ Google, Amazon, Facebook, Instagram, Dropbox, Uberâ€¦ etc.\n",
      "\n"
     ]
    }
   ],
   "source": [
    "fileobj.seek(0)\n",
    "i=0\n",
    "while i<5:\n",
    "    print(fileobj.readline())\n",
    "    i+=1"
   ]
  },
  {
   "cell_type": "markdown",
   "id": "ed7c84f0",
   "metadata": {},
   "source": [
    "# EXCEPTIONS\n",
    "    * Python has many built-in exceptions (ZeroDivisionError, EOFError, KeyError, SyntaxError, Indentation Error, FileNotFound Error, EOLError etc.) These are raised when your program encounters an error."
   ]
  },
  {
   "cell_type": "code",
   "execution_count": 55,
   "id": "5cbb13a8",
   "metadata": {},
   "outputs": [
    {
     "ename": "SyntaxError",
     "evalue": "invalid syntax (4184569928.py, line 4)",
     "output_type": "error",
     "traceback": [
      "\u001b[1;36m  File \u001b[1;32m\"C:\\Users\\nthumma\\AppData\\Local\\Temp\\ipykernel_11216\\4184569928.py\"\u001b[1;36m, line \u001b[1;32m4\u001b[0m\n\u001b[1;33m    elif symbol == \"-\":\u001b[0m\n\u001b[1;37m    ^\u001b[0m\n\u001b[1;31mSyntaxError\u001b[0m\u001b[1;31m:\u001b[0m invalid syntax\n"
     ]
    }
   ],
   "source": [
    "def calculate(a,b,symbol):\n",
    "    if symbol == \"+\":\n",
    "        print(a+b)\n",
    "elif symbol == \"-\":\n",
    "        print(a-b)"
   ]
  },
  {
   "cell_type": "code",
   "execution_count": 56,
   "id": "8f3616a3",
   "metadata": {},
   "outputs": [
    {
     "ename": "IndentationError",
     "evalue": "expected an indented block (495422629.py, line 5)",
     "output_type": "error",
     "traceback": [
      "\u001b[1;36m  File \u001b[1;32m\"C:\\Users\\nthumma\\AppData\\Local\\Temp\\ipykernel_11216\\495422629.py\"\u001b[1;36m, line \u001b[1;32m5\u001b[0m\n\u001b[1;33m    print(a-b)\u001b[0m\n\u001b[1;37m    ^\u001b[0m\n\u001b[1;31mIndentationError\u001b[0m\u001b[1;31m:\u001b[0m expected an indented block\n"
     ]
    }
   ],
   "source": [
    "def calculate(a,b,symbol):\n",
    "    if symbol == \"+\":\n",
    "        print(a+b)\n",
    "    elif symbol == \"-\":\n",
    "    print(a-b)"
   ]
  },
  {
   "cell_type": "code",
   "execution_count": 57,
   "id": "138b63a5",
   "metadata": {},
   "outputs": [
    {
     "ename": "FileNotFoundError",
     "evalue": "[Errno 2] No such file or directory: 'D:/pyfile/test2.txt'",
     "output_type": "error",
     "traceback": [
      "\u001b[1;31m---------------------------------------------------------------------------\u001b[0m",
      "\u001b[1;31mFileNotFoundError\u001b[0m                         Traceback (most recent call last)",
      "\u001b[1;32m~\\AppData\\Local\\Temp\\ipykernel_11216\\2911936590.py\u001b[0m in \u001b[0;36m<module>\u001b[1;34m\u001b[0m\n\u001b[1;32m----> 1\u001b[1;33m \u001b[0mfileobj\u001b[0m\u001b[1;33m=\u001b[0m\u001b[0mopen\u001b[0m\u001b[1;33m(\u001b[0m\u001b[1;34m\"D:/pyfile/test2.txt\"\u001b[0m\u001b[1;33m,\u001b[0m \u001b[1;34m\"r\"\u001b[0m\u001b[1;33m)\u001b[0m\u001b[1;33m\u001b[0m\u001b[1;33m\u001b[0m\u001b[0m\n\u001b[0m",
      "\u001b[1;31mFileNotFoundError\u001b[0m: [Errno 2] No such file or directory: 'D:/pyfile/test2.txt'"
     ]
    }
   ],
   "source": [
    "# file not found error will be raised if no file is found in location\n",
    "fileobj=open(\"D:/pyfile/test2.txt\", \"r\")"
   ]
  },
  {
   "cell_type": "code",
   "execution_count": 58,
   "id": "693d84bf",
   "metadata": {},
   "outputs": [
    {
     "ename": "SyntaxError",
     "evalue": "unexpected EOF while parsing (3673953687.py, line 1)",
     "output_type": "error",
     "traceback": [
      "\u001b[1;36m  File \u001b[1;32m\"C:\\Users\\nthumma\\AppData\\Local\\Temp\\ipykernel_11216\\3673953687.py\"\u001b[1;36m, line \u001b[1;32m1\u001b[0m\n\u001b[1;33m    print(\"This is correct syntax\"\u001b[0m\n\u001b[1;37m                                  ^\u001b[0m\n\u001b[1;31mSyntaxError\u001b[0m\u001b[1;31m:\u001b[0m unexpected EOF while parsing\n"
     ]
    }
   ],
   "source": [
    "print(\"This is correct syntax\""
   ]
  },
  {
   "cell_type": "code",
   "execution_count": 59,
   "id": "93c8915e",
   "metadata": {},
   "outputs": [
    {
     "ename": "SyntaxError",
     "evalue": "EOL while scanning string literal (448770314.py, line 1)",
     "output_type": "error",
     "traceback": [
      "\u001b[1;36m  File \u001b[1;32m\"C:\\Users\\nthumma\\AppData\\Local\\Temp\\ipykernel_11216\\448770314.py\"\u001b[1;36m, line \u001b[1;32m1\u001b[0m\n\u001b[1;33m    print(\"This is correct syntax\u001b[0m\n\u001b[1;37m                                 ^\u001b[0m\n\u001b[1;31mSyntaxError\u001b[0m\u001b[1;31m:\u001b[0m EOL while scanning string literal\n"
     ]
    }
   ],
   "source": [
    "print(\"This is correct syntax"
   ]
  },
  {
   "cell_type": "markdown",
   "id": "f6987f5b",
   "metadata": {},
   "source": [
    "# Exception Handling in Python\n",
    "    * When the exception occurs in Python program interpreter stops the current process and it passes it to calling process until it is handled. If exception is not handled the program will crash.\n",
    "    * Exception in python is handled by using 'try' statement. The 'try' lets you test a block of code for errors."
   ]
  },
  {
   "cell_type": "code",
   "execution_count": 60,
   "id": "c897216e",
   "metadata": {},
   "outputs": [
    {
     "name": "stdout",
     "output_type": "stream",
     "text": [
      "Enter denominator value0\n",
      "division by zero Exception Occured\n",
      "Run this block of code always\n"
     ]
    }
   ],
   "source": [
    "import sys\n",
    "num = int(input(\"Enter denominator value\"))\n",
    "try:\n",
    "    print(100/num)\n",
    "except:\n",
    "    print(sys.exc_info()[1],'Exception Occured')\n",
    "print(\"Run this block of code always\")"
   ]
  },
  {
   "cell_type": "code",
   "execution_count": 63,
   "id": "7df0e825",
   "metadata": {},
   "outputs": [
    {
     "name": "stdout",
     "output_type": "stream",
     "text": [
      "Write succesful\n",
      "Run this block always\n"
     ]
    }
   ],
   "source": [
    "try:\n",
    "    file = open(\"D:/pyfile/test1.txt\", \"w\")\n",
    "    file.write(\"This is exception handling eg\")\n",
    "except:\n",
    "    # write error message\n",
    "    print(sys.exc_info()[1],\"Exception Occured\")\n",
    "else:\n",
    "    # success msg\n",
    "    print(\"Write succesful\")\n",
    "finally:\n",
    "    print(\"Run this block always\")"
   ]
  },
  {
   "cell_type": "code",
   "execution_count": 64,
   "id": "186e415b",
   "metadata": {},
   "outputs": [
    {
     "name": "stdout",
     "output_type": "stream",
     "text": [
      "Enter denominator value.0\n",
      "Cnat divide by zero\n",
      "Run this block of code always\n"
     ]
    }
   ],
   "source": [
    "import sys\n",
    "\n",
    "num = int(input(\"Enter denominator value.\"))\n",
    "try:\n",
    "    print(100/num)\n",
    "except ZeroDivisionError:\n",
    "    print(\"Cnat divide by zero\")\n",
    "finally: \n",
    "    print(\"Run this block of code always\")"
   ]
  },
  {
   "cell_type": "markdown",
   "id": "1a0f00be",
   "metadata": {},
   "source": [
    "### Exercise: write a function that ask for an integer and prints the square of it. Use while loop with try, except and else block to account for correct inputs."
   ]
  },
  {
   "cell_type": "code",
   "execution_count": 75,
   "id": "12627bb2",
   "metadata": {},
   "outputs": [
    {
     "name": "stdout",
     "output_type": "stream",
     "text": [
      "Enter num : a\n",
      "invalid literal for int() with base 10: 'a' Exception Occured\n",
      "Enter num : b\n",
      "invalid literal for int() with base 10: 'b' Exception Occured\n",
      "Enter num : @\n",
      "invalid literal for int() with base 10: '@' Exception Occured\n",
      "Enter num : 1\n",
      "Square of num is 1\n"
     ]
    }
   ],
   "source": [
    "def ask():\n",
    "    while True:\n",
    "        try:\n",
    "            num=int(input(\"Enter num : \"))\n",
    "            s=num*num\n",
    "        except:\n",
    "            print(sys.exc_info()[1],'Exception Occured')\n",
    "        else:\n",
    "            print(\"Square of num is {}\".format(s))\n",
    "            break\n",
    "\n",
    "ask()"
   ]
  },
  {
   "cell_type": "code",
   "execution_count": null,
   "id": "d81b93d1",
   "metadata": {},
   "outputs": [],
   "source": []
  }
 ],
 "metadata": {
  "kernelspec": {
   "display_name": "Python 3 (ipykernel)",
   "language": "python",
   "name": "python3"
  },
  "language_info": {
   "codemirror_mode": {
    "name": "ipython",
    "version": 3
   },
   "file_extension": ".py",
   "mimetype": "text/x-python",
   "name": "python",
   "nbconvert_exporter": "python",
   "pygments_lexer": "ipython3",
   "version": "3.9.13"
  }
 },
 "nbformat": 4,
 "nbformat_minor": 5
}
