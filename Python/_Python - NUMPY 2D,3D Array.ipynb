{
 "cells": [
  {
   "cell_type": "code",
   "execution_count": 1,
   "id": "576ce53f",
   "metadata": {
    "collapsed": true
   },
   "outputs": [
    {
     "name": "stdout",
     "output_type": "stream",
     "text": [
      "Defaulting to user installation because normal site-packages is not writeable\n",
      "Requirement already satisfied: pytest in c:\\programdata\\anaconda3\\lib\\site-packages (7.1.2)\n",
      "Requirement already satisfied: attrs>=19.2.0 in c:\\programdata\\anaconda3\\lib\\site-packages (from pytest) (21.4.0)\n",
      "Requirement already satisfied: iniconfig in c:\\programdata\\anaconda3\\lib\\site-packages (from pytest) (1.1.1)\n",
      "Requirement already satisfied: packaging in c:\\programdata\\anaconda3\\lib\\site-packages (from pytest) (21.3)\n",
      "Requirement already satisfied: pluggy<2.0,>=0.12 in c:\\programdata\\anaconda3\\lib\\site-packages (from pytest) (1.0.0)\n",
      "Requirement already satisfied: py>=1.8.2 in c:\\programdata\\anaconda3\\lib\\site-packages (from pytest) (1.11.0)\n",
      "Requirement already satisfied: tomli>=1.0.0 in c:\\programdata\\anaconda3\\lib\\site-packages (from pytest) (2.0.1)\n",
      "Requirement already satisfied: atomicwrites>=1.0 in c:\\programdata\\anaconda3\\lib\\site-packages (from pytest) (1.4.0)\n",
      "Requirement already satisfied: colorama in c:\\programdata\\anaconda3\\lib\\site-packages (from pytest) (0.4.5)\n",
      "Requirement already satisfied: pyparsing!=3.0.5,>=2.0.2 in c:\\programdata\\anaconda3\\lib\\site-packages (from packaging->pytest) (3.0.9)\n"
     ]
    }
   ],
   "source": [
    "!pip install pytest"
   ]
  },
  {
   "cell_type": "markdown",
   "id": "56d9af22",
   "metadata": {},
   "source": [
    "# NUMPY\n",
    "    * stands for NUMERICAL PYTHON\n",
    "    * used when mathematical operations need to be performed on arryas/matrices etc"
   ]
  },
  {
   "cell_type": "code",
   "execution_count": 4,
   "id": "a068200d",
   "metadata": {},
   "outputs": [],
   "source": [
    "import numpy as np"
   ]
  },
  {
   "cell_type": "code",
   "execution_count": 5,
   "id": "9821f2db",
   "metadata": {},
   "outputs": [
    {
     "name": "stdout",
     "output_type": "stream",
     "text": [
      "1.21.5\n"
     ]
    }
   ],
   "source": [
    "print(np.__version__)"
   ]
  },
  {
   "cell_type": "markdown",
   "id": "26d0a027",
   "metadata": {},
   "source": [
    "## NUMPY ARRAY"
   ]
  },
  {
   "cell_type": "code",
   "execution_count": 7,
   "id": "c9645a1c",
   "metadata": {},
   "outputs": [
    {
     "data": {
      "text/plain": [
       "array([1, 2, 3, 4, 5, 6, 7, 8, 9])"
      ]
     },
     "execution_count": 7,
     "metadata": {},
     "output_type": "execute_result"
    }
   ],
   "source": [
    "list1=[1,2,3,4,5,6,7,8,9]\n",
    "np.array(list1)"
   ]
  },
  {
   "cell_type": "code",
   "execution_count": 8,
   "id": "b7a332fa",
   "metadata": {},
   "outputs": [
    {
     "data": {
      "text/plain": [
       "numpy.ndarray"
      ]
     },
     "execution_count": 8,
     "metadata": {},
     "output_type": "execute_result"
    }
   ],
   "source": [
    "# N-Dimensional array\n",
    "type(np.array(list1))"
   ]
  },
  {
   "cell_type": "code",
   "execution_count": 12,
   "id": "e46d101e",
   "metadata": {},
   "outputs": [],
   "source": [
    "arr=np.array(list1)"
   ]
  },
  {
   "cell_type": "code",
   "execution_count": 13,
   "id": "d3dbb5af",
   "metadata": {},
   "outputs": [
    {
     "data": {
      "text/plain": [
       "dtype('int32')"
      ]
     },
     "execution_count": 13,
     "metadata": {},
     "output_type": "execute_result"
    }
   ],
   "source": [
    "arr.dtype"
   ]
  },
  {
   "cell_type": "code",
   "execution_count": 15,
   "id": "23bfc759",
   "metadata": {},
   "outputs": [
    {
     "data": {
      "text/plain": [
       "array([1, 2, 3, 4, 5, 6, 7, 8, 9])"
      ]
     },
     "execution_count": 15,
     "metadata": {},
     "output_type": "execute_result"
    }
   ],
   "source": [
    "arr"
   ]
  },
  {
   "cell_type": "code",
   "execution_count": 16,
   "id": "181355e5",
   "metadata": {},
   "outputs": [
    {
     "data": {
      "text/plain": [
       "(9,)"
      ]
     },
     "execution_count": 16,
     "metadata": {},
     "output_type": "execute_result"
    }
   ],
   "source": [
    "arr.shape"
   ]
  },
  {
   "cell_type": "code",
   "execution_count": 19,
   "id": "2d7e3fc9",
   "metadata": {},
   "outputs": [
    {
     "name": "stdout",
     "output_type": "stream",
     "text": [
      "1\n"
     ]
    }
   ],
   "source": [
    "print(arr.ndim)"
   ]
  },
  {
   "cell_type": "code",
   "execution_count": 21,
   "id": "792e6c68",
   "metadata": {},
   "outputs": [
    {
     "name": "stdout",
     "output_type": "stream",
     "text": [
      "4\n"
     ]
    }
   ],
   "source": [
    "print(arr.itemsize)     "
   ]
  },
  {
   "cell_type": "code",
   "execution_count": 23,
   "id": "848f1cf5",
   "metadata": {},
   "outputs": [
    {
     "name": "stdout",
     "output_type": "stream",
     "text": [
      "36\n"
     ]
    }
   ],
   "source": [
    "#returns size in bytes used by entire array\n",
    "print(arr.nbytes)"
   ]
  },
  {
   "cell_type": "markdown",
   "id": "5202de92",
   "metadata": {},
   "source": [
    "## ARRAY OPERATIONS\n",
    "    * Simple array math operations"
   ]
  },
  {
   "cell_type": "markdown",
   "id": "d77f37ea",
   "metadata": {},
   "source": [
    "### Why numpy arrays are better than lists ?"
   ]
  },
  {
   "cell_type": "code",
   "execution_count": 29,
   "id": "e9df963b",
   "metadata": {},
   "outputs": [
    {
     "name": "stdout",
     "output_type": "stream",
     "text": [
      "[5.0, 5.0, 10.0, 6.666666666666667, 10.0, 10.0, 14.0, 10.0, 10.0]\n"
     ]
    }
   ],
   "source": [
    "list1 = [10,20,30,40,50,60,70,80,90]\n",
    "list2 = [2,4,3,6,5,6,5,8,9]\n",
    "\n",
    "list3=[]\n",
    "for i in range (len(list1)):\n",
    "    list3.append(list1[i]/list2[i])\n",
    "    \n",
    "print(list3)"
   ]
  },
  {
   "cell_type": "code",
   "execution_count": 30,
   "id": "acfa9ef5",
   "metadata": {},
   "outputs": [
    {
     "data": {
      "text/plain": [
       "array([ 5.        ,  5.        , 10.        ,  6.66666667, 10.        ,\n",
       "       10.        , 14.        , 10.        , 10.        ])"
      ]
     },
     "execution_count": 30,
     "metadata": {},
     "output_type": "execute_result"
    }
   ],
   "source": [
    "arr1 = np.array([10,20,30,40,50,60,70,80,90])\n",
    "arr2 = np.array([2,4,3,6,5,6,5,8,9])\n",
    "\n",
    "# element by element division\n",
    "arr1/arr2"
   ]
  },
  {
   "cell_type": "code",
   "execution_count": 31,
   "id": "e1bc50aa",
   "metadata": {},
   "outputs": [
    {
     "data": {
      "text/plain": [
       "array([ 5., 10., 15., 20., 25., 30., 35., 40., 45.])"
      ]
     },
     "execution_count": 31,
     "metadata": {},
     "output_type": "execute_result"
    }
   ],
   "source": [
    "arr1 = np.array([10,20,30,40,50,60,70,80,90])\n",
    "arr2 = np.array([2])\n",
    "\n",
    "arr1/arr2"
   ]
  },
  {
   "cell_type": "code",
   "execution_count": 32,
   "id": "bb8259ff",
   "metadata": {
    "collapsed": true
   },
   "outputs": [
    {
     "ename": "ValueError",
     "evalue": "operands could not be broadcast together with shapes (9,) (8,) ",
     "output_type": "error",
     "traceback": [
      "\u001b[1;31m---------------------------------------------------------------------------\u001b[0m",
      "\u001b[1;31mValueError\u001b[0m                                Traceback (most recent call last)",
      "\u001b[1;32m~\\AppData\\Local\\Temp\\ipykernel_11832\\316415959.py\u001b[0m in \u001b[0;36m<module>\u001b[1;34m\u001b[0m\n\u001b[0;32m      2\u001b[0m \u001b[0marr2\u001b[0m \u001b[1;33m=\u001b[0m \u001b[0mnp\u001b[0m\u001b[1;33m.\u001b[0m\u001b[0marray\u001b[0m\u001b[1;33m(\u001b[0m\u001b[1;33m[\u001b[0m\u001b[1;36m2\u001b[0m\u001b[1;33m,\u001b[0m\u001b[1;36m4\u001b[0m\u001b[1;33m,\u001b[0m\u001b[1;36m3\u001b[0m\u001b[1;33m,\u001b[0m\u001b[1;36m6\u001b[0m\u001b[1;33m,\u001b[0m\u001b[1;36m5\u001b[0m\u001b[1;33m,\u001b[0m\u001b[1;36m6\u001b[0m\u001b[1;33m,\u001b[0m\u001b[1;36m5\u001b[0m\u001b[1;33m,\u001b[0m\u001b[1;36m8\u001b[0m\u001b[1;33m]\u001b[0m\u001b[1;33m)\u001b[0m\u001b[1;33m\u001b[0m\u001b[1;33m\u001b[0m\u001b[0m\n\u001b[0;32m      3\u001b[0m \u001b[1;33m\u001b[0m\u001b[0m\n\u001b[1;32m----> 4\u001b[1;33m \u001b[0marr1\u001b[0m\u001b[1;33m/\u001b[0m\u001b[0marr2\u001b[0m\u001b[1;33m\u001b[0m\u001b[1;33m\u001b[0m\u001b[0m\n\u001b[0m",
      "\u001b[1;31mValueError\u001b[0m: operands could not be broadcast together with shapes (9,) (8,) "
     ]
    }
   ],
   "source": [
    "arr1 = np.array([10,20,30,40,50,60,70,80,90])\n",
    "arr2 = np.array([2,4,3,6,5,6,5,8])\n",
    "\n",
    "arr1/arr2"
   ]
  },
  {
   "cell_type": "code",
   "execution_count": 34,
   "id": "9452a1f5",
   "metadata": {},
   "outputs": [
    {
     "data": {
      "text/plain": [
       "array([ 0,  1,  2,  3,  4,  5,  6,  7,  8,  9, 10])"
      ]
     },
     "execution_count": 34,
     "metadata": {},
     "output_type": "execute_result"
    }
   ],
   "source": [
    "# generate numpy array using arange(start, stop, stepsize)\n",
    "\n",
    "np.arange(0,11)"
   ]
  },
  {
   "cell_type": "code",
   "execution_count": 36,
   "id": "37f8ea27",
   "metadata": {},
   "outputs": [
    {
     "data": {
      "text/plain": [
       "array([ 2,  4,  6,  8, 10, 12, 14, 16, 18, 20])"
      ]
     },
     "execution_count": 36,
     "metadata": {},
     "output_type": "execute_result"
    }
   ],
   "source": [
    "np.arange(2,21,2)"
   ]
  },
  {
   "cell_type": "code",
   "execution_count": 50,
   "id": "46f57a57",
   "metadata": {},
   "outputs": [
    {
     "name": "stdout",
     "output_type": "stream",
     "text": [
      "136\n"
     ]
    },
    {
     "data": {
      "text/plain": [
       "36"
      ]
     },
     "execution_count": 50,
     "metadata": {},
     "output_type": "execute_result"
    }
   ],
   "source": [
    "list1 = [10,20,30,40,50,60,70,80,90]\n",
    "arr1 = np.array([10,20,30,40,50,60,70,80,90])\n",
    "\n",
    "print(list1.__sizeof__())\n",
    "arr1.nbytes"
   ]
  },
  {
   "cell_type": "markdown",
   "id": "15c57ded",
   "metadata": {},
   "source": [
    "## TYPES OF NUMPY ARRAY\n"
   ]
  },
  {
   "cell_type": "code",
   "execution_count": 38,
   "id": "9d203479",
   "metadata": {},
   "outputs": [
    {
     "name": "stdout",
     "output_type": "stream",
     "text": [
      "[10 20 30 40 50 34 54 12 88]\n"
     ]
    }
   ],
   "source": [
    "# dtype = mention datatype with size\n",
    "# int8, int16, int32, int64\n",
    "\n",
    "# -128 to 127\n",
    "arr1 = np.array([10,20,30,40,50,34,54,12,5464],dtype='int8')\n",
    "print(arr1)"
   ]
  },
  {
   "cell_type": "code",
   "execution_count": 39,
   "id": "71eb0fa9",
   "metadata": {},
   "outputs": [
    {
     "name": "stdout",
     "output_type": "stream",
     "text": [
      "[10. 12. 23. 24. 65. 54.]\n"
     ]
    }
   ],
   "source": [
    "arr2 = np.array([10.,12.,23.,24.,65.,54.], dtype = 'float16')\n",
    "print(arr2)"
   ]
  },
  {
   "cell_type": "markdown",
   "id": "3232fa60",
   "metadata": {},
   "source": [
    "### Create a list with range (1, 1,00,000)"
   ]
  },
  {
   "cell_type": "code",
   "execution_count": 53,
   "id": "a77ef8ee",
   "metadata": {},
   "outputs": [
    {
     "name": "stdout",
     "output_type": "stream",
     "text": [
      "4999950000\n"
     ]
    }
   ],
   "source": [
    "list1 = []\n",
    "n=0\n",
    "for i in range (1,100000):\n",
    "    n=n+1\n",
    "    list1.append(n)\n",
    "ls=sum(list1)\n",
    "print(ls)"
   ]
  },
  {
   "cell_type": "code",
   "execution_count": 62,
   "id": "8ece1360",
   "metadata": {},
   "outputs": [
    {
     "name": "stdout",
     "output_type": "stream",
     "text": [
      "0.027169466018676758\n",
      "0.0006945133209228516\n"
     ]
    }
   ],
   "source": [
    "import time\n",
    "\n",
    "size=100000\n",
    "\n",
    "def list_version():\n",
    "    begin=time.time()\n",
    "    list1 = list(range(size))\n",
    "    list2 = list(range(size))\n",
    "    list3=[]\n",
    "    for i in range (1,100000):\n",
    "        list3.append(list1[i]+list2[i])\n",
    "    #print(list3)\n",
    "    end=time.time()\n",
    "    print(end - begin)\n",
    "\n",
    "def numpy_version():\n",
    "    begin=time.time()\n",
    "    arr1=np.arange(0,100000)\n",
    "    arr2=np.arange(0,100000)\n",
    "    arr1+arr2\n",
    "    end=time.time()\n",
    "    print(end - begin)\n",
    "    \n",
    "list_version()\n",
    "numpy_version()"
   ]
  },
  {
   "cell_type": "markdown",
   "id": "2a09955c",
   "metadata": {},
   "source": [
    "## 2-D ARRAY"
   ]
  },
  {
   "cell_type": "code",
   "execution_count": 68,
   "id": "39029488",
   "metadata": {},
   "outputs": [],
   "source": [
    "# 2D array -> MATRIX\n",
    "\n",
    "arr4=np.array([[0,1,2,3,4,5,6,7,],\n",
    "              [10,11,12,13,14,15,16,17]])"
   ]
  },
  {
   "cell_type": "code",
   "execution_count": 70,
   "id": "a5503004",
   "metadata": {},
   "outputs": [
    {
     "data": {
      "text/plain": [
       "(2, 8)"
      ]
     },
     "execution_count": 70,
     "metadata": {},
     "output_type": "execute_result"
    }
   ],
   "source": [
    "# shape =(row,columns)\n",
    "\n",
    "arr4.shape"
   ]
  },
  {
   "cell_type": "code",
   "execution_count": 67,
   "id": "80d94ffe",
   "metadata": {},
   "outputs": [
    {
     "data": {
      "text/plain": [
       "(2, 8)"
      ]
     },
     "execution_count": 67,
     "metadata": {},
     "output_type": "execute_result"
    }
   ],
   "source": [
    "# shape[0]= rows, shape[1]=columns\n",
    "\n",
    "arr4.shape[0], arr4.shape[1]"
   ]
  },
  {
   "cell_type": "code",
   "execution_count": 71,
   "id": "ac4a6cdf",
   "metadata": {},
   "outputs": [
    {
     "name": "stdout",
     "output_type": "stream",
     "text": [
      "2\n"
     ]
    }
   ],
   "source": [
    "# returns dimension\n",
    "\n",
    "print(arr4.ndim)"
   ]
  },
  {
   "cell_type": "markdown",
   "id": "787273a7",
   "metadata": {},
   "source": [
    "#### INDEXING"
   ]
  },
  {
   "cell_type": "code",
   "execution_count": 72,
   "id": "9ff6fac7",
   "metadata": {},
   "outputs": [
    {
     "data": {
      "text/plain": [
       "array([0, 1, 2, 3, 4, 5, 6, 7])"
      ]
     },
     "execution_count": 72,
     "metadata": {},
     "output_type": "execute_result"
    }
   ],
   "source": [
    "# slicing in numpy array\n",
    "# displays first row \n",
    "\n",
    "arr4[0]"
   ]
  },
  {
   "cell_type": "code",
   "execution_count": 77,
   "id": "90873338",
   "metadata": {},
   "outputs": [
    {
     "name": "stdout",
     "output_type": "stream",
     "text": [
      "13\n",
      "13\n"
     ]
    }
   ],
   "source": [
    "# display single element row\n",
    "\n",
    "print(arr4[1][3])\n",
    "print(arr4[1,3])"
   ]
  },
  {
   "cell_type": "code",
   "execution_count": 79,
   "id": "85292021",
   "metadata": {},
   "outputs": [
    {
     "data": {
      "text/plain": [
       "17"
      ]
     },
     "execution_count": 79,
     "metadata": {},
     "output_type": "execute_result"
    }
   ],
   "source": [
    "# indexing 2D array\n",
    "# first -1 is for row, -1 is for column\n",
    "\n",
    "arr4[-1,-1]"
   ]
  },
  {
   "cell_type": "code",
   "execution_count": 81,
   "id": "e98d4abb",
   "metadata": {},
   "outputs": [
    {
     "data": {
      "text/plain": [
       "array([[ 0,  1,  2,  3,  4,  5,  6,  7],\n",
       "       [10, 11, 12, 13, 14, 15, 16, 15]])"
      ]
     },
     "execution_count": 81,
     "metadata": {},
     "output_type": "execute_result"
    }
   ],
   "source": [
    "# update in numpy array\n",
    "\n",
    "arr4[-1,-1]=15\n",
    "arr4"
   ]
  },
  {
   "cell_type": "markdown",
   "id": "22d2dfcd",
   "metadata": {},
   "source": [
    "#### SLICING"
   ]
  },
  {
   "cell_type": "code",
   "execution_count": 82,
   "id": "f11e6d76",
   "metadata": {},
   "outputs": [
    {
     "data": {
      "text/plain": [
       "array([[0, 1, 2, 3, 4, 5, 6]])"
      ]
     },
     "execution_count": 82,
     "metadata": {},
     "output_type": "execute_result"
    }
   ],
   "source": [
    "# slicing to 2D array\n",
    "# displays all rows and columns except last row and last column\n",
    "\n",
    "arr4[:-1,:-1]"
   ]
  },
  {
   "cell_type": "markdown",
   "id": "df9d0329",
   "metadata": {},
   "source": [
    "## 3D ARRAY"
   ]
  },
  {
   "cell_type": "code",
   "execution_count": 118,
   "id": "430bf92c",
   "metadata": {},
   "outputs": [],
   "source": [
    "# 3D array -> MULTI DIMENSIONAL ARRAY / TENSOR\n",
    "\n",
    "arr=np.array([[[0,1,2,3,4,5,6,7,],\n",
    "               [10,11,12,13,14,15,16,17]],\n",
    "              \n",
    "              [[0,1,2,3,4,5,6,7,],\n",
    "               [10,11,12,13,14,15,16,17]],\n",
    "              \n",
    "              [[0,1,2,3,4,5,6,7,],\n",
    "               [10,11,12,13,14,15,16,17]]])"
   ]
  },
  {
   "cell_type": "code",
   "execution_count": 124,
   "id": "e58d76d4",
   "metadata": {},
   "outputs": [
    {
     "name": "stdout",
     "output_type": "stream",
     "text": [
      "[[[0 1 2 3 4 5 6]]\n",
      "\n",
      " [[0 1 2 3 4 5 6]]]\n"
     ]
    }
   ],
   "source": [
    "print(arr[:-1,:-1,:-1])"
   ]
  },
  {
   "cell_type": "code",
   "execution_count": 120,
   "id": "f3af78d4",
   "metadata": {},
   "outputs": [
    {
     "name": "stdout",
     "output_type": "stream",
     "text": [
      "[[[ 0  1  2  3  4  5  6  7]\n",
      "  [10 11 12 13 14 15 16 17]]\n",
      "\n",
      " [[ 0  1  2  3  4  5  6  7]\n",
      "  [10 11 12 13 14 15 16 17]]\n",
      "\n",
      " [[ 0  1  2  3  4  5  6  7]\n",
      "  [10 11 12 13 14 15 16 17]]]\n"
     ]
    }
   ],
   "source": [
    "print(arr)"
   ]
  },
  {
   "cell_type": "code",
   "execution_count": 121,
   "id": "744b63af",
   "metadata": {},
   "outputs": [
    {
     "data": {
      "text/plain": [
       "(3, 2, 8)"
      ]
     },
     "execution_count": 121,
     "metadata": {},
     "output_type": "execute_result"
    }
   ],
   "source": [
    "# RANK, ROWS, COLUMNS\n",
    "\n",
    "arr.shape"
   ]
  },
  {
   "cell_type": "code",
   "execution_count": 87,
   "id": "0069e8ce",
   "metadata": {},
   "outputs": [
    {
     "data": {
      "text/plain": [
       "48"
      ]
     },
     "execution_count": 87,
     "metadata": {},
     "output_type": "execute_result"
    }
   ],
   "source": [
    "# shows the length of all elements(3*2*8)\n",
    "# size = number of elements in an array\n",
    "\n",
    "arr.size"
   ]
  },
  {
   "cell_type": "code",
   "execution_count": 88,
   "id": "b7484a67",
   "metadata": {},
   "outputs": [
    {
     "name": "stdout",
     "output_type": "stream",
     "text": [
      "14\n",
      "14\n"
     ]
    }
   ],
   "source": [
    "print(arr[1][1][4])\n",
    "print(arr[1,1,4])"
   ]
  },
  {
   "cell_type": "markdown",
   "id": "d3826e8e",
   "metadata": {},
   "source": [
    "#### Empty array and fill it with some constant values"
   ]
  },
  {
   "cell_type": "code",
   "execution_count": 91,
   "id": "bd6aba1e",
   "metadata": {},
   "outputs": [
    {
     "data": {
      "text/plain": [
       "array([1, 1, 1, 1, 1, 1], dtype=int8)"
      ]
     },
     "execution_count": 91,
     "metadata": {},
     "output_type": "execute_result"
    }
   ],
   "source": [
    "arr = np.empty(6, dtype='int8')\n",
    "arr"
   ]
  },
  {
   "cell_type": "code",
   "execution_count": 92,
   "id": "2c182d7e",
   "metadata": {},
   "outputs": [
    {
     "data": {
      "text/plain": [
       "array([[ 0,  1,  2,  3,  4,  5],\n",
       "       [ 6,  7,  8,  9, 10, 11],\n",
       "       [12, 13, 14, 15, 16, 17],\n",
       "       [18, 19, 20, 21, 22, 23],\n",
       "       [24, 25, 26, 27, 28, 29],\n",
       "       [30, 31, 32, 33, 34, 35]])"
      ]
     },
     "execution_count": 92,
     "metadata": {},
     "output_type": "execute_result"
    }
   ],
   "source": [
    "arr1 = np.arange(0,36).reshape(6,6)\n",
    "arr1"
   ]
  },
  {
   "cell_type": "code",
   "execution_count": 96,
   "id": "d7e98875",
   "metadata": {},
   "outputs": [
    {
     "data": {
      "text/plain": [
       "array([[[ 0,  1,  2],\n",
       "        [ 3,  4,  5],\n",
       "        [ 6,  7,  8]],\n",
       "\n",
       "       [[ 9, 10, 11],\n",
       "        [12, 13, 14],\n",
       "        [15, 16, 17]],\n",
       "\n",
       "       [[18, 19, 20],\n",
       "        [21, 22, 23],\n",
       "        [24, 25, 26]],\n",
       "\n",
       "       [[27, 28, 29],\n",
       "        [30, 31, 32],\n",
       "        [33, 34, 35]]])"
      ]
     },
     "execution_count": 96,
     "metadata": {},
     "output_type": "execute_result"
    }
   ],
   "source": [
    "arr1 = np.arange(0,36).reshape(4,3,3)\n",
    "arr1"
   ]
  },
  {
   "cell_type": "markdown",
   "id": "16710ad4",
   "metadata": {},
   "source": [
    " #### REVERSE AN ARRAY"
   ]
  },
  {
   "cell_type": "code",
   "execution_count": 98,
   "id": "a388a0ab",
   "metadata": {},
   "outputs": [
    {
     "data": {
      "text/plain": [
       "array([49, 48, 47, 46, 45, 44, 43, 42, 41, 40, 39, 38, 37, 36, 35, 34, 33,\n",
       "       32, 31, 30, 29, 28, 27, 26, 25, 24, 23, 22, 21, 20, 19, 18, 17, 16,\n",
       "       15, 14, 13, 12, 11, 10,  9,  8,  7,  6,  5,  4,  3,  2,  1,  0])"
      ]
     },
     "execution_count": 98,
     "metadata": {},
     "output_type": "execute_result"
    }
   ],
   "source": [
    "arr3 = np.arange(50)\n",
    "arr3[::-1]"
   ]
  },
  {
   "cell_type": "code",
   "execution_count": 83,
   "id": "271ca095",
   "metadata": {},
   "outputs": [],
   "source": [
    "import numpy as np"
   ]
  },
  {
   "cell_type": "code",
   "execution_count": 84,
   "id": "d28e7d67",
   "metadata": {},
   "outputs": [
    {
     "data": {
      "text/plain": [
       "array([ 0,  1,  2,  3,  4,  5,  6,  7,  8,  9, 10, 11, 12, 13, 14, 15, 16,\n",
       "       17, 18, 19, 20, 21, 22, 23, 24, 25, 26, 27, 28, 29, 30, 31, 32, 33,\n",
       "       34, 35, 36, 37, 38, 39, 40, 41, 42, 43, 44, 45, 46, 47, 48, 49])"
      ]
     },
     "execution_count": 84,
     "metadata": {},
     "output_type": "execute_result"
    }
   ],
   "source": [
    "arr= np.arange(50)\n",
    "arr"
   ]
  },
  {
   "cell_type": "code",
   "execution_count": 86,
   "id": "96765261",
   "metadata": {},
   "outputs": [
    {
     "data": {
      "text/plain": [
       "array([49, 48, 47, 46, 45, 44, 43, 42, 41, 40, 39, 38, 37, 36, 35, 34, 33,\n",
       "       32, 31, 30, 29, 28, 27, 26, 25, 24, 23, 22, 21, 20, 19, 18, 17, 16,\n",
       "       15, 14, 13, 12, 11, 10,  9,  8,  7,  6,  5,  4,  3,  2,  1,  0])"
      ]
     },
     "execution_count": 86,
     "metadata": {},
     "output_type": "execute_result"
    }
   ],
   "source": [
    "arr[::-1]"
   ]
  },
  {
   "cell_type": "code",
   "execution_count": 90,
   "id": "c43c5b83",
   "metadata": {},
   "outputs": [
    {
     "data": {
      "text/plain": [
       "array([[ 0,  1,  2,  3,  4,  5],\n",
       "       [ 6,  7,  8,  9, 10, 11],\n",
       "       [12, 13, 14, 15, 16, 17],\n",
       "       [18, 19, 20, 21, 22, 23],\n",
       "       [24, 25, 26, 27, 28, 29],\n",
       "       [30, 31, 32, 33, 34, 35]])"
      ]
     },
     "execution_count": 90,
     "metadata": {},
     "output_type": "execute_result"
    }
   ],
   "source": [
    "arr2=np.arange(0,36).reshape(6,6)\n",
    "arr2"
   ]
  },
  {
   "cell_type": "code",
   "execution_count": 93,
   "id": "4f677a05",
   "metadata": {},
   "outputs": [
    {
     "data": {
      "text/plain": [
       "array([[30, 31, 32, 33, 34, 35],\n",
       "       [24, 25, 26, 27, 28, 29],\n",
       "       [18, 19, 20, 21, 22, 23],\n",
       "       [12, 13, 14, 15, 16, 17],\n",
       "       [ 6,  7,  8,  9, 10, 11],\n",
       "       [ 0,  1,  2,  3,  4,  5]])"
      ]
     },
     "execution_count": 93,
     "metadata": {},
     "output_type": "execute_result"
    }
   ],
   "source": [
    "# ud() -> up/down\n",
    "np.flipud(arr2)"
   ]
  },
  {
   "cell_type": "code",
   "execution_count": 96,
   "id": "e50c3b19",
   "metadata": {},
   "outputs": [
    {
     "name": "stdout",
     "output_type": "stream",
     "text": [
      "[[ 0  1  2  3  4  5]\n",
      " [ 6  7  8  9 10 11]\n",
      " [12 13 14 15 16 17]\n",
      " [18 19 20 21 22 23]\n",
      " [24 25 26 27 28 29]\n",
      " [30 31 32 33 34 35]]\n"
     ]
    },
    {
     "data": {
      "text/plain": [
       "array([[ 5,  4,  3,  2,  1,  0],\n",
       "       [11, 10,  9,  8,  7,  6],\n",
       "       [17, 16, 15, 14, 13, 12],\n",
       "       [23, 22, 21, 20, 19, 18],\n",
       "       [29, 28, 27, 26, 25, 24],\n",
       "       [35, 34, 33, 32, 31, 30]])"
      ]
     },
     "execution_count": 96,
     "metadata": {},
     "output_type": "execute_result"
    }
   ],
   "source": [
    "# lr() -> left/right\n",
    "print(arr2)\n",
    "np.fliplr(arr2)"
   ]
  },
  {
   "cell_type": "code",
   "execution_count": 99,
   "id": "c0a60454",
   "metadata": {},
   "outputs": [
    {
     "name": "stdout",
     "output_type": "stream",
     "text": [
      "[[ 0  1  2  3  4  5]\n",
      " [ 6  7  8  9 10 11]\n",
      " [12 13 14 15 16 17]\n",
      " [18 19 20 21 22 23]\n",
      " [24 25 26 27 28 29]\n",
      " [30 31 32 33 34 35]]\n"
     ]
    },
    {
     "data": {
      "text/plain": [
       "array([[35, 34, 33, 32, 31, 30],\n",
       "       [29, 28, 27, 26, 25, 24],\n",
       "       [23, 22, 21, 20, 19, 18],\n",
       "       [17, 16, 15, 14, 13, 12],\n",
       "       [11, 10,  9,  8,  7,  6],\n",
       "       [ 5,  4,  3,  2,  1,  0]])"
      ]
     },
     "execution_count": 99,
     "metadata": {},
     "output_type": "execute_result"
    }
   ],
   "source": [
    "# up/down and left/right\n",
    "print(arr2)\n",
    "np.flip(arr2)"
   ]
  },
  {
   "cell_type": "markdown",
   "id": "94094827",
   "metadata": {},
   "source": [
    "#### Create an array using methods\n",
    "    * np.ones()\n",
    "    * np.zeros()"
   ]
  },
  {
   "cell_type": "code",
   "execution_count": 100,
   "id": "928a873b",
   "metadata": {},
   "outputs": [
    {
     "data": {
      "text/plain": [
       "array([[0., 0., 0., 0., 0., 0.],\n",
       "       [0., 0., 0., 0., 0., 0.],\n",
       "       [0., 0., 0., 0., 0., 0.],\n",
       "       [0., 0., 0., 0., 0., 0.],\n",
       "       [0., 0., 0., 0., 0., 0.],\n",
       "       [0., 0., 0., 0., 0., 0.]], dtype=float16)"
      ]
     },
     "execution_count": 100,
     "metadata": {},
     "output_type": "execute_result"
    }
   ],
   "source": [
    "# shape 3 rows, 6 columns\n",
    "\n",
    "np.zeros((6,6), dtype=\"float16\")"
   ]
  },
  {
   "cell_type": "markdown",
   "id": "f4c7ee98",
   "metadata": {},
   "source": [
    "    * Identity Matrix \n",
    "        * Generate a N x N identity matrix. The default matrix dtype is float64\n",
    "        * Diagonal values are 1, non-diagonal values are 0"
   ]
  },
  {
   "cell_type": "code",
   "execution_count": 101,
   "id": "3a601c6a",
   "metadata": {},
   "outputs": [
    {
     "data": {
      "text/plain": [
       "array([[1., 0., 0., 0., 0., 0., 0.],\n",
       "       [0., 1., 0., 0., 0., 0., 0.],\n",
       "       [0., 0., 1., 0., 0., 0., 0.],\n",
       "       [0., 0., 0., 1., 0., 0., 0.],\n",
       "       [0., 0., 0., 0., 1., 0., 0.],\n",
       "       [0., 0., 0., 0., 0., 1., 0.],\n",
       "       [0., 0., 0., 0., 0., 0., 1.]])"
      ]
     },
     "execution_count": 101,
     "metadata": {},
     "output_type": "execute_result"
    }
   ],
   "source": [
    "np.identity(7)"
   ]
  },
  {
   "cell_type": "code",
   "execution_count": 102,
   "id": "42873c08",
   "metadata": {},
   "outputs": [
    {
     "data": {
      "text/plain": [
       "array([[1, 0, 0, 0, 0, 0, 0],\n",
       "       [0, 1, 0, 0, 0, 0, 0],\n",
       "       [0, 0, 1, 0, 0, 0, 0],\n",
       "       [0, 0, 0, 1, 0, 0, 0],\n",
       "       [0, 0, 0, 0, 1, 0, 0],\n",
       "       [0, 0, 0, 0, 0, 1, 0],\n",
       "       [0, 0, 0, 0, 0, 0, 1]], dtype=int8)"
      ]
     },
     "execution_count": 102,
     "metadata": {},
     "output_type": "execute_result"
    }
   ],
   "source": [
    "np.identity(7,dtype = 'int8')"
   ]
  },
  {
   "cell_type": "code",
   "execution_count": 103,
   "id": "55178ce2",
   "metadata": {},
   "outputs": [
    {
     "data": {
      "text/plain": [
       "array([0. , 0.1, 0.2, 0.3, 0.4, 0.5, 0.6, 0.7, 0.8, 0.9, 1. ])"
      ]
     },
     "execution_count": 103,
     "metadata": {},
     "output_type": "execute_result"
    }
   ],
   "source": [
    "# (start,stop,no of elements)\n",
    "# equally spaced \n",
    "\n",
    "np.linspace(0,1,11)"
   ]
  },
  {
   "cell_type": "code",
   "execution_count": null,
   "id": "8234f079",
   "metadata": {},
   "outputs": [],
   "source": [
    "## exercise :\n",
    "[ 1 1 1 1 1 1 1 1 \n",
    "  1 0 0 0 0 0 0 1\n",
    "  1 0 0 0 0 0 0 1\n",
    "  1 0 0 0 0 0 0 1\n",
    "  1 0 0 0 0 0 0 1\n",
    "  1 1 1 1 1 1 1 1]"
   ]
  },
  {
   "cell_type": "code",
   "execution_count": 1,
   "id": "e9e085a9",
   "metadata": {},
   "outputs": [],
   "source": [
    "import numpy as np"
   ]
  },
  {
   "cell_type": "code",
   "execution_count": 9,
   "id": "28db984e",
   "metadata": {},
   "outputs": [
    {
     "name": "stdout",
     "output_type": "stream",
     "text": [
      "Enter rows : 5\n",
      "Enter columns : 6\n",
      "[[1 1 1 1 1 1]\n",
      " [1 0 0 0 0 1]\n",
      " [1 0 0 0 0 1]\n",
      " [1 0 0 0 0 1]\n",
      " [1 1 1 1 1 1]]\n"
     ]
    }
   ],
   "source": [
    "row = int(input(\"Enter rows : \"))\n",
    "col = int(input(\"Enter columns : \"))\n",
    "\n",
    "#arr = np.identity(row)\n",
    "arr = np.zeros((row,col), dtype=\"int8\")\n",
    "\n",
    "for i in range (row):\n",
    "    for j in range (col):\n",
    "        if (i==0 or j==0):\n",
    "            arr[i][j]=1\n",
    "        elif (i==(row-1) or j==(col-1)):\n",
    "            arr[i][j]=1\n",
    "        else:\n",
    "            arr[i][j]=0\n",
    "\n",
    "print(arr)"
   ]
  },
  {
   "cell_type": "code",
   "execution_count": 8,
   "id": "4ce60f10",
   "metadata": {},
   "outputs": [
    {
     "name": "stdout",
     "output_type": "stream",
     "text": [
      "Enter rows : 5\n",
      "Enter columns : 5\n",
      "[[1 0 1 0 1]\n",
      " [0 1 0 1 0]\n",
      " [1 0 1 0 1]\n",
      " [0 1 0 1 0]\n",
      " [1 0 1 0 1]]\n"
     ]
    }
   ],
   "source": [
    "row = int(input(\"Enter rows : \"))\n",
    "col = int(input(\"Enter columns : \"))\n",
    "\n",
    "arr = np.ones((row,col),dtype=\"int8\")\n",
    "\n",
    "for i in range (row):\n",
    "    for j in range (col):\n",
    "        if(i%2 == 0):\n",
    "            if(j%2 == 0):\n",
    "                arr[i][j]=1\n",
    "            else:\n",
    "                arr[i][j]=0\n",
    "        else:\n",
    "            if(j%2 != 0):\n",
    "                arr[i][j]=1\n",
    "            else:\n",
    "                arr[i][j]=0 \n",
    "\n",
    "print(arr)"
   ]
  },
  {
   "cell_type": "code",
   "execution_count": 12,
   "id": "8dc241f5",
   "metadata": {},
   "outputs": [
    {
     "data": {
      "text/plain": [
       "array([[1., 1., 1., 1., 1.],\n",
       "       [1., 0., 0., 0., 1.],\n",
       "       [1., 0., 0., 0., 1.],\n",
       "       [1., 0., 0., 0., 1.],\n",
       "       [1., 1., 1., 1., 1.]])"
      ]
     },
     "execution_count": 12,
     "metadata": {},
     "output_type": "execute_result"
    }
   ],
   "source": [
    "arr = np.ones((5,5))\n",
    "# slicing in an array\n",
    "arr[1:-1,1:-1] = 0\n",
    "arr"
   ]
  },
  {
   "cell_type": "code",
   "execution_count": 13,
   "id": "7722ef09",
   "metadata": {},
   "outputs": [
    {
     "data": {
      "text/plain": [
       "array([[1., 0., 1., 0., 1.],\n",
       "       [0., 1., 0., 1., 0.],\n",
       "       [1., 0., 1., 0., 1.],\n",
       "       [0., 1., 0., 1., 0.],\n",
       "       [1., 0., 1., 0., 1.]])"
      ]
     },
     "execution_count": 13,
     "metadata": {},
     "output_type": "execute_result"
    }
   ],
   "source": [
    "arr = np.ones((5,5))\n",
    "# slicing in an array\n",
    "arr[1::2,0::2] = 0\n",
    "arr[0::2,1::2] = 0\n",
    "arr"
   ]
  },
  {
   "cell_type": "markdown",
   "id": "1adb45d4",
   "metadata": {},
   "source": [
    "### NULL VALUES"
   ]
  },
  {
   "cell_type": "code",
   "execution_count": 15,
   "id": "0467d65b",
   "metadata": {},
   "outputs": [
    {
     "data": {
      "text/plain": [
       "array([[ 1., nan,  1., nan,  1.],\n",
       "       [nan,  1., nan,  1., nan],\n",
       "       [ 1., nan,  1., nan,  1.],\n",
       "       [nan,  1., nan,  1., nan],\n",
       "       [ 1., nan,  1., nan,  1.]])"
      ]
     },
     "execution_count": 15,
     "metadata": {},
     "output_type": "execute_result"
    }
   ],
   "source": [
    "arr = np.ones((5,5))\n",
    "arr[1::2,0::2] = np.nan\n",
    "arr[0::2,1::2] = np.nan\n",
    "arr"
   ]
  },
  {
   "cell_type": "code",
   "execution_count": 19,
   "id": "121e7d18",
   "metadata": {},
   "outputs": [
    {
     "data": {
      "text/plain": [
       "array([[ 1.,  1.,  1.,  1.,  1.],\n",
       "       [ 1., nan, nan, nan,  1.],\n",
       "       [ 1., nan, nan, nan,  1.],\n",
       "       [ 1., nan, nan, nan,  1.],\n",
       "       [ 1.,  1.,  1.,  1.,  1.]])"
      ]
     },
     "execution_count": 19,
     "metadata": {},
     "output_type": "execute_result"
    }
   ],
   "source": [
    "arr = np.ones((5,5))\n",
    "arr[1:-1,1:-1] = np.nan\n",
    "arr"
   ]
  },
  {
   "cell_type": "code",
   "execution_count": 20,
   "id": "bf8ff6ea",
   "metadata": {},
   "outputs": [
    {
     "data": {
      "text/plain": [
       "array([[False, False, False, False, False],\n",
       "       [False,  True,  True,  True, False],\n",
       "       [False,  True,  True,  True, False],\n",
       "       [False,  True,  True,  True, False],\n",
       "       [False, False, False, False, False]])"
      ]
     },
     "execution_count": 20,
     "metadata": {},
     "output_type": "execute_result"
    }
   ],
   "source": [
    "# isnan() - returns boolean value, True for missing data, false for not-missing data\n",
    "np.isnan(arr) == True"
   ]
  },
  {
   "cell_type": "code",
   "execution_count": 24,
   "id": "89beada2",
   "metadata": {},
   "outputs": [
    {
     "data": {
      "text/plain": [
       "16"
      ]
     },
     "execution_count": 24,
     "metadata": {},
     "output_type": "execute_result"
    }
   ],
   "source": [
    "# np.count_nonzero() counts False/0 values\n",
    "np.count_nonzero(~np.isnan(arr))"
   ]
  },
  {
   "cell_type": "code",
   "execution_count": 26,
   "id": "5527460f",
   "metadata": {},
   "outputs": [
    {
     "data": {
      "text/plain": [
       "9"
      ]
     },
     "execution_count": 26,
     "metadata": {},
     "output_type": "execute_result"
    }
   ],
   "source": [
    "np.count_nonzero(np.isnan(arr))"
   ]
  },
  {
   "cell_type": "code",
   "execution_count": 27,
   "id": "0e9b7b0d",
   "metadata": {},
   "outputs": [
    {
     "data": {
      "text/plain": [
       "25"
      ]
     },
     "execution_count": 27,
     "metadata": {},
     "output_type": "execute_result"
    }
   ],
   "source": [
    "np.count_nonzero(arr)"
   ]
  },
  {
   "cell_type": "code",
   "execution_count": null,
   "id": "e0861d0a",
   "metadata": {},
   "outputs": [],
   "source": [
    "[A,B,C,D\n",
    " E,F,G,H\n",
    " I,J,K,L\n",
    " M,N,O,P\n",
    " Q,R,S,T\n",
    " U,V,W,X]\n",
    "\n",
    "A,E,I,O,U - np.nan"
   ]
  },
  {
   "cell_type": "code",
   "execution_count": 111,
   "id": "4ec27f0a",
   "metadata": {},
   "outputs": [
    {
     "name": "stdout",
     "output_type": "stream",
     "text": [
      "2\n"
     ]
    },
    {
     "ename": "TypeError",
     "evalue": "ufunc 'isnan' not supported for the input types, and the inputs could not be safely coerced to any supported types according to the casting rule ''safe''",
     "output_type": "error",
     "traceback": [
      "\u001b[1;31m---------------------------------------------------------------------------\u001b[0m",
      "\u001b[1;31mTypeError\u001b[0m                                 Traceback (most recent call last)",
      "\u001b[1;32m~\\AppData\\Local\\Temp\\ipykernel_8080\\1903587119.py\u001b[0m in \u001b[0;36m<module>\u001b[1;34m\u001b[0m\n\u001b[0;32m     20\u001b[0m \u001b[0marr\u001b[0m\u001b[1;33m\u001b[0m\u001b[1;33m\u001b[0m\u001b[0m\n\u001b[0;32m     21\u001b[0m \u001b[0mlst\u001b[0m\u001b[1;33m=\u001b[0m\u001b[0mlist\u001b[0m\u001b[1;33m(\u001b[0m\u001b[0marr\u001b[0m\u001b[1;33m)\u001b[0m\u001b[1;33m\u001b[0m\u001b[1;33m\u001b[0m\u001b[0m\n\u001b[1;32m---> 22\u001b[1;33m \u001b[0mnp\u001b[0m\u001b[1;33m.\u001b[0m\u001b[0mcount_nonzero\u001b[0m\u001b[1;33m(\u001b[0m\u001b[0mnp\u001b[0m\u001b[1;33m.\u001b[0m\u001b[0misnan\u001b[0m\u001b[1;33m(\u001b[0m\u001b[0mlst\u001b[0m\u001b[1;33m)\u001b[0m\u001b[1;33m)\u001b[0m\u001b[1;33m\u001b[0m\u001b[1;33m\u001b[0m\u001b[0m\n\u001b[0m",
      "\u001b[1;31mTypeError\u001b[0m: ufunc 'isnan' not supported for the input types, and the inputs could not be safely coerced to any supported types according to the casting rule ''safe''"
     ]
    }
   ],
   "source": [
    "import random\n",
    "import string \n",
    "\n",
    "arr=np.empty((6,4),dtype=\"object\")\n",
    "\n",
    "for i in range(6):\n",
    "    for j in range(4):\n",
    "        arr[i][j] = random.choice(string.ascii_uppercase)\n",
    "        \n",
    "\n",
    "count=0;\n",
    "for i in range(6):\n",
    "    for j in range(4):\n",
    "        if(arr[i][j] == 'A' or arr[i][j] == 'E' or arr[i][j] == 'I' or arr[i][j] == 'O' or arr[i][j] == 'U'):\n",
    "            arr[i][j] = str(np.nan)\n",
    "            count+=1\n",
    "\n",
    "\n",
    "print(count)\n",
    "arr"
   ]
  },
  {
   "cell_type": "code",
   "execution_count": 119,
   "id": "7995240d",
   "metadata": {},
   "outputs": [
    {
     "name": "stdout",
     "output_type": "stream",
     "text": [
      "['nan', 'B', 'C', 'D', 'nan', 'F', 'G', 'H', 'nan', 'J', 'K', 'L', 'M', 'N', 'nan', 'P', 'Q', 'R', 'S', 'T', 'nan', 'V', 'W', 'X']\n"
     ]
    }
   ],
   "source": [
    "arr2=[chr(i) for i in range(65,89)]\n",
    "\n",
    "for i in range(len(arr2)):\n",
    "    if arr2[i]=='A' or arr2[i]=='E' or arr2[i]=='I' or arr2[i]=='O' or arr2[i]=='U':\n",
    "        arr2[i]='nan'\n",
    "print(arr2)"
   ]
  },
  {
   "cell_type": "code",
   "execution_count": 120,
   "id": "cc32f229",
   "metadata": {},
   "outputs": [
    {
     "name": "stdout",
     "output_type": "stream",
     "text": [
      "[['nan' 'B' 'C' 'D' 'nan' 'F']\n",
      " ['G' 'H' 'nan' 'J' 'K' 'L']\n",
      " ['M' 'N' 'nan' 'P' 'Q' 'R']\n",
      " ['S' 'T' 'nan' 'V' 'W' 'X']]\n",
      "\n",
      "Count is : 5\n"
     ]
    }
   ],
   "source": [
    "c=0\n",
    "for i in range(len(arr2)):\n",
    "    if arr2[i]=='nan':\n",
    "        c += 1\n",
    "arr3=np.array(arr2)\n",
    "print(np.reshape(arr3,(4,6)))\n",
    "print(\"\\nCount is :\",c)"
   ]
  },
  {
   "cell_type": "markdown",
   "id": "7d0040f1",
   "metadata": {},
   "source": [
    "# NUMPY \n",
    "    *Array calculation method"
   ]
  },
  {
   "cell_type": "code",
   "execution_count": 100,
   "id": "0bba5d3c",
   "metadata": {},
   "outputs": [
    {
     "data": {
      "text/plain": [
       "array([[1, 2, 3],\n",
       "       [4, 5, 6]])"
      ]
     },
     "execution_count": 100,
     "metadata": {},
     "output_type": "execute_result"
    }
   ],
   "source": [
    "arr = np.array([[1,2,3],\n",
    "                [4,5,6]])\n",
    "arr"
   ]
  },
  {
   "cell_type": "code",
   "execution_count": 101,
   "id": "b53a50ff",
   "metadata": {},
   "outputs": [
    {
     "data": {
      "text/plain": [
       "21"
      ]
     },
     "execution_count": 101,
     "metadata": {},
     "output_type": "execute_result"
    }
   ],
   "source": [
    "# sum of all elements \n",
    "arr.sum()"
   ]
  },
  {
   "cell_type": "code",
   "execution_count": 103,
   "id": "aceca3dd",
   "metadata": {},
   "outputs": [
    {
     "data": {
      "text/plain": [
       "array([5, 7, 9])"
      ]
     },
     "execution_count": 103,
     "metadata": {},
     "output_type": "execute_result"
    }
   ],
   "source": [
    "# axis = 0(sum of all columns)\n",
    "# apply sum() along 0th axis\n",
    "\n",
    "arr.sum(axis = 0)"
   ]
  },
  {
   "cell_type": "code",
   "execution_count": 104,
   "id": "60ac9f35",
   "metadata": {},
   "outputs": [
    {
     "data": {
      "text/plain": [
       "array([ 6, 15])"
      ]
     },
     "execution_count": 104,
     "metadata": {},
     "output_type": "execute_result"
    }
   ],
   "source": [
    "# axis = 1(sum of all rows)\n",
    "# apply sum() along 1st axis\n",
    "\n",
    "arr.sum(axis = 1)"
   ]
  },
  {
   "cell_type": "code",
   "execution_count": 105,
   "id": "d62afcc3",
   "metadata": {},
   "outputs": [
    {
     "data": {
      "text/plain": [
       "1"
      ]
     },
     "execution_count": 105,
     "metadata": {},
     "output_type": "execute_result"
    }
   ],
   "source": [
    "arr.min()"
   ]
  },
  {
   "cell_type": "code",
   "execution_count": 106,
   "id": "3c7dd9ea",
   "metadata": {},
   "outputs": [
    {
     "data": {
      "text/plain": [
       "3"
      ]
     },
     "execution_count": 106,
     "metadata": {},
     "output_type": "execute_result"
    }
   ],
   "source": [
    "# returns index of maximum value along axis\n",
    "\n",
    "arr = [0.,0.,0.,1.,0.,0.,0.]\n",
    "np.argmax(arr)"
   ]
  },
  {
   "cell_type": "code",
   "execution_count": 107,
   "id": "72c0b61d",
   "metadata": {},
   "outputs": [
    {
     "data": {
      "text/plain": [
       "array([[ 0,  1,  2,  3,  4,  5],\n",
       "       [ 6,  7,  8,  9, 10, 11],\n",
       "       [12, 13, 14, 15, 16, 17],\n",
       "       [18, 19, 20, 21, 22, 23],\n",
       "       [24, 25, 26, 27, 28, 29],\n",
       "       [30, 31, 32, 33, 34, 35]])"
      ]
     },
     "execution_count": 107,
     "metadata": {},
     "output_type": "execute_result"
    }
   ],
   "source": [
    "arr = np.arange(0,36).reshape(6,6)\n",
    "arr"
   ]
  },
  {
   "cell_type": "code",
   "execution_count": 108,
   "id": "50b58459",
   "metadata": {},
   "outputs": [
    {
     "data": {
      "text/plain": [
       "array([5, 5, 5, 5, 5, 5], dtype=int64)"
      ]
     },
     "execution_count": 108,
     "metadata": {},
     "output_type": "execute_result"
    }
   ],
   "source": [
    "np.argmax(arr, axis=0)"
   ]
  },
  {
   "cell_type": "code",
   "execution_count": 109,
   "id": "efaec5f5",
   "metadata": {},
   "outputs": [
    {
     "data": {
      "text/plain": [
       "array([5, 5, 5, 5, 5, 5], dtype=int64)"
      ]
     },
     "execution_count": 109,
     "metadata": {},
     "output_type": "execute_result"
    }
   ],
   "source": [
    "np.argmax(arr, axis=1)"
   ]
  },
  {
   "cell_type": "markdown",
   "id": "6ddfa112",
   "metadata": {},
   "source": [
    "# Statistical Analysis of ARRAY\n",
    "    * CENTRAL TENDANCY : \n",
    "        * MEAN: average of sequence (sum of elements / no of elements)\n",
    "        * MEDIAN: middle term of a sorted array\n",
    "            * no of terms even : (n/2 + (n/2+1))/2\n",
    "            * no of terms odd : (n+1)/2\n",
    "        * MODE: most frequent value"
   ]
  },
  {
   "cell_type": "code",
   "execution_count": 124,
   "id": "85ff1886",
   "metadata": {},
   "outputs": [
    {
     "data": {
      "text/plain": [
       "7.0"
      ]
     },
     "execution_count": 124,
     "metadata": {},
     "output_type": "execute_result"
    }
   ],
   "source": [
    "arr = np.array([1,2,4,7,8,11,13])\n",
    "\n",
    "np.median(arr)"
   ]
  },
  {
   "cell_type": "code",
   "execution_count": 125,
   "id": "b7716a8a",
   "metadata": {},
   "outputs": [
    {
     "data": {
      "text/plain": [
       "6.0"
      ]
     },
     "execution_count": 125,
     "metadata": {},
     "output_type": "execute_result"
    }
   ],
   "source": [
    "arr = np.array([1,2,4,8,11,13])\n",
    "\n",
    "np.median(arr)"
   ]
  },
  {
   "cell_type": "code",
   "execution_count": 126,
   "id": "7e867eff",
   "metadata": {},
   "outputs": [
    {
     "data": {
      "text/plain": [
       "4.5"
      ]
     },
     "execution_count": 126,
     "metadata": {},
     "output_type": "execute_result"
    }
   ],
   "source": [
    "# standard deviation of array\n",
    "np.std(arr)"
   ]
  },
  {
   "cell_type": "code",
   "execution_count": 127,
   "id": "23beee12",
   "metadata": {},
   "outputs": [
    {
     "data": {
      "text/plain": [
       "20.25"
      ]
     },
     "execution_count": 127,
     "metadata": {},
     "output_type": "execute_result"
    }
   ],
   "source": [
    "# variance of an array\n",
    "np.var(arr)"
   ]
  }
 ],
 "metadata": {
  "kernelspec": {
   "display_name": "Python 3 (ipykernel)",
   "language": "python",
   "name": "python3"
  },
  "language_info": {
   "codemirror_mode": {
    "name": "ipython",
    "version": 3
   },
   "file_extension": ".py",
   "mimetype": "text/x-python",
   "name": "python",
   "nbconvert_exporter": "python",
   "pygments_lexer": "ipython3",
   "version": "3.9.13"
  }
 },
 "nbformat": 4,
 "nbformat_minor": 5
}
