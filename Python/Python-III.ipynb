{
 "cells": [
  {
   "cell_type": "code",
   "execution_count": 1,
   "id": "ba80f7c6",
   "metadata": {},
   "outputs": [
    {
     "name": "stdout",
     "output_type": "stream",
     "text": [
      "40\n",
      "40\n"
     ]
    }
   ],
   "source": [
    "# Scope of variable\n",
    "var1 = 40  # Variable with Global Scope\n",
    "def myfunc():\n",
    "    print(var1) # Value 40 will be assigned due to global scope of var1\n",
    "\n",
    "myfunc()\n",
    "print(var1)"
   ]
  },
  {
   "cell_type": "code",
   "execution_count": 2,
   "id": "56a38817",
   "metadata": {},
   "outputs": [
    {
     "name": "stdout",
     "output_type": "stream",
     "text": [
      "100\n"
     ]
    },
    {
     "ename": "UnboundLocalError",
     "evalue": "local variable 'var2' referenced before assignment",
     "output_type": "error",
     "traceback": [
      "\u001b[1;31m---------------------------------------------------------------------------\u001b[0m",
      "\u001b[1;31mUnboundLocalError\u001b[0m                         Traceback (most recent call last)",
      "\u001b[1;32m~\\AppData\\Local\\Temp\\ipykernel_6368\\1821938626.py\u001b[0m in \u001b[0;36m<module>\u001b[1;34m\u001b[0m\n\u001b[0;32m      8\u001b[0m \u001b[1;33m\u001b[0m\u001b[0m\n\u001b[0;32m      9\u001b[0m \u001b[0mfunc1\u001b[0m\u001b[1;33m(\u001b[0m\u001b[1;33m)\u001b[0m\u001b[1;33m\u001b[0m\u001b[1;33m\u001b[0m\u001b[0m\n\u001b[1;32m---> 10\u001b[1;33m \u001b[0mfunc2\u001b[0m\u001b[1;33m(\u001b[0m\u001b[1;33m)\u001b[0m\u001b[1;33m\u001b[0m\u001b[1;33m\u001b[0m\u001b[0m\n\u001b[0m",
      "\u001b[1;32m~\\AppData\\Local\\Temp\\ipykernel_6368\\1821938626.py\u001b[0m in \u001b[0;36mfunc2\u001b[1;34m()\u001b[0m\n\u001b[0;32m      4\u001b[0m \u001b[1;33m\u001b[0m\u001b[0m\n\u001b[0;32m      5\u001b[0m \u001b[1;32mdef\u001b[0m \u001b[0mfunc2\u001b[0m\u001b[1;33m(\u001b[0m\u001b[1;33m)\u001b[0m\u001b[1;33m:\u001b[0m\u001b[1;33m\u001b[0m\u001b[1;33m\u001b[0m\u001b[0m\n\u001b[1;32m----> 6\u001b[1;33m     \u001b[0mvar2\u001b[0m \u001b[1;33m+=\u001b[0m \u001b[1;36m100\u001b[0m\u001b[1;33m\u001b[0m\u001b[1;33m\u001b[0m\u001b[0m\n\u001b[0m\u001b[0;32m      7\u001b[0m     \u001b[0mprint\u001b[0m\u001b[1;33m(\u001b[0m\u001b[0mvar2\u001b[0m\u001b[1;33m)\u001b[0m \u001b[1;31m# This will throw error due to local scope of var2\u001b[0m\u001b[1;33m\u001b[0m\u001b[1;33m\u001b[0m\u001b[0m\n\u001b[0;32m      8\u001b[0m \u001b[1;33m\u001b[0m\u001b[0m\n",
      "\u001b[1;31mUnboundLocalError\u001b[0m: local variable 'var2' referenced before assignment"
     ]
    }
   ],
   "source": [
    "def func1():\n",
    "    var2 = 100  # Variable with local scope\n",
    "    print(var2)\n",
    "\n",
    "def func2():\n",
    "    var2 += 100\n",
    "    print(var2) # This will throw error due to local scope of var2\n",
    "\n",
    "func1()\n",
    "func2()"
   ]
  },
  {
   "cell_type": "code",
   "execution_count": 3,
   "id": "6bb5fbe6",
   "metadata": {},
   "outputs": [
    {
     "name": "stdout",
     "output_type": "stream",
     "text": [
      "Audi Q7\n"
     ]
    }
   ],
   "source": [
    "# Default value in Python Function\n",
    "def Car(name, model = 'Q7'):\n",
    "    print(name, model)\n",
    "\n",
    "# Model name is default = Q7\n",
    "Car(\"Audi\")"
   ]
  },
  {
   "cell_type": "code",
   "execution_count": 4,
   "id": "b8907e8d",
   "metadata": {},
   "outputs": [
    {
     "name": "stdout",
     "output_type": "stream",
     "text": [
      "Audi Q3\n"
     ]
    }
   ],
   "source": [
    "# Model name is updated \n",
    "Car(\"Audi\", \"Q3\")"
   ]
  },
  {
   "cell_type": "markdown",
   "id": "c3900be2",
   "metadata": {},
   "source": [
    "* Exerciise : Write a program to create a function show_emp() using following conditions \n",
    "       * It should accept the emp name and salary and display both\n",
    "       * If salary is missing in function call then assign default value to salary"
   ]
  },
  {
   "cell_type": "code",
   "execution_count": 5,
   "id": "b2a08f9b",
   "metadata": {},
   "outputs": [
    {
     "name": "stdout",
     "output_type": "stream",
     "text": [
      "Ram 20000\n",
      "Raghu 10000\n"
     ]
    }
   ],
   "source": [
    "def show_emp(name, sal = 10000):\n",
    "    print(name, sal)\n",
    "    \n",
    "show_emp('Ram', 20000)\n",
    "show_emp('Raghu')"
   ]
  },
  {
   "cell_type": "markdown",
   "id": "9884a1db",
   "metadata": {},
   "source": [
    "## RECURSIVE FUNCTION\n",
    "    * Create a python recursive function: In python, we know that a function can call other functions.\n",
    "    * It is even possible for a function to call itself."
   ]
  },
  {
   "cell_type": "code",
   "execution_count": 6,
   "id": "1e43a832",
   "metadata": {},
   "outputs": [
    {
     "name": "stdout",
     "output_type": "stream",
     "text": [
      "Enter the number : \n"
     ]
    },
    {
     "ename": "ValueError",
     "evalue": "invalid literal for int() with base 10: ''",
     "output_type": "error",
     "traceback": [
      "\u001b[1;31m---------------------------------------------------------------------------\u001b[0m",
      "\u001b[1;31mValueError\u001b[0m                                Traceback (most recent call last)",
      "\u001b[1;32m~\\AppData\\Local\\Temp\\ipykernel_6368\\2202018920.py\u001b[0m in \u001b[0;36m<module>\u001b[1;34m\u001b[0m\n\u001b[0;32m     10\u001b[0m         \u001b[1;32mreturn\u001b[0m \u001b[1;33m(\u001b[0m\u001b[0mx\u001b[0m\u001b[1;33m*\u001b[0m\u001b[0mfactorial\u001b[0m\u001b[1;33m(\u001b[0m\u001b[0mx\u001b[0m\u001b[1;33m-\u001b[0m\u001b[1;36m1\u001b[0m\u001b[1;33m)\u001b[0m\u001b[1;33m)\u001b[0m\u001b[1;33m\u001b[0m\u001b[1;33m\u001b[0m\u001b[0m\n\u001b[0;32m     11\u001b[0m \u001b[1;33m\u001b[0m\u001b[0m\n\u001b[1;32m---> 12\u001b[1;33m \u001b[0mnum\u001b[0m\u001b[1;33m=\u001b[0m\u001b[0mint\u001b[0m\u001b[1;33m(\u001b[0m\u001b[0minput\u001b[0m\u001b[1;33m(\u001b[0m\u001b[1;34m\"Enter the number : \"\u001b[0m\u001b[1;33m)\u001b[0m\u001b[1;33m)\u001b[0m\u001b[1;33m\u001b[0m\u001b[1;33m\u001b[0m\u001b[0m\n\u001b[0m\u001b[0;32m     13\u001b[0m \u001b[0mprint\u001b[0m\u001b[1;33m(\u001b[0m\u001b[0mfactorial\u001b[0m\u001b[1;33m(\u001b[0m\u001b[0mnum\u001b[0m\u001b[1;33m)\u001b[0m\u001b[1;33m)\u001b[0m\u001b[1;33m\u001b[0m\u001b[1;33m\u001b[0m\u001b[0m\n",
      "\u001b[1;31mValueError\u001b[0m: invalid literal for int() with base 10: ''"
     ]
    }
   ],
   "source": [
    "# Factorial of input number\n",
    "def factorial(x):\n",
    "    \"\"\"\n",
    "    This is a recursive function to find\n",
    "    Factorial of a positive integer\n",
    "    \"\"\"\n",
    "    if x==1:\n",
    "        return 1\n",
    "    else:\n",
    "        return (x*factorial(x-1))\n",
    "    \n",
    "num=int(input(\"Enter the number : \"))\n",
    "print(factorial(num))"
   ]
  },
  {
   "cell_type": "code",
   "execution_count": 7,
   "id": "c5e5ec88",
   "metadata": {},
   "outputs": [
    {
     "name": "stdout",
     "output_type": "stream",
     "text": [
      "enter a num: \n"
     ]
    },
    {
     "ename": "ValueError",
     "evalue": "invalid literal for int() with base 10: ''",
     "output_type": "error",
     "traceback": [
      "\u001b[1;31m---------------------------------------------------------------------------\u001b[0m",
      "\u001b[1;31mValueError\u001b[0m                                Traceback (most recent call last)",
      "\u001b[1;32m~\\AppData\\Local\\Temp\\ipykernel_6368\\2533100416.py\u001b[0m in \u001b[0;36m<module>\u001b[1;34m\u001b[0m\n\u001b[0;32m      1\u001b[0m \u001b[1;31m# Alternative Method\u001b[0m\u001b[1;33m\u001b[0m\u001b[1;33m\u001b[0m\u001b[0m\n\u001b[1;32m----> 2\u001b[1;33m \u001b[0muserInp\u001b[0m\u001b[1;33m=\u001b[0m\u001b[0mint\u001b[0m\u001b[1;33m(\u001b[0m\u001b[0minput\u001b[0m\u001b[1;33m(\u001b[0m\u001b[1;34m\"enter a num: \"\u001b[0m\u001b[1;33m)\u001b[0m\u001b[1;33m)\u001b[0m\u001b[1;33m\u001b[0m\u001b[1;33m\u001b[0m\u001b[0m\n\u001b[0m\u001b[0;32m      3\u001b[0m \u001b[1;33m\u001b[0m\u001b[0m\n\u001b[0;32m      4\u001b[0m \u001b[1;32mif\u001b[0m \u001b[0muserInp\u001b[0m\u001b[1;33m<=\u001b[0m\u001b[1;36m0\u001b[0m\u001b[1;33m:\u001b[0m\u001b[1;33m\u001b[0m\u001b[1;33m\u001b[0m\u001b[0m\n\u001b[0;32m      5\u001b[0m     \u001b[0mprint\u001b[0m\u001b[1;33m(\u001b[0m\u001b[1;34m\"Invalid number re-enter\"\u001b[0m\u001b[1;33m)\u001b[0m\u001b[1;33m\u001b[0m\u001b[1;33m\u001b[0m\u001b[0m\n",
      "\u001b[1;31mValueError\u001b[0m: invalid literal for int() with base 10: ''"
     ]
    }
   ],
   "source": [
    "# Alternative Method\n",
    "userInp=int(input(\"enter a num: \"))\n",
    "\n",
    "if userInp<=0:\n",
    "    print(\"Invalid number re-enter\")\n",
    "    userInp=(int(input(\"Enter positive non-zero value: \")))\n",
    "\n",
    "fact=1\n",
    "if userInp>0:\n",
    "    while userInp>0:\n",
    "        fact*=userInp\n",
    "        userInp-=1\n",
    "    print(\"The factorial is : \",fact)"
   ]
  },
  {
   "cell_type": "markdown",
   "id": "c6875908",
   "metadata": {},
   "source": [
    "# args\n",
    "    * When you are not sure about the number of arguments being passed to function then we use *args as function parameter.\n",
    "    * Arguments must be passed as list or tuple"
   ]
  },
  {
   "cell_type": "code",
   "execution_count": 8,
   "id": "59f63c57",
   "metadata": {},
   "outputs": [
    {
     "name": "stdout",
     "output_type": "stream",
     "text": [
      "('Tek101', 'Ram', 15000, 22, 'Hyderabad', 'English')\n",
      "('Tek102', 'Raju', 20000, 23, 'India')\n"
     ]
    }
   ],
   "source": [
    "def userDetails(*args):\n",
    "    print(args)\n",
    "    \n",
    "userDetails('Tek101', 'Ram', 15000, 22, 'Hyderabad', 'English')\n",
    "userDetails('Tek102', 'Raju', 20000, 23, 'India')"
   ]
  },
  {
   "cell_type": "code",
   "execution_count": 9,
   "id": "d7ad1ba4",
   "metadata": {},
   "outputs": [
    {
     "name": "stdout",
     "output_type": "stream",
     "text": [
      "Tek101\n",
      "Tek102\n"
     ]
    }
   ],
   "source": [
    "# Accesing individual elements\n",
    "def userDetails(*args):\n",
    "    print(args[0])\n",
    "    \n",
    "userDetails('Tek101', 'Ram', 15000, 22, 'Hyderabad', 'English')\n",
    "userDetails('Tek102', 'Raju', 20000, 23, 'India')"
   ]
  },
  {
   "cell_type": "code",
   "execution_count": 10,
   "id": "25b461f6",
   "metadata": {},
   "outputs": [
    {
     "name": "stdout",
     "output_type": "stream",
     "text": [
      "45\n",
      "56\n"
     ]
    }
   ],
   "source": [
    "def addition(*args):\n",
    "    return sum(args)\n",
    "\n",
    "list1 = [1,2,3,4,5,6,7,8,9]\n",
    "tuple1 = (1,2,3,4,5,6,7,8,9,11)\n",
    "\n",
    "print(addition(*list1))\n",
    "print(addition(*tuple1))"
   ]
  },
  {
   "cell_type": "markdown",
   "id": "33712e55",
   "metadata": {},
   "source": [
    "# kwargs (keyword arguments)\n",
    "    * kwargs allow us to pass variable name of keyword arguments to the function.\n",
    "    "
   ]
  },
  {
   "cell_type": "code",
   "execution_count": 11,
   "id": "229e41b7",
   "metadata": {},
   "outputs": [
    {
     "name": "stdout",
     "output_type": "stream",
     "text": [
      "{'EmpId': 'Tek101', 'Name': 'Ram', 'Sal': 15000, 'Age': 22, 'State': 'Hyderabad', 'Lang': 'English'}\n",
      "{'EmpId': 'Tek102', 'Name': 'Raju', 'Sal': 20000, 'Age': 23, 'State': 'India'}\n"
     ]
    }
   ],
   "source": [
    "def userDetails(**kwargs):\n",
    "    print(kwargs)\n",
    "    \n",
    "userDetails(EmpId = 'Tek101', Name = 'Ram', Sal = 15000, Age = 22, State = 'Hyderabad', Lang = 'English')\n",
    "userDetails(EmpId = 'Tek102', Name = 'Raju', Sal = 20000, Age = 23, State = 'India')"
   ]
  },
  {
   "cell_type": "code",
   "execution_count": 12,
   "id": "ef907fdd",
   "metadata": {},
   "outputs": [
    {
     "name": "stdout",
     "output_type": "stream",
     "text": [
      "Tek101\n",
      "Tek102\n"
     ]
    }
   ],
   "source": [
    "# Accesing individual elements\n",
    "def userDetails(**kwargs):\n",
    "    print(kwargs['EmpId'])\n",
    "    \n",
    "userDetails(EmpId = 'Tek101', Name = 'Ram', Sal = 15000, Age = 22, State = 'Hyderabad', Lang = 'English')\n",
    "userDetails(EmpId = 'Tek102', Name = 'Raju', Sal = 20000, Age = 23, State = 'India')"
   ]
  },
  {
   "cell_type": "code",
   "execution_count": 13,
   "id": "386be772",
   "metadata": {},
   "outputs": [
    {
     "name": "stdout",
     "output_type": "stream",
     "text": [
      "EmpId : Tek101\n",
      "Name : Ram\n",
      "Sal : 15000\n",
      "Age : 22\n",
      "State : Hyderabad\n",
      "Lang : English\n"
     ]
    }
   ],
   "source": [
    "# Alternative method\n",
    "def userDetails(**kwargs):\n",
    "    for key,val in kwargs.items():\n",
    "        print(\"{} : {}\".format(key,val))\n",
    "    \n",
    "userDetails(EmpId = 'Tek101', Name = 'Ram', Sal = 15000, Age = 22, State = 'Hyderabad', Lang = 'English')"
   ]
  },
  {
   "cell_type": "markdown",
   "id": "dbf2f688",
   "metadata": {},
   "source": [
    "# Lambda:\n",
    "    * A lambda function is an anonymus function.\n",
    "    * Lambda function can have any number of parameters but a single expression. The expression is evaluated and returned.\n",
    "    * syntax lambda argument(s) : expression\n",
    "        eg: lambda arg1, arg2 : arg1 + arg2"
   ]
  },
  {
   "cell_type": "code",
   "execution_count": 14,
   "id": "a2ff53da",
   "metadata": {},
   "outputs": [
    {
     "name": "stdout",
     "output_type": "stream",
     "text": [
      "20\n"
     ]
    }
   ],
   "source": [
    "addition = lambda a : a+10    # This is lambda function adds value 10 to argument \n",
    "print(addition(10))"
   ]
  },
  {
   "cell_type": "code",
   "execution_count": 15,
   "id": "a0c38652",
   "metadata": {},
   "outputs": [
    {
     "name": "stdout",
     "output_type": "stream",
     "text": [
      "200\n"
     ]
    }
   ],
   "source": [
    "product = lambda a, b : a*b\n",
    "print(product(10,20))"
   ]
  },
  {
   "cell_type": "code",
   "execution_count": 16,
   "id": "bb0a3492",
   "metadata": {},
   "outputs": [
    {
     "name": "stdout",
     "output_type": "stream",
     "text": [
      "20 50 50\n"
     ]
    }
   ],
   "source": [
    "result = lambda *args : max(args)     # This lambda function can take any number of variables\n",
    "print(result(10,20), result(10,20,30,50), result(10,20,50,20,10,23))"
   ]
  },
  {
   "cell_type": "markdown",
   "id": "6bbcbb50",
   "metadata": {},
   "source": [
    "# Filter Function : \n",
    "    * It is used to filter iterables/sequence as per condition.\n",
    "    * Filter function filters the original iterable and passes the items that returns True for the function provided to filter().\n",
    "    * Filter is generally used with lambda functions."
   ]
  },
  {
   "cell_type": "code",
   "execution_count": 17,
   "id": "992d54fb",
   "metadata": {},
   "outputs": [],
   "source": [
    "list1 = [1,2,3,4,56,7,8,9,2,3]\n",
    "\n",
    "def odd(num):\n",
    "    if num%2 != 0:\n",
    "        return True\n",
    "    else:\n",
    "        return False"
   ]
  },
  {
   "cell_type": "code",
   "execution_count": 18,
   "id": "91949e43",
   "metadata": {},
   "outputs": [
    {
     "data": {
      "text/plain": [
       "[1, 3, 7, 9, 3]"
      ]
     },
     "execution_count": 18,
     "metadata": {},
     "output_type": "execute_result"
    }
   ],
   "source": [
    "list(filter(odd, list1))"
   ]
  },
  {
   "cell_type": "code",
   "execution_count": 19,
   "id": "91fac49c",
   "metadata": {},
   "outputs": [
    {
     "data": {
      "text/plain": [
       "[1, 3, 7, 9, 3]"
      ]
     },
     "execution_count": 19,
     "metadata": {},
     "output_type": "execute_result"
    }
   ],
   "source": [
    "res = lambda num : num%2 !=0 \n",
    "list(filter(res, list1))"
   ]
  },
  {
   "cell_type": "markdown",
   "id": "eb06921d",
   "metadata": {},
   "source": [
    "# Map Function :\n",
    "    * map() applies a given function of each item of an iterable(lists, tuple) and returns list of results."
   ]
  },
  {
   "cell_type": "code",
   "execution_count": 20,
   "id": "f3d5982b",
   "metadata": {},
   "outputs": [
    {
     "data": {
      "text/plain": [
       "[2, 6, 14, 18, 6]"
      ]
     },
     "execution_count": 20,
     "metadata": {},
     "output_type": "execute_result"
    }
   ],
   "source": [
    "def twice(num):\n",
    "    return num*2\n",
    "\n",
    "# lambda function returns True or False in Filter\n",
    "oddnum = list(filter(lambda num : num % 2 != 0, list1 ))\n",
    "list(map(twice, oddnum))"
   ]
  },
  {
   "cell_type": "code",
   "execution_count": 21,
   "id": "8f1b70f3",
   "metadata": {},
   "outputs": [
    {
     "data": {
      "text/plain": [
       "['2Even', '6Even', '14Even', '18Even', '6Even']"
      ]
     },
     "execution_count": 21,
     "metadata": {},
     "output_type": "execute_result"
    }
   ],
   "source": [
    "# lambda function will return value \n",
    "list(map(lambda num: str(num*2) + 'Even', oddnum))"
   ]
  },
  {
   "cell_type": "code",
   "execution_count": 22,
   "id": "eb044fc7",
   "metadata": {},
   "outputs": [
    {
     "data": {
      "text/plain": [
       "['2Even', '6Even', '14Even', '18Even', '6Even']"
      ]
     },
     "execution_count": 22,
     "metadata": {},
     "output_type": "execute_result"
    }
   ],
   "source": [
    "list(map(lambda num:str(num*2) + 'Even', list(filter(lambda num:num%2!=0, list1))))"
   ]
  },
  {
   "cell_type": "code",
   "execution_count": 23,
   "id": "999be9b7",
   "metadata": {},
   "outputs": [
    {
     "name": "stdout",
     "output_type": "stream",
     "text": [
      "[True, False, True, False, False, True, False, True, False, True]\n",
      "[1, 3, 7, 9, 3]\n"
     ]
    }
   ],
   "source": [
    "# MAP FUNCTION ON LIST1\n",
    "print(list(map(lambda num:num%2 != 0,list1)))\n",
    "\n",
    "# FILTER FUNCTION ON LIST1\n",
    "print(list(filter(lambda num:num%2 != 0, list1)))"
   ]
  },
  {
   "cell_type": "markdown",
   "id": "e35a8fc3",
   "metadata": {},
   "source": [
    "# Reduce \n",
    "    * Reduce (function, sequence) is used  to apply a particular function passed in its argument to all list elements.\n",
    "    * Reduce() is defined in \"functools\" module"
   ]
  },
  {
   "cell_type": "code",
   "execution_count": 69,
   "id": "710a5198",
   "metadata": {},
   "outputs": [],
   "source": [
    "from functools import reduce\n",
    "\n",
    "# reduce = use this for aggregate functions\n",
    "def summation(a,b):\n",
    "    return a+b"
   ]
  },
  {
   "cell_type": "code",
   "execution_count": 71,
   "id": "76d742eb",
   "metadata": {},
   "outputs": [
    {
     "name": "stdout",
     "output_type": "stream",
     "text": [
      "36\n"
     ]
    }
   ],
   "source": [
    "doubles=[1,2,3,4,5,6,7,8]\n",
    "sum_all=reduce(summation, doubles)\n",
    "print(sum_all)"
   ]
  },
  {
   "cell_type": "code",
   "execution_count": 73,
   "id": "b07bb244",
   "metadata": {},
   "outputs": [
    {
     "name": "stdout",
     "output_type": "stream",
     "text": [
      "36\n"
     ]
    }
   ],
   "source": [
    "# Alternative method\n",
    "\n",
    "doubles=[1,2,3,4,5,6,7,8]\n",
    "sum_all=reduce(lambda a,b: a+b, doubles)\n",
    "print(sum_all)"
   ]
  },
  {
   "cell_type": "code",
   "execution_count": 75,
   "id": "0562976c",
   "metadata": {},
   "outputs": [
    {
     "name": "stdout",
     "output_type": "stream",
     "text": [
      "10\n"
     ]
    }
   ],
   "source": [
    "# Find minimum number from a list using lambda \n",
    "\n",
    "num=[10,13,24,56,23,12,65]\n",
    "minimum=reduce(lambda *args:min(args), num)\n",
    "print(minimum)"
   ]
  },
  {
   "cell_type": "code",
   "execution_count": 76,
   "id": "854d81bf",
   "metadata": {},
   "outputs": [
    {
     "name": "stdout",
     "output_type": "stream",
     "text": [
      "10\n"
     ]
    }
   ],
   "source": [
    "# Alternative method\n",
    "minimum = reduce(lambda a,b : a if a<b else b, num)\n",
    "print(minimum)"
   ]
  },
  {
   "cell_type": "markdown",
   "id": "9126ece2",
   "metadata": {},
   "source": [
    "# frozenset() method:\n",
    "    * It creates an immutable set object from an iterable.\n",
    "    * It is a built in python function.\n",
    "    * As it is set() it will store only unique values."
   ]
  },
  {
   "cell_type": "code",
   "execution_count": 79,
   "id": "fbbeb03a",
   "metadata": {},
   "outputs": [
    {
     "name": "stdout",
     "output_type": "stream",
     "text": [
      "{'banana', 'donuts', 'apple', 'cupcakes'}\n"
     ]
    }
   ],
   "source": [
    "list3=['apple','banana','cupcakes','donuts','cupcakes','donuts']\n",
    "sets=set(list3)\n",
    "print(sets)"
   ]
  },
  {
   "cell_type": "code",
   "execution_count": 84,
   "id": "e5638dfd",
   "metadata": {},
   "outputs": [
    {
     "data": {
      "text/plain": [
       "frozenset"
      ]
     },
     "execution_count": 84,
     "metadata": {},
     "output_type": "execute_result"
    }
   ],
   "source": [
    "fsets=frozenset(sets)\n",
    "type(fsets)"
   ]
  },
  {
   "cell_type": "code",
   "execution_count": 86,
   "id": "677747b9",
   "metadata": {
    "collapsed": true
   },
   "outputs": [
    {
     "ename": "AttributeError",
     "evalue": "'frozenset' object has no attribute 'add'",
     "output_type": "error",
     "traceback": [
      "\u001b[1;31m---------------------------------------------------------------------------\u001b[0m",
      "\u001b[1;31mAttributeError\u001b[0m                            Traceback (most recent call last)",
      "\u001b[1;32m~\\AppData\\Local\\Temp\\ipykernel_8160\\3039489677.py\u001b[0m in \u001b[0;36m<module>\u001b[1;34m\u001b[0m\n\u001b[0;32m      1\u001b[0m \u001b[1;31m# Frozensets are immutable, hence add(),update() has no attribute\u001b[0m\u001b[1;33m\u001b[0m\u001b[1;33m\u001b[0m\u001b[0m\n\u001b[1;32m----> 2\u001b[1;33m \u001b[0mfsets\u001b[0m\u001b[1;33m.\u001b[0m\u001b[0madd\u001b[0m\u001b[1;33m(\u001b[0m\u001b[1;34m'Eclairs'\u001b[0m\u001b[1;33m)\u001b[0m\u001b[1;33m\u001b[0m\u001b[1;33m\u001b[0m\u001b[0m\n\u001b[0m",
      "\u001b[1;31mAttributeError\u001b[0m: 'frozenset' object has no attribute 'add'"
     ]
    }
   ],
   "source": [
    "# Frozensets are immutable, hence add(),update() has no attribute\n",
    "fsets.add('Eclairs')"
   ]
  },
  {
   "cell_type": "code",
   "execution_count": 89,
   "id": "3afec929",
   "metadata": {},
   "outputs": [
    {
     "name": "stdout",
     "output_type": "stream",
     "text": [
      "frozenset({40, 10, 50, 20, 60, 30})\n"
     ]
    }
   ],
   "source": [
    "A = frozenset([10,20,30,40,50,60])\n",
    "B = frozenset([30,40,50,60,70])\n",
    "\n",
    "# Copying a frozenset \n",
    "C=A.copy()\n",
    "print(C)"
   ]
  },
  {
   "cell_type": "code",
   "execution_count": 90,
   "id": "68e2d832",
   "metadata": {},
   "outputs": [
    {
     "data": {
      "text/plain": [
       "frozenset({30, 40, 50, 60})"
      ]
     },
     "execution_count": 90,
     "metadata": {},
     "output_type": "execute_result"
    }
   ],
   "source": [
    "A.intersection(B)"
   ]
  },
  {
   "cell_type": "code",
   "execution_count": 91,
   "id": "906ff486",
   "metadata": {},
   "outputs": [
    {
     "data": {
      "text/plain": [
       "frozenset({10, 20, 30, 40, 50, 60, 70})"
      ]
     },
     "execution_count": 91,
     "metadata": {},
     "output_type": "execute_result"
    }
   ],
   "source": [
    "A.union(B)"
   ]
  },
  {
   "cell_type": "code",
   "execution_count": 92,
   "id": "75c587a4",
   "metadata": {},
   "outputs": [
    {
     "data": {
      "text/plain": [
       "frozenset({10, 20})"
      ]
     },
     "execution_count": 92,
     "metadata": {},
     "output_type": "execute_result"
    }
   ],
   "source": [
    "A.difference(B)"
   ]
  },
  {
   "cell_type": "markdown",
   "id": "b36f5828",
   "metadata": {},
   "source": [
    "### Write a python program to check if word is palindrome "
   ]
  },
  {
   "cell_type": "code",
   "execution_count": 30,
   "id": "296595f6",
   "metadata": {},
   "outputs": [
    {
     "name": "stdout",
     "output_type": "stream",
     "text": [
      "Enter string : hello\n",
      "False\n"
     ]
    }
   ],
   "source": [
    "def palindrome(str1):\n",
    "    str2 = str1[::-1]\n",
    "    if str1 == str2:\n",
    "        return True\n",
    "    else:\n",
    "        return False\n",
    "    \n",
    "string = input(\"Enter string : \")\n",
    "print(palindrome(string))"
   ]
  },
  {
   "cell_type": "code",
   "execution_count": 29,
   "id": "c8fd85b8",
   "metadata": {},
   "outputs": [
    {
     "name": "stdout",
     "output_type": "stream",
     "text": [
      "Enter string: hello\n",
      "True\n"
     ]
    }
   ],
   "source": [
    "res = lambda str1, str2: True if str1 == str2 else False \n",
    "\n",
    "str1=input(\"Enter string: \")\n",
    "str2=str1[::-1]\n",
    "print(bool(res))"
   ]
  },
  {
   "cell_type": "code",
   "execution_count": 27,
   "id": "c36d956d",
   "metadata": {},
   "outputs": [],
   "source": [
    "mylist=['PHP','Madam','numpy','python','tenet','class','sets']"
   ]
  },
  {
   "cell_type": "code",
   "execution_count": 31,
   "id": "ec4132dc",
   "metadata": {},
   "outputs": [
    {
     "name": "stdout",
     "output_type": "stream",
     "text": [
      "['PHP', 'Madam', 'tenet']\n"
     ]
    }
   ],
   "source": [
    "palindrome = list(filter(lambda word: str.lower(word) == str.lower(word[::-1]), mylist))\n",
    "print(list(palindrome))"
   ]
  },
  {
   "cell_type": "markdown",
   "id": "9cda967d",
   "metadata": {},
   "source": [
    "# Math Library"
   ]
  },
  {
   "cell_type": "code",
   "execution_count": 32,
   "id": "05f4ad71",
   "metadata": {},
   "outputs": [],
   "source": [
    "# import math library\n",
    "import math"
   ]
  },
  {
   "cell_type": "code",
   "execution_count": 33,
   "id": "02f0057b",
   "metadata": {},
   "outputs": [
    {
     "data": {
      "text/plain": [
       "2.718281828459045"
      ]
     },
     "execution_count": 33,
     "metadata": {},
     "output_type": "execute_result"
    }
   ],
   "source": [
    "# print value of euler 'e'\n",
    "math.e"
   ]
  },
  {
   "cell_type": "code",
   "execution_count": 34,
   "id": "9d3df711",
   "metadata": {},
   "outputs": [
    {
     "data": {
      "text/plain": [
       "3.141592653589793"
      ]
     },
     "execution_count": 34,
     "metadata": {},
     "output_type": "execute_result"
    }
   ],
   "source": [
    "# print value of pi\n",
    "math.pi"
   ]
  },
  {
   "cell_type": "code",
   "execution_count": 35,
   "id": "51986f76",
   "metadata": {},
   "outputs": [
    {
     "name": "stdout",
     "output_type": "stream",
     "text": [
      "the ceil of 2.3 is:  3\n",
      "the floor value of 2.3 is:  2\n"
     ]
    }
   ],
   "source": [
    "num= 2.3\n",
    "\n",
    "#returning ceil value of 2.3\n",
    "print(\"the ceil of 2.3 is: \",math.ceil(num))\n",
    "\n",
    "# returning floor value of 2.3\n",
    "print(\"the floor value of 2.3 is: \",math.floor(num))"
   ]
  },
  {
   "cell_type": "code",
   "execution_count": 36,
   "id": "bfed01cd",
   "metadata": {},
   "outputs": [
    {
     "name": "stdout",
     "output_type": "stream",
     "text": [
      "enter number for factorial: 4\n"
     ]
    },
    {
     "data": {
      "text/plain": [
       "24"
      ]
     },
     "execution_count": 36,
     "metadata": {},
     "output_type": "execute_result"
    }
   ],
   "source": [
    "num=int(input(\"enter number for factorial: \"))\n",
    "math.factorial(num)"
   ]
  },
  {
   "cell_type": "code",
   "execution_count": 37,
   "id": "f37eaa4c",
   "metadata": {},
   "outputs": [
    {
     "name": "stdout",
     "output_type": "stream",
     "text": [
      "2.302585092994046\n",
      "3.321928094887362\n",
      "1.0\n"
     ]
    }
   ],
   "source": [
    "print(\"Value of log with base e\",math.log(10))\n",
    "\n",
    "print(\"Value of log with base 2\",math.log2(10))\n",
    "\n",
    "print(\"Value of log with base 10\"math.log10(10))"
   ]
  },
  {
   "cell_type": "code",
   "execution_count": 38,
   "id": "9a0d7d86",
   "metadata": {},
   "outputs": [
    {
     "name": "stdout",
     "output_type": "stream",
     "text": [
      "2.0\n"
     ]
    }
   ],
   "source": [
    "print(math.sqrt(4))"
   ]
  },
  {
   "cell_type": "code",
   "execution_count": 40,
   "id": "eae6a188",
   "metadata": {},
   "outputs": [
    {
     "name": "stdout",
     "output_type": "stream",
     "text": [
      "0.6981317007977318\n",
      "29.999999999999996\n"
     ]
    }
   ],
   "source": [
    "# convert degree to radians\n",
    "print(math.radians(40))\n",
    "\n",
    "a=math.pi/6\n",
    "print(abs(math.degrees(a)))"
   ]
  },
  {
   "cell_type": "markdown",
   "id": "4ffff56e",
   "metadata": {},
   "source": [
    "# Hashlib library"
   ]
  },
  {
   "cell_type": "code",
   "execution_count": 41,
   "id": "f980edd9",
   "metadata": {},
   "outputs": [
    {
     "name": "stdout",
     "output_type": "stream",
     "text": [
      "{'sha1', 'sha224', 'shake_128', 'sha512', 'sha384', 'blake2s', 'whirlpool', 'ripemd160', 'mdc2', 'md5', 'shake_256', 'sm3', 'sha3_512', 'md5-sha1', 'sha3_224', 'sha3_384', 'sha256', 'sha512_224', 'blake2b', 'md4', 'sha3_256', 'sha512_256'}\n"
     ]
    }
   ],
   "source": [
    "import hashlib\n",
    "\n",
    "print(hashlib.algorithms_available)"
   ]
  },
  {
   "cell_type": "code",
   "execution_count": 42,
   "id": "a1f1c234",
   "metadata": {},
   "outputs": [],
   "source": [
    "# initialize the empty message using SHA-256\n",
    "message = hashlib.sha256()"
   ]
  },
  {
   "cell_type": "code",
   "execution_count": 47,
   "id": "6699a8b6",
   "metadata": {},
   "outputs": [
    {
     "name": "stdout",
     "output_type": "stream",
     "text": [
      "b'4\\x10\\xa4W\\xdbu\\xca\\x93|\\x15W\\xa8t] \\x9f\\xec\\xc7\\x8cn\\x07\\xa7c\\xc2Z\\x8d`\\xd8,\\xf1\\xdb#'\n",
      "3410a457db75ca937c1557a8745d209fecc78c6e07a763c25a8d60d82cf1db23\n"
     ]
    }
   ],
   "source": [
    "# Update message using byte strings \n",
    "message.update(b'Hello there')\n",
    "message.update(b'how are you?')\n",
    "\n",
    "# print the message digest - returns byte\n",
    "print(message.digest())\n",
    "# print the hexadecimal (0-9,a-f)\n",
    "print(message.hexdigest())"
   ]
  },
  {
   "cell_type": "code",
   "execution_count": 48,
   "id": "ea38c8b0",
   "metadata": {},
   "outputs": [
    {
     "data": {
      "text/plain": [
       "64"
      ]
     },
     "execution_count": 48,
     "metadata": {},
     "output_type": "execute_result"
    }
   ],
   "source": [
    "len(message.hexdigest())"
   ]
  },
  {
   "cell_type": "code",
   "execution_count": 49,
   "id": "e9ffd184",
   "metadata": {},
   "outputs": [],
   "source": [
    "def get_sha(input_val):\n",
    "    return hashlib.sha256(input_val).hexdigest()"
   ]
  },
  {
   "cell_type": "code",
   "execution_count": 51,
   "id": "ef48dde9",
   "metadata": {},
   "outputs": [
    {
     "data": {
      "text/plain": [
       "'a591a6d40bf420404a011733cfb7b190d62c65bf0bcda32b57b277d9ad9f146e'"
      ]
     },
     "execution_count": 51,
     "metadata": {},
     "output_type": "execute_result"
    }
   ],
   "source": [
    "get_sha(b'Hello World')"
   ]
  },
  {
   "cell_type": "code",
   "execution_count": 52,
   "id": "c4ec0ca7",
   "metadata": {},
   "outputs": [
    {
     "data": {
      "text/plain": [
       "'64ec88ca00b268e5ba1a35678a1b5316d212f4f366b2477232534a8aeca37f3c'"
      ]
     },
     "execution_count": 52,
     "metadata": {},
     "output_type": "execute_result"
    }
   ],
   "source": [
    "get_sha(b'Hello world')"
   ]
  },
  {
   "cell_type": "code",
   "execution_count": 59,
   "id": "ec066136",
   "metadata": {},
   "outputs": [
    {
     "name": "stdout",
     "output_type": "stream",
     "text": [
      "ecf149c73b09ae9bc0bc1c62917a8bbb9d22b96c4c25c97d05ca8674eb35f684\n",
      "After updating:  cfec575dae2c5b03b677298b604b707800a3a5298cab745f6c6725cd3be83a65\n",
      "True\n"
     ]
    }
   ],
   "source": [
    "def has_string(inp):\n",
    "    byte_inp=inp.encode()\n",
    "    hash_obj=hashlib.sha256(byte_inp)\n",
    "    return hash_obj\n",
    "\n",
    "def update_has(hash_obj,inp_str):\n",
    "    hash_obj.update(inp_str.encode())\n",
    "    \n",
    "hash_obj = has_string(\"Hello from ABC\")\n",
    "\n",
    "# print hex value of message\n",
    "print(hash_obj.hexdigest())\n",
    "\n",
    "# update the message\n",
    "update_has(hash_obj, 'Hello, how are you?')\n",
    "\n",
    "# print the hash message after the update\n",
    "print('After updating: ',hash_obj.hexdigest())\n",
    "\n",
    "new_str = \"Hello from ABCHello, how are you?\"\n",
    "print(has_string(new_str).hexdigest() == hash_obj.hexdigest())"
   ]
  }
 ],
 "metadata": {
  "kernelspec": {
   "display_name": "Python 3 (ipykernel)",
   "language": "python",
   "name": "python3"
  },
  "language_info": {
   "codemirror_mode": {
    "name": "ipython",
    "version": 3
   },
   "file_extension": ".py",
   "mimetype": "text/x-python",
   "name": "python",
   "nbconvert_exporter": "python",
   "pygments_lexer": "ipython3",
   "version": "3.9.13"
  }
 },
 "nbformat": 4,
 "nbformat_minor": 5
}
