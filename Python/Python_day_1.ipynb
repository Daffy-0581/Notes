{
  "nbformat": 4,
  "nbformat_minor": 0,
  "metadata": {
    "colab": {
      "provenance": []
    },
    "kernelspec": {
      "name": "python3",
      "display_name": "Python 3"
    },
    "language_info": {
      "name": "python"
    }
  },
  "cells": [
    {
      "cell_type": "code",
      "execution_count": null,
      "metadata": {
        "id": "79qjP4ePvCVl"
      },
      "outputs": [],
      "source": [
        "# Cltrl + Enter    Alt + Enter  Shift + Enter"
      ]
    },
    {
      "cell_type": "markdown",
      "source": [
        "# VARIABLES \n",
        "  * A python variable is reserved memory location to store values. A variable is created the moment you assign a value to it."
      ],
      "metadata": {
        "id": "SssjkBp43UT9"
      }
    },
    {
      "cell_type": "code",
      "source": [
        "_var=10"
      ],
      "metadata": {
        "id": "xS7Cq9vP3maS"
      },
      "execution_count": null,
      "outputs": []
    },
    {
      "cell_type": "code",
      "source": [
        "@var=10"
      ],
      "metadata": {
        "id": "80qMyoAA4C5k"
      },
      "execution_count": null,
      "outputs": []
    },
    {
      "cell_type": "code",
      "source": [
        "_=100"
      ],
      "metadata": {
        "id": "FZqQxNLZ4FXD"
      },
      "execution_count": null,
      "outputs": []
    },
    {
      "cell_type": "code",
      "source": [
        "# ASSIGNMENT \n",
        "first_string_var = \"Test Variable\"\n",
        "first_int_var = 100"
      ],
      "metadata": {
        "id": "sZxdSwj5p39O"
      },
      "execution_count": null,
      "outputs": []
    },
    {
      "cell_type": "code",
      "source": [
        "first_int_var = first_int_var + 100\n",
        "print(first_int_var)"
      ],
      "metadata": {
        "colab": {
          "base_uri": "https://localhost:8080/"
        },
        "id": "NxKQPPw7qR_N",
        "outputId": "58be49bc-2292-4aab-8515-bc58bca76df1"
      },
      "execution_count": null,
      "outputs": [
        {
          "output_type": "stream",
          "name": "stdout",
          "text": [
            "200\n"
          ]
        }
      ]
    },
    {
      "cell_type": "code",
      "source": [
        "type(first_string_var)"
      ],
      "metadata": {
        "colab": {
          "base_uri": "https://localhost:8080/"
        },
        "id": "x1h7kkl-qZVu",
        "outputId": "7e98381d-53be-4256-cd13-ea37f82cdf79"
      },
      "execution_count": null,
      "outputs": [
        {
          "output_type": "execute_result",
          "data": {
            "text/plain": [
              "str"
            ]
          },
          "metadata": {},
          "execution_count": 9
        }
      ]
    },
    {
      "cell_type": "code",
      "source": [
        "# Multiplying string var with integer\n",
        "first_string_var*5"
      ],
      "metadata": {
        "colab": {
          "base_uri": "https://localhost:8080/",
          "height": 35
        },
        "id": "W2NpFo3Eqdcq",
        "outputId": "67a9bd85-3204-43e7-b2a2-b9d97213896d"
      },
      "execution_count": null,
      "outputs": [
        {
          "output_type": "execute_result",
          "data": {
            "text/plain": [
              "'Test VariableTest VariableTest VariableTest VariableTest Variable'"
            ],
            "application/vnd.google.colaboratory.intrinsic+json": {
              "type": "string"
            }
          },
          "metadata": {},
          "execution_count": 10
        }
      ]
    },
    {
      "cell_type": "markdown",
      "source": [
        "# Multiple Assignments\n",
        "* Multiple variables can be assigned simultaneously"
      ],
      "metadata": {
        "id": "I7trhTq5qqyt"
      }
    },
    {
      "cell_type": "code",
      "source": [
        "intvar, strvar, floatvar, boolvar = 10000, \"This is python variable\", 123.45, True\n",
        "print(intvar, strvar, floatvar, boolvar)"
      ],
      "metadata": {
        "colab": {
          "base_uri": "https://localhost:8080/"
        },
        "id": "8_g_FvWkq2nz",
        "outputId": "63623898-2237-4f98-b752-3aa3c3153d27"
      },
      "execution_count": null,
      "outputs": [
        {
          "output_type": "stream",
          "name": "stdout",
          "text": [
            "10000 This is python variable 123.45 True\n"
          ]
        }
      ]
    },
    {
      "cell_type": "code",
      "source": [
        "print(\"Integer Value {}, String Value {}, Float Value {}, Boolean Value {}\".format(intvar, strvar, floatvar, boolvar))"
      ],
      "metadata": {
        "colab": {
          "base_uri": "https://localhost:8080/"
        },
        "id": "7IpSj5pYrEPx",
        "outputId": "d180e181-0a18-4d74-ef0c-6066e653630c"
      },
      "execution_count": null,
      "outputs": [
        {
          "output_type": "stream",
          "name": "stdout",
          "text": [
            "Integer Value 10000, String Value This is python variable, Float Value 123.45, Boolean Value True\n"
          ]
        }
      ]
    },
    {
      "cell_type": "markdown",
      "source": [
        "# DATA TYPES \n",
        "  * isinstance() - returns if an obj is an instance of a class or of a subclass.\n"
      ],
      "metadata": {
        "id": "B_p_HIGHshQc"
      }
    },
    {
      "cell_type": "code",
      "source": [
        "var1=10\n",
        "print(var1, \" is integer ? \", isinstance(var1,int))"
      ],
      "metadata": {
        "colab": {
          "base_uri": "https://localhost:8080/"
        },
        "id": "UNY2VJcbsg_1",
        "outputId": "c7f75c32-cb96-4285-a754-0cd64a5826ee"
      },
      "execution_count": null,
      "outputs": [
        {
          "output_type": "stream",
          "name": "stdout",
          "text": [
            "10  is integer ?  True\n"
          ]
        }
      ]
    },
    {
      "cell_type": "code",
      "source": [
        "print(isinstance(var1,str))"
      ],
      "metadata": {
        "colab": {
          "base_uri": "https://localhost:8080/"
        },
        "id": "byoWHZFXtccE",
        "outputId": "8b75f2e2-b246-4ff5-e5bc-eb524d33833b"
      },
      "execution_count": null,
      "outputs": [
        {
          "output_type": "stream",
          "name": "stdout",
          "text": [
            "False\n"
          ]
        }
      ]
    },
    {
      "cell_type": "code",
      "source": [
        "var2=24+0j\n",
        "print(isinstance(var2,int))"
      ],
      "metadata": {
        "colab": {
          "base_uri": "https://localhost:8080/"
        },
        "id": "XG75sZH5t0dK",
        "outputId": "25597d6d-9768-4a7b-b9ff-5bf212dfb276"
      },
      "execution_count": null,
      "outputs": [
        {
          "output_type": "stream",
          "name": "stdout",
          "text": [
            "False\n"
          ]
        }
      ]
    },
    {
      "cell_type": "code",
      "source": [
        "print(isinstance(var2,complex))"
      ],
      "metadata": {
        "colab": {
          "base_uri": "https://localhost:8080/"
        },
        "id": "k_-P45K3uA9B",
        "outputId": "69bbc840-f654-4b06-e2f8-881c1df3cbb7"
      },
      "execution_count": null,
      "outputs": [
        {
          "output_type": "stream",
          "name": "stdout",
          "text": [
            "True\n"
          ]
        }
      ]
    },
    {
      "cell_type": "code",
      "source": [
        "# Displays unique id of any variable in python\n",
        "id(var2)"
      ],
      "metadata": {
        "colab": {
          "base_uri": "https://localhost:8080/"
        },
        "id": "6cj2ZXAYuGTn",
        "outputId": "d00a68a5-8660-4a40-943d-553c3d2dce50"
      },
      "execution_count": null,
      "outputs": [
        {
          "output_type": "execute_result",
          "data": {
            "text/plain": [
              "140124431565424"
            ]
          },
          "metadata": {},
          "execution_count": 19
        }
      ]
    },
    {
      "cell_type": "markdown",
      "source": [
        "#PRIMITIVE DATA TYPES\n",
        "  * Int\n",
        "  * Float\n",
        "  * Complex\n",
        "  * String\n",
        "  * Boolean"
      ],
      "metadata": {
        "id": "l9jsCx2A5-wJ"
      }
    },
    {
      "cell_type": "code",
      "source": [
        "# This is integer data type\n",
        "var1=10"
      ],
      "metadata": {
        "id": "LmW-82jE6Jd7"
      },
      "execution_count": null,
      "outputs": []
    },
    {
      "cell_type": "code",
      "source": [
        "# Returns datatype of the variable\n",
        "print(type(var1))"
      ],
      "metadata": {
        "colab": {
          "base_uri": "https://localhost:8080/"
        },
        "id": "cdRpy9XN69Le",
        "outputId": "74d352d7-0af7-409c-e605-2c821d5e57ee"
      },
      "execution_count": null,
      "outputs": [
        {
          "output_type": "stream",
          "name": "stdout",
          "text": [
            "<class 'int'>\n"
          ]
        }
      ]
    },
    {
      "cell_type": "code",
      "source": [
        "# prints value of variable\n",
        "print(var1)"
      ],
      "metadata": {
        "colab": {
          "base_uri": "https://localhost:8080/"
        },
        "id": "xsdXwT8F7OqD",
        "outputId": "d20c04bd-8948-4f4d-c404-c4610f184289"
      },
      "execution_count": null,
      "outputs": [
        {
          "output_type": "stream",
          "name": "stdout",
          "text": [
            "10\n"
          ]
        }
      ]
    },
    {
      "cell_type": "code",
      "source": [
        "# This is a float datatype\n",
        "var2=1234.56"
      ],
      "metadata": {
        "id": "ECA4T0tJ7VXt"
      },
      "execution_count": null,
      "outputs": []
    },
    {
      "cell_type": "code",
      "source": [
        "type(var2)"
      ],
      "metadata": {
        "colab": {
          "base_uri": "https://localhost:8080/"
        },
        "id": "aC7ir-JT7foZ",
        "outputId": "9eda8759-7d6b-4070-9d73-01e5be8eca5d"
      },
      "execution_count": null,
      "outputs": [
        {
          "output_type": "execute_result",
          "data": {
            "text/plain": [
              "float"
            ]
          },
          "metadata": {},
          "execution_count": 20
        }
      ]
    },
    {
      "cell_type": "code",
      "source": [
        "var3='This is a string'\n",
        "var4=\"This is also a string\""
      ],
      "metadata": {
        "id": "lAGTVvk67hfF"
      },
      "execution_count": null,
      "outputs": []
    },
    {
      "cell_type": "code",
      "source": [
        "print(var3,var4)"
      ],
      "metadata": {
        "colab": {
          "base_uri": "https://localhost:8080/"
        },
        "id": "EWAcqpzc78Xw",
        "outputId": "d1e153a3-4cda-4851-94d1-cc0802eb9ad3"
      },
      "execution_count": null,
      "outputs": [
        {
          "output_type": "stream",
          "name": "stdout",
          "text": [
            "This is a string This is also a string\n"
          ]
        }
      ]
    },
    {
      "cell_type": "code",
      "source": [
        "type(var3)"
      ],
      "metadata": {
        "colab": {
          "base_uri": "https://localhost:8080/"
        },
        "id": "O3u1ToNt8P3D",
        "outputId": "facdd92c-7d17-4cff-c097-92bb80f2b058"
      },
      "execution_count": null,
      "outputs": [
        {
          "output_type": "execute_result",
          "data": {
            "text/plain": [
              "str"
            ]
          },
          "metadata": {},
          "execution_count": 25
        }
      ]
    },
    {
      "cell_type": "code",
      "source": [
        "type(var4)"
      ],
      "metadata": {
        "colab": {
          "base_uri": "https://localhost:8080/"
        },
        "id": "LLvOaJDS8WQ7",
        "outputId": "c4d37bdd-0dd2-47c4-9a18-3fe17eefa45e"
      },
      "execution_count": null,
      "outputs": [
        {
          "output_type": "execute_result",
          "data": {
            "text/plain": [
              "str"
            ]
          },
          "metadata": {},
          "execution_count": 26
        }
      ]
    },
    {
      "cell_type": "code",
      "source": [
        "?type"
      ],
      "metadata": {
        "id": "FF9T5A3i8cTD"
      },
      "execution_count": null,
      "outputs": []
    },
    {
      "cell_type": "code",
      "source": [
        "# real + imaginary part\n",
        "var6 = 23+56j"
      ],
      "metadata": {
        "id": "_rQsls1k9Chy"
      },
      "execution_count": null,
      "outputs": []
    },
    {
      "cell_type": "code",
      "source": [
        "# imaginary part\n",
        "var7 = 12j\n",
        "type(var7)"
      ],
      "metadata": {
        "colab": {
          "base_uri": "https://localhost:8080/"
        },
        "id": "Hcl0pYlh9R4h",
        "outputId": "b16d5bbc-98bf-4224-e879-194f00443aff"
      },
      "execution_count": null,
      "outputs": [
        {
          "output_type": "execute_result",
          "data": {
            "text/plain": [
              "complex"
            ]
          },
          "metadata": {},
          "execution_count": 30
        }
      ]
    },
    {
      "cell_type": "code",
      "source": [
        "bool_1=True\n",
        "bool_2=False\n",
        "type(bool_1)"
      ],
      "metadata": {
        "colab": {
          "base_uri": "https://localhost:8080/"
        },
        "id": "1gPcRhPI9YCY",
        "outputId": "535cb66f-4f34-4d27-a639-fca896b32d0d"
      },
      "execution_count": null,
      "outputs": [
        {
          "output_type": "execute_result",
          "data": {
            "text/plain": [
              "bool"
            ]
          },
          "metadata": {},
          "execution_count": 34
        }
      ]
    },
    {
      "cell_type": "markdown",
      "source": [
        "# OPERATORS\n",
        "Operators are constraints which can help manipulate the value of operands\n",
        "  1. Arithmatic Operators - used to perform mathematical operators like add, subtract, multiply, etc\n",
        "  2. Comparision Operators - used to compare values. It either returns True or False according to the condition\n",
        "  3. Logical Operators (and,or,not) - used to perform logical operations\n",
        "  4. Bitwise Operators (&,|,~,^) - These act like operators as if they were string of binary digits. It operates bit by bit.\n",
        "  5. Assignment Operators - used to assign values to variable\n",
        "  6. Ternary Operators -  also known as conditional statements, test a condition in a single line replacing mutiple lines of code.\n",
        "  \n"
      ],
      "metadata": {
        "id": "N1dT_gnn-a8x"
      }
    },
    {
      "cell_type": "code",
      "source": [
        "34+45"
      ],
      "metadata": {
        "colab": {
          "base_uri": "https://localhost:8080/"
        },
        "id": "RpmdmjAo-ePB",
        "outputId": "e10af066-35b2-4754-e546-fc1307ce66d3"
      },
      "execution_count": null,
      "outputs": [
        {
          "output_type": "execute_result",
          "data": {
            "text/plain": [
              "79"
            ]
          },
          "metadata": {},
          "execution_count": 36
        }
      ]
    },
    {
      "cell_type": "code",
      "source": [
        "print(34**2)\n",
        "print(34/2)"
      ],
      "metadata": {
        "colab": {
          "base_uri": "https://localhost:8080/"
        },
        "id": "0oDNtoc6-g5Y",
        "outputId": "e8d6c65f-7a9c-4715-f678-058c5dfc0e3b"
      },
      "execution_count": null,
      "outputs": [
        {
          "output_type": "stream",
          "name": "stdout",
          "text": [
            "1156\n",
            "17.0\n"
          ]
        }
      ]
    },
    {
      "cell_type": "code",
      "source": [
        "# ARITHMATIC OPERATORS\n",
        "variable1, variable2 = 5, 2\n",
        "print(variable1 + variable2)\n",
        "print(variable1 - variable2)\n",
        "print(variable1 * variable2)\n",
        "print(variable1 / variable2)\n",
        "print(variable1 // variable2)   #Truncation division\n",
        "print(variable1 % variable2)    #Modulo returns remainder\n",
        "print(variable1 ** variable2)   #Power of number"
      ],
      "metadata": {
        "colab": {
          "base_uri": "https://localhost:8080/"
        },
        "id": "Dp9E6_AjyaKB",
        "outputId": "7e33a431-acd9-44b8-8bea-fab0eea3d935"
      },
      "execution_count": null,
      "outputs": [
        {
          "output_type": "stream",
          "name": "stdout",
          "text": [
            "7\n",
            "3\n",
            "10\n",
            "2.5\n",
            "2\n",
            "1\n",
            "25\n"
          ]
        }
      ]
    },
    {
      "cell_type": "code",
      "source": [
        "# COMPARISION OPERATORS\n",
        "variable1, variable2 = 7, 3\n",
        "print(variable1 > variable2)\n",
        "print(variable1 < variable2)\n",
        "print(variable1 == variable2)\n",
        "print(variable1 != variable2)"
      ],
      "metadata": {
        "colab": {
          "base_uri": "https://localhost:8080/"
        },
        "id": "VQqKac2wznH5",
        "outputId": "78d6441e-1447-4191-e974-e54a57f24f9c"
      },
      "execution_count": null,
      "outputs": [
        {
          "output_type": "stream",
          "name": "stdout",
          "text": [
            "True\n",
            "False\n",
            "False\n",
            "True\n"
          ]
        }
      ]
    },
    {
      "cell_type": "code",
      "source": [
        "# LOGICAL OPERATORS\n",
        "variable1, variable2 = True, False\n",
        "print(variable1 and variable2)\n",
        "print(variable1 or variable2)\n",
        "print(not variable2)"
      ],
      "metadata": {
        "colab": {
          "base_uri": "https://localhost:8080/"
        },
        "id": "TU9SavpqzzL3",
        "outputId": "26a3d78d-8698-4c06-a21e-d6c19e3f33ac"
      },
      "execution_count": null,
      "outputs": [
        {
          "output_type": "stream",
          "name": "stdout",
          "text": [
            "False\n",
            "True\n",
            "True\n"
          ]
        }
      ]
    },
    {
      "cell_type": "code",
      "source": [
        "# BITWISE OPERATORS\n",
        "variable1, variable2 = 3,7\n",
        "print(variable1 & variable2)  # Bitwise AND -> 0000 0011 & 0000 0111 -> 0000 0011  \n",
        "print(variable1 | variable2)  # Bitwise OR  -> 0000 0011 | 0000 0111 -> 0000 0111\n",
        "print(~variable2)\n",
        "print(variable1 ^ variable2)  # Bitwise XOR -> 0000 0011 ^ 0000 0111 -> 0000 0100"
      ],
      "metadata": {
        "colab": {
          "base_uri": "https://localhost:8080/"
        },
        "id": "t71IsMwZ0ryl",
        "outputId": "3fc08d30-df78-4ec8-8340-f1c8e9a01939"
      },
      "execution_count": null,
      "outputs": [
        {
          "output_type": "stream",
          "name": "stdout",
          "text": [
            "3\n",
            "7\n",
            "-8\n",
            "4\n"
          ]
        }
      ]
    },
    {
      "cell_type": "code",
      "source": [
        "# ASSIGNMENT OPERATORS\n",
        "var3 = 40\n",
        "\n",
        "var3 += 4\n",
        "print(var3)\n",
        "\n",
        "var3 -= 4\n",
        "print(var3)\n",
        "\n",
        "var3 *= 4\n",
        "print(var3)\n",
        "\n",
        "var3 /= 4\n",
        "print(var3)\n",
        "\n",
        "var3 %= 4\n",
        "print(var3)"
      ],
      "metadata": {
        "colab": {
          "base_uri": "https://localhost:8080/"
        },
        "id": "xwwAoFLL3TKy",
        "outputId": "d881e89b-c987-4417-c9d2-ba681c9238fc"
      },
      "execution_count": null,
      "outputs": [
        {
          "output_type": "stream",
          "name": "stdout",
          "text": [
            "44\n",
            "40\n",
            "160\n",
            "40.0\n",
            "0.0\n"
          ]
        }
      ]
    },
    {
      "cell_type": "code",
      "source": [
        "a, b=10,20\n",
        "max = a if a>b else b\n",
        "print(max)"
      ],
      "metadata": {
        "colab": {
          "base_uri": "https://localhost:8080/"
        },
        "id": "pNDAnL_eDu06",
        "outputId": "279fb673-e6a2-44b0-f206-baac4c900305"
      },
      "execution_count": null,
      "outputs": [
        {
          "output_type": "stream",
          "name": "stdout",
          "text": [
            "20\n"
          ]
        }
      ]
    },
    {
      "cell_type": "markdown",
      "source": [
        "#IMPORT"
      ],
      "metadata": {
        "id": "i5B4WA3T-sZ8"
      }
    },
    {
      "cell_type": "code",
      "source": [
        "#invalid syntax\n",
        "import=10"
      ],
      "metadata": {
        "id": "I8qAFQRwvF5K"
      },
      "execution_count": null,
      "outputs": []
    },
    {
      "cell_type": "code",
      "source": [
        "import keyword\n",
        "print(keyword.kwlist)"
      ],
      "metadata": {
        "colab": {
          "base_uri": "https://localhost:8080/"
        },
        "id": "mT-bHIDCvHzK",
        "outputId": "1cb8350d-4b78-4ab0-d4a5-56d8f7a26d78"
      },
      "execution_count": null,
      "outputs": [
        {
          "output_type": "stream",
          "name": "stdout",
          "text": [
            "['False', 'None', 'True', 'and', 'as', 'assert', 'async', 'await', 'break', 'class', 'continue', 'def', 'del', 'elif', 'else', 'except', 'finally', 'for', 'from', 'global', 'if', 'import', 'in', 'is', 'lambda', 'nonlocal', 'not', 'or', 'pass', 'raise', 'return', 'try', 'while', 'with', 'yield']\n"
          ]
        }
      ]
    },
    {
      "cell_type": "code",
      "source": [
        "# len() -  It returns the LENGTH of list of keywords\n",
        "len(keyword.kwlist)"
      ],
      "metadata": {
        "colab": {
          "base_uri": "https://localhost:8080/"
        },
        "id": "93jE1_5AvNkC",
        "outputId": "ab537c9d-443b-4977-e6cc-46bc90c2b0b9"
      },
      "execution_count": null,
      "outputs": [
        {
          "output_type": "execute_result",
          "data": {
            "text/plain": [
              "35"
            ]
          },
          "metadata": {},
          "execution_count": 21
        }
      ]
    },
    {
      "cell_type": "code",
      "source": [
        "import sys"
      ],
      "metadata": {
        "id": "JXmYF6T8-wIo"
      },
      "execution_count": null,
      "outputs": []
    },
    {
      "cell_type": "code",
      "source": [
        "sys.version"
      ],
      "metadata": {
        "colab": {
          "base_uri": "https://localhost:8080/",
          "height": 35
        },
        "id": "S7u9IeuX_p5h",
        "outputId": "0c808d46-0a80-4f98-d770-7b55ec432b59"
      },
      "execution_count": null,
      "outputs": [
        {
          "output_type": "execute_result",
          "data": {
            "text/plain": [
              "'3.8.10 (default, Nov 14 2022, 12:59:47) \\n[GCC 9.4.0]'"
            ],
            "application/vnd.google.colaboratory.intrinsic+json": {
              "type": "string"
            }
          },
          "metadata": {},
          "execution_count": 44
        }
      ]
    },
    {
      "cell_type": "code",
      "source": [
        "print(sys.version)"
      ],
      "metadata": {
        "colab": {
          "base_uri": "https://localhost:8080/"
        },
        "id": "M3UI1WsH-xfC",
        "outputId": "650a27ef-ed0a-414b-b122-336674a38c81"
      },
      "execution_count": null,
      "outputs": [
        {
          "output_type": "stream",
          "name": "stdout",
          "text": [
            "3.8.10 (default, Nov 14 2022, 12:59:47) \n",
            "[GCC 9.4.0]\n"
          ]
        }
      ]
    },
    {
      "cell_type": "code",
      "source": [
        "import platform\n",
        "platform.python_version()"
      ],
      "metadata": {
        "colab": {
          "base_uri": "https://localhost:8080/",
          "height": 35
        },
        "id": "gXtOtx_D_yjn",
        "outputId": "77946ecf-85a6-4b2a-a380-dbdbe528e675"
      },
      "execution_count": null,
      "outputs": [
        {
          "output_type": "execute_result",
          "data": {
            "text/plain": [
              "'3.8.10'"
            ],
            "application/vnd.google.colaboratory.intrinsic+json": {
              "type": "string"
            }
          },
          "metadata": {},
          "execution_count": 49
        }
      ]
    },
    {
      "cell_type": "markdown",
      "source": [
        "#STRING METHODS"
      ],
      "metadata": {
        "id": "g-KSHph6AgAS"
      }
    },
    {
      "cell_type": "code",
      "source": [
        "str_1=\"This is Python's String1\"\n",
        "str_2=\"This is Python's String2\""
      ],
      "metadata": {
        "id": "_aez8fFQAjeq"
      },
      "execution_count": null,
      "outputs": []
    },
    {
      "cell_type": "code",
      "source": [
        "# Concatination of Strings\n",
        "str_3=str_1+' '+str_2\n",
        "print(str_3)"
      ],
      "metadata": {
        "colab": {
          "base_uri": "https://localhost:8080/"
        },
        "id": "cers-P8YDEd0",
        "outputId": "10ce8550-c279-4f4b-8b4b-4917c29c4a49"
      },
      "execution_count": null,
      "outputs": [
        {
          "output_type": "stream",
          "name": "stdout",
          "text": [
            "This is Python's String1 This is Python's String2\n"
          ]
        }
      ]
    },
    {
      "cell_type": "code",
      "source": [
        "str_3.capitalize()"
      ],
      "metadata": {
        "colab": {
          "base_uri": "https://localhost:8080/",
          "height": 35
        },
        "id": "JR5G04g2DSOq",
        "outputId": "4ec621b8-5dde-49bc-b75f-cc7b7a287669"
      },
      "execution_count": null,
      "outputs": [
        {
          "output_type": "execute_result",
          "data": {
            "text/plain": [
              "\"This is python's string1 this is python's string2\""
            ],
            "application/vnd.google.colaboratory.intrinsic+json": {
              "type": "string"
            }
          },
          "metadata": {},
          "execution_count": 55
        }
      ]
    },
    {
      "cell_type": "code",
      "source": [
        "str_3.title()"
      ],
      "metadata": {
        "colab": {
          "base_uri": "https://localhost:8080/",
          "height": 35
        },
        "id": "w8F2ePkWDur3",
        "outputId": "39b28d1d-be8c-449c-831b-7b60487025c8"
      },
      "execution_count": null,
      "outputs": [
        {
          "output_type": "execute_result",
          "data": {
            "text/plain": [
              "\"This Is Python'S String1 This Is Python'S String2\""
            ],
            "application/vnd.google.colaboratory.intrinsic+json": {
              "type": "string"
            }
          },
          "metadata": {},
          "execution_count": 56
        }
      ]
    },
    {
      "cell_type": "code",
      "source": [
        "str_3.lower()"
      ],
      "metadata": {
        "colab": {
          "base_uri": "https://localhost:8080/",
          "height": 35
        },
        "id": "ISSzMqj7EBho",
        "outputId": "f4c4a11c-b857-4205-b6de-4598b1d6edbf"
      },
      "execution_count": null,
      "outputs": [
        {
          "output_type": "execute_result",
          "data": {
            "text/plain": [
              "\"this is python's string1 this is python's string2\""
            ],
            "application/vnd.google.colaboratory.intrinsic+json": {
              "type": "string"
            }
          },
          "metadata": {},
          "execution_count": 57
        }
      ]
    },
    {
      "cell_type": "code",
      "source": [
        "str_5=\"This,is,a,python program\"\n",
        "#separator or delimiter ',' ' '\n",
        "print(str_5.split(','))"
      ],
      "metadata": {
        "colab": {
          "base_uri": "https://localhost:8080/"
        },
        "id": "9CtnCEuKKf02",
        "outputId": "527443c4-bd30-4c53-f3d1-1c331bcc9aa1"
      },
      "execution_count": null,
      "outputs": [
        {
          "output_type": "stream",
          "name": "stdout",
          "text": [
            "['This', 'is', 'a', 'python program']\n"
          ]
        }
      ]
    },
    {
      "cell_type": "code",
      "source": [
        "str_5=\"This is a python program\"\n",
        "print(str_5.split(' '))"
      ],
      "metadata": {
        "colab": {
          "base_uri": "https://localhost:8080/"
        },
        "id": "nzdXp8pyLeqJ",
        "outputId": "04ffcf64-9bea-4871-f774-153d5950c95a"
      },
      "execution_count": null,
      "outputs": [
        {
          "output_type": "stream",
          "name": "stdout",
          "text": [
            "['This', 'is', 'a', 'python', 'program']\n"
          ]
        }
      ]
    },
    {
      "cell_type": "code",
      "source": [
        "str_6=\"Data Engineering with Python\"\n",
        "str_6.partition(' with ')"
      ],
      "metadata": {
        "colab": {
          "base_uri": "https://localhost:8080/"
        },
        "id": "XcxD_dnOLqmJ",
        "outputId": "391062e8-d07d-43d1-a214-67865ac53eb3"
      },
      "execution_count": null,
      "outputs": [
        {
          "output_type": "execute_result",
          "data": {
            "text/plain": [
              "('Data Engineering', ' with ', 'Python')"
            ]
          },
          "metadata": {},
          "execution_count": 80
        }
      ]
    },
    {
      "cell_type": "code",
      "source": [],
      "metadata": {
        "id": "w3EUsMo9MNE4"
      },
      "execution_count": null,
      "outputs": []
    },
    {
      "cell_type": "markdown",
      "source": [
        "#INDEXING AND SLICING"
      ],
      "metadata": {
        "id": "eo_zJQLpEvTQ"
      }
    },
    {
      "cell_type": "code",
      "source": [
        "str_4=\"This is TEK Python Session. We are learning about python basics\""
      ],
      "metadata": {
        "id": "afPygIMRE0qV"
      },
      "execution_count": null,
      "outputs": []
    },
    {
      "cell_type": "code",
      "source": [
        "str_4[0]"
      ],
      "metadata": {
        "colab": {
          "base_uri": "https://localhost:8080/",
          "height": 35
        },
        "id": "y1Xvo94zFLVC",
        "outputId": "3220284f-7835-4d01-bf50-98fb75315f9b"
      },
      "execution_count": null,
      "outputs": [
        {
          "output_type": "execute_result",
          "data": {
            "text/plain": [
              "'T'"
            ],
            "application/vnd.google.colaboratory.intrinsic+json": {
              "type": "string"
            }
          },
          "metadata": {},
          "execution_count": 60
        }
      ]
    },
    {
      "cell_type": "code",
      "source": [
        "str_4[-1]"
      ],
      "metadata": {
        "colab": {
          "base_uri": "https://localhost:8080/",
          "height": 35
        },
        "id": "FggPWpbDFSa7",
        "outputId": "772236e3-06b8-4d52-c10c-0f914475e222"
      },
      "execution_count": null,
      "outputs": [
        {
          "output_type": "execute_result",
          "data": {
            "text/plain": [
              "'s'"
            ],
            "application/vnd.google.colaboratory.intrinsic+json": {
              "type": "string"
            }
          },
          "metadata": {},
          "execution_count": 61
        }
      ]
    },
    {
      "cell_type": "code",
      "source": [
        "str_4[8]"
      ],
      "metadata": {
        "colab": {
          "base_uri": "https://localhost:8080/",
          "height": 35
        },
        "id": "BvDvFqudFY_M",
        "outputId": "4fc8fde4-1770-4984-dadb-664732309948"
      },
      "execution_count": null,
      "outputs": [
        {
          "output_type": "execute_result",
          "data": {
            "text/plain": [
              "'T'"
            ],
            "application/vnd.google.colaboratory.intrinsic+json": {
              "type": "string"
            }
          },
          "metadata": {},
          "execution_count": 62
        }
      ]
    },
    {
      "cell_type": "code",
      "source": [
        "str_4[-6]"
      ],
      "metadata": {
        "colab": {
          "base_uri": "https://localhost:8080/",
          "height": 35
        },
        "id": "YfKFg-PUFdk8",
        "outputId": "016f4de2-20eb-4a3a-9d62-6c00a76d15d2"
      },
      "execution_count": null,
      "outputs": [
        {
          "output_type": "execute_result",
          "data": {
            "text/plain": [
              "'b'"
            ],
            "application/vnd.google.colaboratory.intrinsic+json": {
              "type": "string"
            }
          },
          "metadata": {},
          "execution_count": 63
        }
      ]
    },
    {
      "cell_type": "code",
      "source": [
        "# find returns index position if word from string\n",
        "str_4.find('Python')"
      ],
      "metadata": {
        "colab": {
          "base_uri": "https://localhost:8080/"
        },
        "id": "dBIMWg3UFoZL",
        "outputId": "348aba33-8b02-4645-d881-4065cf1948a2"
      },
      "execution_count": null,
      "outputs": [
        {
          "output_type": "execute_result",
          "data": {
            "text/plain": [
              "12"
            ]
          },
          "metadata": {},
          "execution_count": 67
        }
      ]
    },
    {
      "cell_type": "code",
      "source": [
        "str_4.find('python')"
      ],
      "metadata": {
        "colab": {
          "base_uri": "https://localhost:8080/"
        },
        "id": "ftss7UW6Ghwt",
        "outputId": "48b4d6a1-cd27-4290-b2f8-9b06d2054194"
      },
      "execution_count": null,
      "outputs": [
        {
          "output_type": "execute_result",
          "data": {
            "text/plain": [
              "50"
            ]
          },
          "metadata": {},
          "execution_count": 69
        }
      ]
    },
    {
      "cell_type": "code",
      "source": [
        "# find returns index only for first word from the entire string\n",
        "str_4.lower().find('python')"
      ],
      "metadata": {
        "colab": {
          "base_uri": "https://localhost:8080/"
        },
        "id": "PusKRC4oGkLv",
        "outputId": "28a57763-6a0e-4400-c503-53c0f51345df"
      },
      "execution_count": null,
      "outputs": [
        {
          "output_type": "execute_result",
          "data": {
            "text/plain": [
              "12"
            ]
          },
          "metadata": {},
          "execution_count": 70
        }
      ]
    },
    {
      "cell_type": "code",
      "source": [
        "str_4.find('.')"
      ],
      "metadata": {
        "colab": {
          "base_uri": "https://localhost:8080/"
        },
        "id": "zQA6_VwLGxyx",
        "outputId": "ad00e8e8-e971-4c7d-957a-13487235b278"
      },
      "execution_count": null,
      "outputs": [
        {
          "output_type": "execute_result",
          "data": {
            "text/plain": [
              "26"
            ]
          },
          "metadata": {},
          "execution_count": 71
        }
      ]
    },
    {
      "cell_type": "code",
      "source": [
        "str_4[:]"
      ],
      "metadata": {
        "colab": {
          "base_uri": "https://localhost:8080/",
          "height": 35
        },
        "id": "MfTmXt91HwIU",
        "outputId": "4691023b-fb2e-484c-ecd5-c5ea8bec1985"
      },
      "execution_count": null,
      "outputs": [
        {
          "output_type": "execute_result",
          "data": {
            "text/plain": [
              "'This is TEK Python Session. We are learning about python basics'"
            ],
            "application/vnd.google.colaboratory.intrinsic+json": {
              "type": "string"
            }
          },
          "metadata": {},
          "execution_count": 72
        }
      ]
    },
    {
      "cell_type": "code",
      "source": [
        "str_4[8:26]"
      ],
      "metadata": {
        "colab": {
          "base_uri": "https://localhost:8080/",
          "height": 35
        },
        "id": "d-NhuGczHz3F",
        "outputId": "5e21b9f2-a59f-460b-8717-01cf57c2b346"
      },
      "execution_count": null,
      "outputs": [
        {
          "output_type": "execute_result",
          "data": {
            "text/plain": [
              "'TEK Python Session'"
            ],
            "application/vnd.google.colaboratory.intrinsic+json": {
              "type": "string"
            }
          },
          "metadata": {},
          "execution_count": 73
        }
      ]
    },
    {
      "cell_type": "code",
      "source": [
        "str_4[8:26:2]"
      ],
      "metadata": {
        "colab": {
          "base_uri": "https://localhost:8080/",
          "height": 35
        },
        "id": "TBBVxJ8ZIJp2",
        "outputId": "a7468d1a-9ad7-455f-df13-ac6e2994977f"
      },
      "execution_count": null,
      "outputs": [
        {
          "output_type": "execute_result",
          "data": {
            "text/plain": [
              "'TKPto eso'"
            ],
            "application/vnd.google.colaboratory.intrinsic+json": {
              "type": "string"
            }
          },
          "metadata": {},
          "execution_count": 74
        }
      ]
    },
    {
      "cell_type": "code",
      "source": [
        "# slicing last 6 elements\n",
        "str_4[-6:]"
      ],
      "metadata": {
        "colab": {
          "base_uri": "https://localhost:8080/",
          "height": 35
        },
        "id": "D-qPs2rvIac-",
        "outputId": "9fca92d5-7914-42bc-e37b-4d161dfdddc0"
      },
      "execution_count": null,
      "outputs": [
        {
          "output_type": "execute_result",
          "data": {
            "text/plain": [
              "'basics'"
            ],
            "application/vnd.google.colaboratory.intrinsic+json": {
              "type": "string"
            }
          },
          "metadata": {},
          "execution_count": 75
        }
      ]
    },
    {
      "cell_type": "code",
      "source": [
        "# reverse string\n",
        "str_4[::-1]"
      ],
      "metadata": {
        "colab": {
          "base_uri": "https://localhost:8080/",
          "height": 35
        },
        "id": "OaFOGGJ_I7Ne",
        "outputId": "d114a9da-6a97-4f10-81a8-511835d179e1"
      },
      "execution_count": null,
      "outputs": [
        {
          "output_type": "execute_result",
          "data": {
            "text/plain": [
              "'scisab nohtyp tuoba gninrael era eW .noisseS nohtyP KET si sihT'"
            ],
            "application/vnd.google.colaboratory.intrinsic+json": {
              "type": "string"
            }
          },
          "metadata": {},
          "execution_count": 76
        }
      ]
    },
    {
      "cell_type": "markdown",
      "source": [
        "#LISTS\n",
        "* This is mutable data structure. Modification is allowed\n",
        "* It is heterogenous collection of multiplle data items of diff datatypes\n",
        "eg. int, complex, boolean, float, strings, etc.\n",
        "* Duplicate values are allowed."
      ],
      "metadata": {
        "id": "pIqm8y4kM2vm"
      }
    },
    {
      "cell_type": "markdown",
      "source": [],
      "metadata": {
        "id": "OR524uiyNXwn"
      }
    },
    {
      "cell_type": "code",
      "source": [
        "# empty list declaration\n",
        "list_1=[]\n",
        "list_1=list()"
      ],
      "metadata": {
        "id": "LQRVmohTN01I"
      },
      "execution_count": null,
      "outputs": []
    },
    {
      "cell_type": "code",
      "source": [
        "list_1=[123,4,24.4,'This is List Session',67j,True,False]"
      ],
      "metadata": {
        "id": "kXGjIyfeOIkB"
      },
      "execution_count": null,
      "outputs": []
    },
    {
      "cell_type": "code",
      "source": [
        "# Concatination - \n",
        "list_1=[123,4,24.4,'This is List Session']\n",
        "list_2=['True',True,False,1010101,23+64j]\n",
        "print(list_1+list_2)"
      ],
      "metadata": {
        "colab": {
          "base_uri": "https://localhost:8080/"
        },
        "id": "e0PdZ45UOWvU",
        "outputId": "faabcca4-f2fa-4a90-dcca-dfb9d1ebaf02"
      },
      "execution_count": null,
      "outputs": [
        {
          "output_type": "stream",
          "name": "stdout",
          "text": [
            "[123, 4, 24.4, 'This is List Session', 'True', True, False, 1010101, (23+64j)]\n"
          ]
        }
      ]
    },
    {
      "cell_type": "code",
      "source": [
        "# Nested List\n",
        "list_3=[123,4,24.4,'This is List Session',['True',True,False,1010101,23+64j]]"
      ],
      "metadata": {
        "id": "JArJbOTtgvNQ"
      },
      "execution_count": null,
      "outputs": []
    },
    {
      "cell_type": "markdown",
      "source": [
        "###METHODS OF LIST"
      ],
      "metadata": {
        "id": "SwS6MDW_hqDq"
      }
    },
    {
      "cell_type": "code",
      "source": [
        "print(list_1)"
      ],
      "metadata": {
        "colab": {
          "base_uri": "https://localhost:8080/"
        },
        "id": "K613WahGhvH4",
        "outputId": "1cdaf107-55df-490f-f5cc-8e3b62ec08fe"
      },
      "execution_count": null,
      "outputs": [
        {
          "output_type": "stream",
          "name": "stdout",
          "text": [
            "[123, 4, 24.4, 'This is List Session']\n"
          ]
        }
      ]
    },
    {
      "cell_type": "code",
      "source": [
        "# APPEND\n",
        "list_1.append(True)\n",
        "print(list_1)"
      ],
      "metadata": {
        "colab": {
          "base_uri": "https://localhost:8080/"
        },
        "id": "W-izHHKbh_TQ",
        "outputId": "ce9858a8-aed0-4c3a-81f6-9ff3bdd5aad0"
      },
      "execution_count": null,
      "outputs": [
        {
          "output_type": "stream",
          "name": "stdout",
          "text": [
            "[123, 4, 24.4, 'This is List Session', True, True]\n"
          ]
        }
      ]
    },
    {
      "cell_type": "code",
      "source": [
        "list_1.append([12132,2343243])\n",
        "print(list_1)"
      ],
      "metadata": {
        "colab": {
          "base_uri": "https://localhost:8080/"
        },
        "id": "gGuXlj4giWLQ",
        "outputId": "89d0923a-f035-4b41-df16-9bddcd879140"
      },
      "execution_count": null,
      "outputs": [
        {
          "output_type": "stream",
          "name": "stdout",
          "text": [
            "[123, 4, 24.4, 'This is List Session', True, True, [12132, 2343243]]\n"
          ]
        }
      ]
    },
    {
      "cell_type": "code",
      "source": [
        "# CLEAR\n",
        "list_2.clear()\n",
        "print(list_2)"
      ],
      "metadata": {
        "colab": {
          "base_uri": "https://localhost:8080/"
        },
        "id": "rOPkFDjsikaS",
        "outputId": "729ecf90-35f4-4149-a7a7-fd631f48a1ae"
      },
      "execution_count": null,
      "outputs": [
        {
          "output_type": "stream",
          "name": "stdout",
          "text": [
            "[]\n"
          ]
        }
      ]
    },
    {
      "cell_type": "code",
      "source": [
        "# DEL Function - deletes variable from the memory \n",
        "del(list_2)"
      ],
      "metadata": {
        "id": "AC1_EYHxi8mC"
      },
      "execution_count": null,
      "outputs": []
    },
    {
      "cell_type": "code",
      "source": [
        "# COPY\n",
        "list_2=list_1.copy()\n",
        "print(list_2)"
      ],
      "metadata": {
        "colab": {
          "base_uri": "https://localhost:8080/"
        },
        "id": "4EvtyarPjieh",
        "outputId": "41b7ba0e-7e31-4d0b-c441-faeeefc2a0d0"
      },
      "execution_count": null,
      "outputs": [
        {
          "output_type": "stream",
          "name": "stdout",
          "text": [
            "[123, 4, 24.4, 'This is List Session', True, True, [12132, 2343243]]\n"
          ]
        }
      ]
    },
    {
      "cell_type": "code",
      "source": [
        "list_4=list_1\n",
        "print(list_4)"
      ],
      "metadata": {
        "colab": {
          "base_uri": "https://localhost:8080/"
        },
        "id": "tDwPlUR1jwmi",
        "outputId": "8c85012f-8eb3-4f65-90ee-c544bd5563ed"
      },
      "execution_count": null,
      "outputs": [
        {
          "output_type": "stream",
          "name": "stdout",
          "text": [
            "[123, 4, 24.4, 'This is List Session', True, True, [12132, 2343243]]\n"
          ]
        }
      ]
    },
    {
      "cell_type": "code",
      "source": [
        "list_1.append(False)"
      ],
      "metadata": {
        "id": "8b6Hf4PAjzG2"
      },
      "execution_count": null,
      "outputs": []
    },
    {
      "cell_type": "code",
      "source": [
        "print(list_4)\n",
        "print(list_2)\n",
        "list_1.append([123,234])"
      ],
      "metadata": {
        "colab": {
          "base_uri": "https://localhost:8080/"
        },
        "id": "HAP_3hhNktLx",
        "outputId": "50a0fd1a-249f-4efb-871c-b7a7f9ef4d5b"
      },
      "execution_count": null,
      "outputs": [
        {
          "output_type": "stream",
          "name": "stdout",
          "text": [
            "[123, 4, 24.4, 'This is List Session', True, True, [12132, 2343243], False]\n",
            "[123, 4, 24.4, 'This is List Session', True, True, [12132, 2343243]]\n"
          ]
        }
      ]
    },
    {
      "cell_type": "code",
      "source": [
        "# COUNT\n",
        "list_1.count(123)"
      ],
      "metadata": {
        "colab": {
          "base_uri": "https://localhost:8080/"
        },
        "id": "8ynZlnWVlEM7",
        "outputId": "c4e6054f-bb06-45ac-b61a-c912eda2172c"
      },
      "execution_count": null,
      "outputs": [
        {
          "output_type": "execute_result",
          "data": {
            "text/plain": [
              "1"
            ]
          },
          "metadata": {},
          "execution_count": 102
        }
      ]
    },
    {
      "cell_type": "code",
      "source": [
        "# EXTEND - appends multiple values as individual elements in the list\n",
        "list_1.extend([123,456,432])\n",
        "print(list_1)"
      ],
      "metadata": {
        "colab": {
          "base_uri": "https://localhost:8080/"
        },
        "id": "y-rnR_aolu5u",
        "outputId": "3bae04fd-5baf-483a-82d8-c54d6151b2a6"
      },
      "execution_count": null,
      "outputs": [
        {
          "output_type": "stream",
          "name": "stdout",
          "text": [
            "[123, 4, 24.4, 'This is List Session', True, True, [12132, 2343243], False, [123, 234], 123, 456, 432]\n"
          ]
        }
      ]
    },
    {
      "cell_type": "code",
      "source": [
        "# INDEX - returns the first occuring index value of a single element \n",
        "list_1.index(123)"
      ],
      "metadata": {
        "colab": {
          "base_uri": "https://localhost:8080/"
        },
        "id": "H8uYiDfsmKVy",
        "outputId": "0c42e048-3c43-4e1a-97bc-f19d1b7c7c54"
      },
      "execution_count": null,
      "outputs": [
        {
          "output_type": "execute_result",
          "data": {
            "text/plain": [
              "0"
            ]
          },
          "metadata": {},
          "execution_count": 105
        }
      ]
    },
    {
      "cell_type": "code",
      "source": [
        "# INSERT - (index,object) it inserts element at a specific index location\n",
        "list_1.insert(3,29)\n",
        "print(list_1)"
      ],
      "metadata": {
        "colab": {
          "base_uri": "https://localhost:8080/"
        },
        "id": "gIlAGZG_my-J",
        "outputId": "fb6c26e3-3350-41e7-e2ba-92641bfaa65b"
      },
      "execution_count": null,
      "outputs": [
        {
          "output_type": "stream",
          "name": "stdout",
          "text": [
            "[123, 4, 24.4, 29, 'This is List Session', True, True, [12132, 2343243], False, [123, 234], 123, 456, 432]\n"
          ]
        }
      ]
    },
    {
      "cell_type": "code",
      "source": [
        "# POP - deletes the element at index position or default value -1\n",
        "list_1.pop(3)"
      ],
      "metadata": {
        "colab": {
          "base_uri": "https://localhost:8080/"
        },
        "id": "fqw4aWSIobdI",
        "outputId": "f81f2a99-13b3-45d2-a90b-115b3f015c0d"
      },
      "execution_count": null,
      "outputs": [
        {
          "output_type": "execute_result",
          "data": {
            "text/plain": [
              "29"
            ]
          },
          "metadata": {},
          "execution_count": 107
        }
      ]
    },
    {
      "cell_type": "code",
      "source": [
        "list_1.pop()"
      ],
      "metadata": {
        "colab": {
          "base_uri": "https://localhost:8080/"
        },
        "id": "2sI07z9moyKS",
        "outputId": "22333193-6a77-40cd-cf3d-6a923453fd2c"
      },
      "execution_count": null,
      "outputs": [
        {
          "output_type": "execute_result",
          "data": {
            "text/plain": [
              "432"
            ]
          },
          "metadata": {},
          "execution_count": 108
        }
      ]
    },
    {
      "cell_type": "code",
      "source": [
        "# REMOVE - deletes the first occurance of the element\n",
        "list_1.remove(123)\n",
        "print(list_1)"
      ],
      "metadata": {
        "colab": {
          "base_uri": "https://localhost:8080/"
        },
        "id": "SAOIVJzno0w7",
        "outputId": "bd8a28ab-3138-4086-c1ec-64c85d20ec76"
      },
      "execution_count": null,
      "outputs": [
        {
          "output_type": "stream",
          "name": "stdout",
          "text": [
            "[4, 24.4, 'This is List Session', True, True, [12132, 2343243], False, [123, 234], 123, 456]\n"
          ]
        }
      ]
    },
    {
      "cell_type": "code",
      "source": [
        "list_1.reverse()\n",
        "print(list_1)"
      ],
      "metadata": {
        "colab": {
          "base_uri": "https://localhost:8080/"
        },
        "id": "ZQW62ZxBpX2S",
        "outputId": "ad33479e-a3bd-4c82-9d8b-eda48a138a96"
      },
      "execution_count": null,
      "outputs": [
        {
          "output_type": "stream",
          "name": "stdout",
          "text": [
            "[4, 24.4, 'This is List Session', True, True, [12132, 2343243], False, [123, 234], 123, 456]\n"
          ]
        }
      ]
    },
    {
      "cell_type": "code",
      "source": [
        "list_1.sort()"
      ],
      "metadata": {
        "id": "qLQTPnpfpzGl"
      },
      "execution_count": null,
      "outputs": []
    },
    {
      "cell_type": "markdown",
      "source": [
        "###INDEXING AND SLICING IN LIST"
      ],
      "metadata": {
        "id": "jW_l9QYiqAyF"
      }
    },
    {
      "cell_type": "code",
      "source": [
        "list_1[-1]"
      ],
      "metadata": {
        "colab": {
          "base_uri": "https://localhost:8080/"
        },
        "id": "iUlODwisqkHI",
        "outputId": "7fc218d3-acb5-45ca-f01e-621b426b6ca3"
      },
      "execution_count": null,
      "outputs": [
        {
          "output_type": "execute_result",
          "data": {
            "text/plain": [
              "456"
            ]
          },
          "metadata": {},
          "execution_count": 118
        }
      ]
    },
    {
      "cell_type": "code",
      "source": [
        "list_1[0]"
      ],
      "metadata": {
        "colab": {
          "base_uri": "https://localhost:8080/"
        },
        "id": "WaMAp2nMqj6N",
        "outputId": "7043fa6d-3b3c-4683-918c-bf644559137e"
      },
      "execution_count": null,
      "outputs": [
        {
          "output_type": "execute_result",
          "data": {
            "text/plain": [
              "4"
            ]
          },
          "metadata": {},
          "execution_count": 119
        }
      ]
    },
    {
      "cell_type": "code",
      "source": [
        "# SLICING\n",
        "list_1[::-1]"
      ],
      "metadata": {
        "colab": {
          "base_uri": "https://localhost:8080/"
        },
        "id": "aJ5HHjfZqLZN",
        "outputId": "3969492d-2c0d-4af5-d1de-6d7c7ddd4869"
      },
      "execution_count": null,
      "outputs": [
        {
          "output_type": "execute_result",
          "data": {
            "text/plain": [
              "[456,\n",
              " 123,\n",
              " [123, 234],\n",
              " False,\n",
              " [12132, 2343243],\n",
              " True,\n",
              " True,\n",
              " 'This is List Session',\n",
              " 24.4,\n",
              " 4]"
            ]
          },
          "metadata": {},
          "execution_count": 117
        }
      ]
    },
    {
      "cell_type": "code",
      "source": [
        "list_1[::2]"
      ],
      "metadata": {
        "colab": {
          "base_uri": "https://localhost:8080/"
        },
        "id": "xivI090Uq6C1",
        "outputId": "a0a162fc-51cf-46e5-9dfd-581606f8f413"
      },
      "execution_count": null,
      "outputs": [
        {
          "output_type": "execute_result",
          "data": {
            "text/plain": [
              "[4, 'This is List Session', True, False, 123]"
            ]
          },
          "metadata": {},
          "execution_count": 120
        }
      ]
    },
    {
      "cell_type": "code",
      "source": [
        "# print all elements of list\n",
        "list_1[0:len(list_1)]"
      ],
      "metadata": {
        "colab": {
          "base_uri": "https://localhost:8080/"
        },
        "id": "UR5kWdVoq9b4",
        "outputId": "426d7703-14ee-4e83-9f2b-78f8b79b6cee"
      },
      "execution_count": null,
      "outputs": [
        {
          "output_type": "execute_result",
          "data": {
            "text/plain": [
              "[4,\n",
              " 24.4,\n",
              " 'This is List Session',\n",
              " True,\n",
              " True,\n",
              " [12132, 2343243],\n",
              " False,\n",
              " [123, 234],\n",
              " 123,\n",
              " 456]"
            ]
          },
          "metadata": {},
          "execution_count": 121
        }
      ]
    },
    {
      "cell_type": "code",
      "source": [
        "list_1[5][1]"
      ],
      "metadata": {
        "colab": {
          "base_uri": "https://localhost:8080/"
        },
        "id": "IHiRqhCEr-TK",
        "outputId": "3038c34e-c9c5-4f66-aa71-a84162331468"
      },
      "execution_count": null,
      "outputs": [
        {
          "output_type": "execute_result",
          "data": {
            "text/plain": [
              "2343243"
            ]
          },
          "metadata": {},
          "execution_count": 122
        }
      ]
    },
    {
      "cell_type": "code",
      "source": [
        "# Concatinating lists\n",
        "list_5=list_1+list_2"
      ],
      "metadata": {
        "id": "Yyye-OASvnHF"
      },
      "execution_count": null,
      "outputs": []
    },
    {
      "cell_type": "code",
      "source": [
        "print(list_5)"
      ],
      "metadata": {
        "colab": {
          "base_uri": "https://localhost:8080/"
        },
        "id": "A0LAXjylv37t",
        "outputId": "9a16e05a-c2b4-4e53-da32-c389a12e61fb"
      },
      "execution_count": null,
      "outputs": [
        {
          "output_type": "stream",
          "name": "stdout",
          "text": [
            "[4, 24.4, 'This is List Session', True, True, [12132, 2343243], False, [123, 234], 123, 456, 123, 4, 24.4, 'This is List Session', True, True, [12132, 2343243]]\n"
          ]
        }
      ]
    },
    {
      "cell_type": "markdown",
      "source": [
        "#TUPLES\n",
        "* Tuples are similar to list and only difference is they are immutable\n",
        "* When we dont want to change data over time, tuples are preffered\n",
        "* Iterating over the elements of tuple is faster compared to iterating in a list\n",
        "* Tuples takes less memory compared to lists"
      ],
      "metadata": {
        "id": "JYbmIx6Ushnc"
      }
    },
    {
      "cell_type": "code",
      "source": [
        "# Empty Tuple declaration\n",
        "tuple1=()\n",
        "tuple1=tuple()"
      ],
      "metadata": {
        "id": "80HdXraTtJNh"
      },
      "execution_count": null,
      "outputs": []
    },
    {
      "cell_type": "code",
      "source": [
        "tuple1=(123, 4, 24.4, 'This is List Session', True, True, [12132, 2343243], False, [123, 234], 123, 456, 432,(23,'sdfgkas',4.5))"
      ],
      "metadata": {
        "id": "NU46aqLauRzT"
      },
      "execution_count": null,
      "outputs": []
    },
    {
      "cell_type": "code",
      "source": [
        "tuple1.count(123)"
      ],
      "metadata": {
        "colab": {
          "base_uri": "https://localhost:8080/"
        },
        "id": "cRLWHMf7uuCH",
        "outputId": "e9534633-77cb-4ebc-ca2c-e95bdbae77e9"
      },
      "execution_count": null,
      "outputs": [
        {
          "output_type": "execute_result",
          "data": {
            "text/plain": [
              "2"
            ]
          },
          "metadata": {},
          "execution_count": 127
        }
      ]
    },
    {
      "cell_type": "code",
      "source": [
        "tuple1.index(123)"
      ],
      "metadata": {
        "colab": {
          "base_uri": "https://localhost:8080/"
        },
        "id": "yQcnZNnguyze",
        "outputId": "9307f80f-be6e-4e7c-83cc-69bc00165f4c"
      },
      "execution_count": null,
      "outputs": [
        {
          "output_type": "execute_result",
          "data": {
            "text/plain": [
              "0"
            ]
          },
          "metadata": {},
          "execution_count": 129
        }
      ]
    },
    {
      "cell_type": "code",
      "source": [
        "# Cnnot update exsisting tuple value\n",
        "tuple1[2]='euafo'"
      ],
      "metadata": {
        "id": "MAhrulIjvAb0"
      },
      "execution_count": null,
      "outputs": []
    },
    {
      "cell_type": "code",
      "source": [
        "tuple2=(23,45,12.43,True,'sdjfjdf')\n",
        "tuple3=tuple1+tuple2\n",
        "print(tuple3)"
      ],
      "metadata": {
        "colab": {
          "base_uri": "https://localhost:8080/"
        },
        "id": "fU0Ogj2nvVIy",
        "outputId": "f7d96796-66ff-4b93-8695-77d4c3c628bc"
      },
      "execution_count": null,
      "outputs": [
        {
          "output_type": "stream",
          "name": "stdout",
          "text": [
            "(123, 4, 24.4, 'This is List Session', True, True, [12132, 2343243], False, [123, 234], 123, 456, 432, (23, 'sdfgkas', 4.5), 23, 45, 12.43, True, 'sdjfjdf')\n"
          ]
        }
      ]
    },
    {
      "cell_type": "markdown",
      "source": [
        "# SETS\n",
        "  * Unique collection of elements. No duplicates are allowed.\n",
        "  * Sets are unordered - have no indes attached to an element\n",
        "  * mutable and heterogeneous"
      ],
      "metadata": {
        "id": "Yx0R9iexwRG-"
      }
    },
    {
      "cell_type": "code",
      "source": [
        "# Declaring empty set\n",
        "set1=set()"
      ],
      "metadata": {
        "id": "z2_8OrrWxI52"
      },
      "execution_count": null,
      "outputs": []
    },
    {
      "cell_type": "code",
      "source": [
        "set1={'abc',1234,'ufdskf',23.5,56j,True,False}"
      ],
      "metadata": {
        "id": "cYwxMm2bxf-G"
      },
      "execution_count": null,
      "outputs": []
    },
    {
      "cell_type": "code",
      "source": [
        "A = {'A','B','C','D','F','H'}\n",
        "B = {'G','H','I','F','D'}\n",
        "C = {'A','N','O','P','H','D'}"
      ],
      "metadata": {
        "id": "nO-w1NScxy2w"
      },
      "execution_count": null,
      "outputs": []
    },
    {
      "cell_type": "code",
      "source": [
        "# Common values of A and B\n",
        "A.intersection(B)"
      ],
      "metadata": {
        "colab": {
          "base_uri": "https://localhost:8080/"
        },
        "id": "mX4reEkmycJl",
        "outputId": "5ab59c2c-d629-46af-a527-7ef0e962c411"
      },
      "execution_count": null,
      "outputs": [
        {
          "output_type": "execute_result",
          "data": {
            "text/plain": [
              "{'D', 'F', 'H'}"
            ]
          },
          "metadata": {},
          "execution_count": 150
        }
      ]
    },
    {
      "cell_type": "code",
      "source": [
        "A.intersection(B,C)"
      ],
      "metadata": {
        "colab": {
          "base_uri": "https://localhost:8080/"
        },
        "id": "3Uc8IHBN66qS",
        "outputId": "743a78f6-846f-4bfc-e4af-f2ebfd121fd8"
      },
      "execution_count": null,
      "outputs": [
        {
          "output_type": "execute_result",
          "data": {
            "text/plain": [
              "{'D', 'H'}"
            ]
          },
          "metadata": {},
          "execution_count": 151
        }
      ]
    },
    {
      "cell_type": "code",
      "source": [
        "A.difference(B)"
      ],
      "metadata": {
        "colab": {
          "base_uri": "https://localhost:8080/"
        },
        "id": "dNIdAZMF6-z2",
        "outputId": "d9b12336-02ad-4ac1-abc4-6f07a7c0ef24"
      },
      "execution_count": null,
      "outputs": [
        {
          "output_type": "execute_result",
          "data": {
            "text/plain": [
              "{'A', 'B', 'C'}"
            ]
          },
          "metadata": {},
          "execution_count": 152
        }
      ]
    },
    {
      "cell_type": "code",
      "source": [
        "A.union(B)"
      ],
      "metadata": {
        "colab": {
          "base_uri": "https://localhost:8080/"
        },
        "id": "I06Jb0Bx7GBZ",
        "outputId": "d5b91fe5-a871-46df-8aa8-4795649d09eb"
      },
      "execution_count": null,
      "outputs": [
        {
          "output_type": "execute_result",
          "data": {
            "text/plain": [
              "{'A', 'B', 'C', 'D', 'F', 'G', 'H', 'I'}"
            ]
          },
          "metadata": {},
          "execution_count": 153
        }
      ]
    },
    {
      "cell_type": "code",
      "source": [
        "A-B"
      ],
      "metadata": {
        "colab": {
          "base_uri": "https://localhost:8080/"
        },
        "id": "yfBBXCbS7IV4",
        "outputId": "9bc01d68-d4ce-4810-8f62-72cf42d14f2e"
      },
      "execution_count": null,
      "outputs": [
        {
          "output_type": "execute_result",
          "data": {
            "text/plain": [
              "{'A', 'B', 'C'}"
            ]
          },
          "metadata": {},
          "execution_count": 154
        }
      ]
    },
    {
      "cell_type": "code",
      "source": [
        "B-A"
      ],
      "metadata": {
        "colab": {
          "base_uri": "https://localhost:8080/"
        },
        "id": "TW-OjKdc7KuC",
        "outputId": "60ba6189-5421-494d-b87a-a475e27e4134"
      },
      "execution_count": null,
      "outputs": [
        {
          "output_type": "execute_result",
          "data": {
            "text/plain": [
              "{'G', 'I'}"
            ]
          },
          "metadata": {},
          "execution_count": 155
        }
      ]
    },
    {
      "cell_type": "code",
      "source": [
        "myset1={11323,True,False,'sdf','sdf',74j}\n",
        "print(myset1)"
      ],
      "metadata": {
        "colab": {
          "base_uri": "https://localhost:8080/"
        },
        "id": "bhDx-W367MpH",
        "outputId": "be4d0bc4-3cc9-4386-dcb5-044cdaa6498c"
      },
      "execution_count": null,
      "outputs": [
        {
          "output_type": "stream",
          "name": "stdout",
          "text": [
            "{False, True, 74j, 11323, 'sdf'}\n"
          ]
        }
      ]
    },
    {
      "cell_type": "code",
      "source": [
        "# ADDing individual value\n",
        "myset1.add(3333)\n",
        "print(myset1)"
      ],
      "metadata": {
        "colab": {
          "base_uri": "https://localhost:8080/"
        },
        "id": "7EdvAxUK7tYI",
        "outputId": "70ee5c4e-9816-49b2-d041-e056234921d4"
      },
      "execution_count": null,
      "outputs": [
        {
          "output_type": "stream",
          "name": "stdout",
          "text": [
            "{False, True, 3333, 74j, 11323, 'sdf'}\n"
          ]
        }
      ]
    },
    {
      "cell_type": "code",
      "source": [
        "# UPDATE - to add multiple values \n",
        "myset1.update(['11,22,33'])\n",
        "print(myset1)"
      ],
      "metadata": {
        "colab": {
          "base_uri": "https://localhost:8080/"
        },
        "id": "-LNwYx5S72Aq",
        "outputId": "633ac10b-40f1-4c43-fd23-e8cd45bc47ed"
      },
      "execution_count": null,
      "outputs": [
        {
          "output_type": "stream",
          "name": "stdout",
          "text": [
            "{False, True, 3333, 74j, '11,22,33', 11323, 'sdf'}\n"
          ]
        }
      ]
    },
    {
      "cell_type": "code",
      "source": [
        "myset1.pop()"
      ],
      "metadata": {
        "colab": {
          "base_uri": "https://localhost:8080/"
        },
        "id": "d7bKOYZN8LLT",
        "outputId": "acfc8054-8aba-446d-f8a7-8fd3208b8084"
      },
      "execution_count": null,
      "outputs": [
        {
          "output_type": "execute_result",
          "data": {
            "text/plain": [
              "False"
            ]
          },
          "metadata": {},
          "execution_count": 159
        }
      ]
    },
    {
      "cell_type": "markdown",
      "source": [
        "#DICTIONARY\n",
        "  * Pair of keys and values where keys need to be unique\n",
        "  * They are mutable"
      ],
      "metadata": {
        "id": "f81PfMCo-yPo"
      }
    },
    {
      "cell_type": "code",
      "source": [
        "# Declaring empty dictionary\n",
        "dict1={}\n",
        "print(type(dict1))"
      ],
      "metadata": {
        "colab": {
          "base_uri": "https://localhost:8080/"
        },
        "id": "yJu3yNOK_erf",
        "outputId": "aa2af703-84b7-42e2-b202-2d0c59652961"
      },
      "execution_count": null,
      "outputs": [
        {
          "output_type": "stream",
          "name": "stdout",
          "text": [
            "<class 'dict'>\n"
          ]
        }
      ]
    },
    {
      "cell_type": "code",
      "source": [
        "emp1={'empid':'TEK1001','name':'xyz','age':'22','city':'hyd'}\n",
        "print(emp1)"
      ],
      "metadata": {
        "colab": {
          "base_uri": "https://localhost:8080/"
        },
        "id": "ZbZa8B6f_opU",
        "outputId": "f71f0446-9763-4d86-ac78-1f48cffdb77b"
      },
      "execution_count": null,
      "outputs": [
        {
          "output_type": "stream",
          "name": "stdout",
          "text": [
            "{'empid': 'TEK1001', 'name': 'xyz', 'age': '22', 'city': 'hyd'}\n"
          ]
        }
      ]
    },
    {
      "cell_type": "code",
      "source": [
        "fb=dict([('A','APPLE'),('B','BANANA'),('C','CARROT')])\n",
        "print(fb)"
      ],
      "metadata": {
        "colab": {
          "base_uri": "https://localhost:8080/"
        },
        "id": "ccWdV7VOAPPb",
        "outputId": "76ea6424-5a32-43df-832e-a44a79bfd43c"
      },
      "execution_count": null,
      "outputs": [
        {
          "output_type": "stream",
          "name": "stdout",
          "text": [
            "{'A': 'APPLE', 'B': 'BANANA', 'C': 'CARROT'}\n"
          ]
        }
      ]
    },
    {
      "cell_type": "code",
      "source": [
        "# Retuens list of tuples of all items\n",
        "emp1.items()"
      ],
      "metadata": {
        "colab": {
          "base_uri": "https://localhost:8080/"
        },
        "id": "1PeHbtBFBH9Q",
        "outputId": "0eebf559-0f0f-4778-ec1f-a87fc71aeb9f"
      },
      "execution_count": null,
      "outputs": [
        {
          "output_type": "execute_result",
          "data": {
            "text/plain": [
              "dict_items([('empid', 'TEK1001'), ('name', 'xyz'), ('age', '22'), ('city', 'hyd')])"
            ]
          },
          "metadata": {},
          "execution_count": 168
        }
      ]
    },
    {
      "cell_type": "code",
      "source": [
        "emp1.keys()"
      ],
      "metadata": {
        "colab": {
          "base_uri": "https://localhost:8080/"
        },
        "id": "ozdVQCg7Be4h",
        "outputId": "4ba6056e-3a03-48bc-bd03-1619d72b7aaa"
      },
      "execution_count": null,
      "outputs": [
        {
          "output_type": "execute_result",
          "data": {
            "text/plain": [
              "dict_keys(['empid', 'name', 'age', 'city'])"
            ]
          },
          "metadata": {},
          "execution_count": 169
        }
      ]
    },
    {
      "cell_type": "code",
      "source": [
        "emp1.values()"
      ],
      "metadata": {
        "colab": {
          "base_uri": "https://localhost:8080/"
        },
        "id": "DCBbfUCcBgy6",
        "outputId": "46e78fc7-4765-4930-f52a-3f9a1ef7b87a"
      },
      "execution_count": null,
      "outputs": [
        {
          "output_type": "execute_result",
          "data": {
            "text/plain": [
              "dict_values(['TEK1001', 'xyz', '22', 'hyd'])"
            ]
          },
          "metadata": {},
          "execution_count": 170
        }
      ]
    },
    {
      "cell_type": "code",
      "source": [
        "# keys from dictionary are used to fetch values\n",
        "emp1['name']"
      ],
      "metadata": {
        "colab": {
          "base_uri": "https://localhost:8080/",
          "height": 35
        },
        "id": "-PtkLdD_BjMb",
        "outputId": "2061c651-c5ed-4a07-e0d2-33d272660d7e"
      },
      "execution_count": null,
      "outputs": [
        {
          "output_type": "execute_result",
          "data": {
            "text/plain": [
              "'xyz'"
            ],
            "application/vnd.google.colaboratory.intrinsic+json": {
              "type": "string"
            }
          },
          "metadata": {},
          "execution_count": 171
        }
      ]
    },
    {
      "cell_type": "code",
      "source": [
        "emp1['salary']=60000\n",
        "print(emp1)"
      ],
      "metadata": {
        "colab": {
          "base_uri": "https://localhost:8080/"
        },
        "id": "_j9FDMxeB49F",
        "outputId": "2c5af8e4-6956-41cb-e3e4-8b330e6d33da"
      },
      "execution_count": null,
      "outputs": [
        {
          "output_type": "stream",
          "name": "stdout",
          "text": [
            "{'empid': 'TEK1001', 'name': 'xyz', 'age': '22', 'city': 'hyd', 'salary': 60000}\n"
          ]
        }
      ]
    },
    {
      "cell_type": "code",
      "source": [
        "emp1.update({'age':[21,22]})\n",
        "print(emp1)"
      ],
      "metadata": {
        "colab": {
          "base_uri": "https://localhost:8080/"
        },
        "id": "18P5Squ8CNWG",
        "outputId": "5de87186-8890-4761-b99f-7a2192ca46e8"
      },
      "execution_count": null,
      "outputs": [
        {
          "output_type": "stream",
          "name": "stdout",
          "text": [
            "{'empid': 'TEK1001', 'name': 'xyz', 'age': [21, 22], 'city': 'hyd', 'salary': 60000}\n"
          ]
        }
      ]
    },
    {
      "cell_type": "code",
      "source": [
        "# POP removes the value by using key\n",
        "emp1.pop('empid')"
      ],
      "metadata": {
        "colab": {
          "base_uri": "https://localhost:8080/",
          "height": 35
        },
        "id": "fsXzijwDC8vj",
        "outputId": "1f85d503-14ca-4742-c0f6-9c7e6178e3f3"
      },
      "execution_count": null,
      "outputs": [
        {
          "output_type": "execute_result",
          "data": {
            "text/plain": [
              "'TEK1001'"
            ],
            "application/vnd.google.colaboratory.intrinsic+json": {
              "type": "string"
            }
          },
          "metadata": {},
          "execution_count": 174
        }
      ]
    },
    {
      "cell_type": "markdown",
      "source": [
        "### NESTED DICTIONARY"
      ],
      "metadata": {
        "id": "qBFg51dbEyYe"
      }
    },
    {
      "cell_type": "code",
      "source": [
        "emp={\n",
        "     '1001':{'name':'ravi','sal':'2000'},\n",
        "     '1002':{'name':'raj','sal':'30000'},\n",
        "     '1003':{'name':'rakul','sal':'9000'}\n",
        "}\n",
        "print(emp)"
      ],
      "metadata": {
        "colab": {
          "base_uri": "https://localhost:8080/"
        },
        "id": "lktYmoH5E2_y",
        "outputId": "9160a72c-66c6-49c8-c38b-252bdd0c1e79"
      },
      "execution_count": null,
      "outputs": [
        {
          "output_type": "stream",
          "name": "stdout",
          "text": [
            "{'1001': {'name': 'ravi', 'sal': '2000'}, '1002': {'name': 'raj', 'sal': '30000'}, '1003': {'name': 'rakul', 'sal': '9000'}}\n"
          ]
        }
      ]
    },
    {
      "cell_type": "code",
      "source": [
        "emp['1001']"
      ],
      "metadata": {
        "colab": {
          "base_uri": "https://localhost:8080/"
        },
        "id": "GmZHfjJhF-zv",
        "outputId": "59866590-eef8-4510-aaaa-a390cc497275"
      },
      "execution_count": null,
      "outputs": [
        {
          "output_type": "execute_result",
          "data": {
            "text/plain": [
              "{'name': 'ravi', 'sal': '2000'}"
            ]
          },
          "metadata": {},
          "execution_count": 177
        }
      ]
    },
    {
      "cell_type": "code",
      "source": [
        "emp['1001']['name']"
      ],
      "metadata": {
        "colab": {
          "base_uri": "https://localhost:8080/",
          "height": 35
        },
        "id": "5aqh6NHaHyKK",
        "outputId": "ded0121d-b1d4-439e-a252-3d04087c5387"
      },
      "execution_count": null,
      "outputs": [
        {
          "output_type": "execute_result",
          "data": {
            "text/plain": [
              "'ravi'"
            ],
            "application/vnd.google.colaboratory.intrinsic+json": {
              "type": "string"
            }
          },
          "metadata": {},
          "execution_count": 178
        }
      ]
    }
  ]
}