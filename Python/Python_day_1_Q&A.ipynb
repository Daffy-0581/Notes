{
  "nbformat": 4,
  "nbformat_minor": 0,
  "metadata": {
    "colab": {
      "provenance": []
    },
    "kernelspec": {
      "name": "python3",
      "display_name": "Python 3"
    },
    "language_info": {
      "name": "python"
    }
  },
  "cells": [
    {
      "cell_type": "markdown",
      "source": [
        "#Unassited Practice Question\n",
        "* Create a nested dictionary\n",
        "* Create 3 dictionaries then create 1 dictionary that will contain the other 3 dictionaries.\n",
        "* Access key-value using get() method\n",
        "* Update an existing key's value\n",
        "* Check if key exists\n",
        "* Delete entire dictionary\n",
        "* Make a copy of dictionary using copy() method"
      ],
      "metadata": {
        "id": "3N_5DeLLLh4f"
      }
    },
    {
      "cell_type": "code",
      "source": [
        "#create nested dictionary\n",
        "emp={'1001':{'name':'ravi','loc':'hyd'},\n",
        "     '1002':{'name':'raja','loc':'hyd'},\n",
        "     '1003':{'name':'rakul','loc':'hyd'} }\n",
        "print(emp)"
      ],
      "metadata": {
        "colab": {
          "base_uri": "https://localhost:8080/"
        },
        "id": "5hvrmntgMKlI",
        "outputId": "76db6f08-49df-4449-8fac-a280d940ada6"
      },
      "execution_count": null,
      "outputs": [
        {
          "output_type": "stream",
          "name": "stdout",
          "text": [
            "{'1001': {'name': 'ravi', 'loc': 'hyd'}, '1002': {'name': 'raja', 'loc': 'hyd'}, '1003': {'name': 'rakul', 'loc': 'hyd'}}\n"
          ]
        }
      ]
    },
    {
      "cell_type": "code",
      "source": [
        "#Create 3 dictionaries then create 1 dictionary that will contain the other 3 dictionaries\n",
        "emp1={'id':'t200','name':'ravi','sal':15000}\n",
        "emp2={'id':'t201','name':'ram','sal':20000}\n",
        "emp3={'id':'t202','name':'raj','sal':25000}\n",
        "\n",
        "emps={'t200':{'name':'ravi','sal':15000},\n",
        "     't201':{'name':'ram','sal':20000},\n",
        "     't203':{'name':'raj','sal':25000} }\n",
        "print(emps)"
      ],
      "metadata": {
        "colab": {
          "base_uri": "https://localhost:8080/"
        },
        "id": "FkUbWwV0MXF_",
        "outputId": "616ec33a-8399-49bf-98f3-49dfc23f64fa"
      },
      "execution_count": null,
      "outputs": [
        {
          "output_type": "stream",
          "name": "stdout",
          "text": [
            "{'t200': {'name': 'ravi', 'sal': 15000}, 't201': {'name': 'ram', 'sal': 20000}, 't203': {'name': 'raj', 'sal': 25000}}\n"
          ]
        }
      ]
    },
    {
      "cell_type": "code",
      "source": [
        "#Access key-value using get() method\n",
        "emps={'t200':{'name':'ravi','sal':15000},\n",
        "     't201':{'name':'ram','sal':20000},\n",
        "     't203':{'name':'raj','sal':25000} }\n",
        "emps['t200'].get('name')"
      ],
      "metadata": {
        "colab": {
          "base_uri": "https://localhost:8080/",
          "height": 35
        },
        "id": "C1KnxFEAOCBx",
        "outputId": "2ad6ba4e-1fd6-4361-d125-c30154e97b78"
      },
      "execution_count": null,
      "outputs": [
        {
          "output_type": "execute_result",
          "data": {
            "text/plain": [
              "'ravi'"
            ],
            "application/vnd.google.colaboratory.intrinsic+json": {
              "type": "string"
            }
          },
          "metadata": {},
          "execution_count": 30
        }
      ]
    },
    {
      "cell_type": "code",
      "source": [
        "#Update an existing key's value\n",
        "emps['t200']['name']='rama'\n",
        "print(emps)"
      ],
      "metadata": {
        "colab": {
          "base_uri": "https://localhost:8080/"
        },
        "id": "8zoggbbbP55h",
        "outputId": "e2427ed2-449a-4a3c-af15-e1967c5a5a4e"
      },
      "execution_count": null,
      "outputs": [
        {
          "output_type": "stream",
          "name": "stdout",
          "text": [
            "{'t200': {'name': 'rama', 'sal': 15000}, 't201': {'name': 'ram', 'sal': 20000}, 't203': {'name': 'raj', 'sal': 25000}}\n"
          ]
        }
      ]
    },
    {
      "cell_type": "code",
      "source": [
        "#Check if key exists\n",
        "print(emps.get('t300'))"
      ],
      "metadata": {
        "colab": {
          "base_uri": "https://localhost:8080/"
        },
        "id": "KEBNNEiBOQUr",
        "outputId": "bb9ee99b-a3fd-4822-8b8d-47ad436809be"
      },
      "execution_count": null,
      "outputs": [
        {
          "output_type": "stream",
          "name": "stdout",
          "text": [
            "None\n"
          ]
        }
      ]
    },
    {
      "cell_type": "code",
      "source": [
        "#Delete entire dictionary\n",
        "emps1={'t200':{'name':'ravi','sal':15000},\n",
        "     't201':{'name':'ram','sal':20000},\n",
        "     't203':{'name':'raj','sal':25000} }\n",
        "del(emps1)\n",
        "print(emps1)"
      ],
      "metadata": {
        "colab": {
          "base_uri": "https://localhost:8080/",
          "height": 200
        },
        "id": "SkoL08eaPWBS",
        "outputId": "c3d7023b-6fb1-4ffa-aab5-e32af9fe8a3f"
      },
      "execution_count": null,
      "outputs": [
        {
          "output_type": "error",
          "ename": "NameError",
          "evalue": "ignored",
          "traceback": [
            "\u001b[0;31m---------------------------------------------------------------------------\u001b[0m",
            "\u001b[0;31mNameError\u001b[0m                                 Traceback (most recent call last)",
            "\u001b[0;32m<ipython-input-17-0b3247249ca5>\u001b[0m in \u001b[0;36m<module>\u001b[0;34m\u001b[0m\n\u001b[1;32m      3\u001b[0m      't203':{'name':'raj','sal':25000} }\n\u001b[1;32m      4\u001b[0m \u001b[0;32mdel\u001b[0m\u001b[0;34m(\u001b[0m\u001b[0memps1\u001b[0m\u001b[0;34m)\u001b[0m\u001b[0;34m\u001b[0m\u001b[0;34m\u001b[0m\u001b[0m\n\u001b[0;32m----> 5\u001b[0;31m \u001b[0mprint\u001b[0m\u001b[0;34m(\u001b[0m\u001b[0memps1\u001b[0m\u001b[0;34m)\u001b[0m\u001b[0;34m\u001b[0m\u001b[0;34m\u001b[0m\u001b[0m\n\u001b[0m",
            "\u001b[0;31mNameError\u001b[0m: name 'emps1' is not defined"
          ]
        }
      ]
    },
    {
      "cell_type": "code",
      "source": [
        "#Make a copy of dictionary using copy() method\n",
        "emps1=emps.copy()\n",
        "print(emps1)"
      ],
      "metadata": {
        "colab": {
          "base_uri": "https://localhost:8080/"
        },
        "id": "KKChaM2RQOy9",
        "outputId": "e6f28bb5-9232-4e54-9c6a-d8592bee0322"
      },
      "execution_count": null,
      "outputs": [
        {
          "output_type": "stream",
          "name": "stdout",
          "text": [
            "{'t200': {'name': 'rama', 'sal': 15000}, 't201': {'name': 'ram', 'sal': 20000}, 't203': {'name': 'raj', 'sal': 25000}}\n"
          ]
        }
      ]
    }
  ]
}