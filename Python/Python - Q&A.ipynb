{
 "cells": [
  {
   "cell_type": "markdown",
   "id": "5579969d",
   "metadata": {},
   "source": [
    "### Create a python program find duplicate files by content. User will input path and it will scan all directories, subdirectories to find duplicate files.\n",
    "### Delete the duplicate file.\n",
    "### hint : use hashlib"
   ]
  },
  {
   "cell_type": "code",
   "execution_count": 16,
   "id": "f821aff1",
   "metadata": {},
   "outputs": [
    {
     "name": "stdout",
     "output_type": "stream",
     "text": [
      "Enter the file : D:/pyfile\n",
      "['test2.txt']\n",
      "Duplicate file test2.txt deleted successfully\n"
     ]
    }
   ],
   "source": [
    "import sys\n",
    "import os\n",
    "import hashlib\n",
    "\n",
    "p=input(\"Enter the file : \")\n",
    "files = os.listdir(p)\n",
    "directory = []\n",
    "for (dir_path, dir_name, files_name) in os.walk(p):\n",
    "    directory.extend(files_name)\n",
    "#print(directory)\n",
    "\n",
    "hash_of_file=[]\n",
    "hash_del=[]\n",
    "\n",
    "parent_path = \"D:/pyfile/\"\n",
    "for files_name in directory:\n",
    "    path = os.path.join(parent_path,files_name)\n",
    "    fileobj1 = open(path)\n",
    "    string1=fileobj1.read()\n",
    "    fileobj1.close()\n",
    "    message = hashlib.sha256()\n",
    "    message.update(string1.encode())\n",
    "    file_hash = message.hexdigest()\n",
    "    if file_hash not in hash_of_file:\n",
    "        hash_of_file.append(file_hash)\n",
    "    else:\n",
    "        hash_del.append(files_name)\n",
    "        \n",
    "    \n",
    "print(hash_del)\n",
    "for files_name in hash_del:\n",
    "    path = os.path.join(parent_path,files_name)\n",
    "    if os.path.isfile(path):\n",
    "        os.remove(path)\n",
    "        print(\"Duplicate file \"+ files_name +\" deleted successfully\")\n",
    "    else:\n",
    "        print(\"Error: %s file not found\" % files_name)"
   ]
  },
  {
   "cell_type": "code",
   "execution_count": 9,
   "id": "582fc914",
   "metadata": {},
   "outputs": [
    {
     "name": "stdout",
     "output_type": "stream",
     "text": [
      "e3b0c44298fc1c149afbf4c8996fb92427ae41e4649b934ca495991b7852b855\n"
     ]
    }
   ],
   "source": [
    "fileobj1 = open(\"D:/pyfile/test1.txt\", \"r\")\n",
    "string1=fileobj1.read()\n",
    "message = hashlib.sha256()\n",
    "message.update(string1.encode())\n",
    "print(message.hexdigest())"
   ]
  },
  {
   "cell_type": "code",
   "execution_count": null,
   "id": "68ab8c83",
   "metadata": {},
   "outputs": [],
   "source": []
  },
  {
   "cell_type": "markdown",
   "id": "8a33541e",
   "metadata": {},
   "source": [
    "### Generate random password with exact length=6, with minimum 1 uppercase, 2 lowercase, 3 digits"
   ]
  },
  {
   "cell_type": "code",
   "execution_count": 46,
   "id": "ae94c35c",
   "metadata": {},
   "outputs": [
    {
     "name": "stdout",
     "output_type": "stream",
     "text": [
      "Random Password :  3v6b1G\n"
     ]
    }
   ],
   "source": [
    "import random\n",
    "import string\n",
    "\n",
    "str2=\"\"\n",
    "s=random.choice(string.ascii_uppercase)\n",
    "str2=str2+s\n",
    "list1.append(s)\n",
    "for i in range(2):\n",
    "    str1 = random.choice(string.ascii_lowercase)\n",
    "    str2 = str2+str1\n",
    "for i in range(3):\n",
    "    n=random.randint(0,9)\n",
    "    str2=str2+str(n)\n",
    "\n",
    "lst = []\n",
    "lst.extend(str2)\n",
    "\n",
    "random.shuffle(lst)\n",
    "\n",
    "str3=\"\"\n",
    "print(\"Random Password : \",str3.join(lst))"
   ]
  },
  {
   "cell_type": "code",
   "execution_count": null,
   "id": "90d468c6",
   "metadata": {},
   "outputs": [],
   "source": []
  }
 ],
 "metadata": {
  "kernelspec": {
   "display_name": "Python 3 (ipykernel)",
   "language": "python",
   "name": "python3"
  },
  "language_info": {
   "codemirror_mode": {
    "name": "ipython",
    "version": 3
   },
   "file_extension": ".py",
   "mimetype": "text/x-python",
   "name": "python",
   "nbconvert_exporter": "python",
   "pygments_lexer": "ipython3",
   "version": "3.9.13"
  }
 },
 "nbformat": 4,
 "nbformat_minor": 5
}
