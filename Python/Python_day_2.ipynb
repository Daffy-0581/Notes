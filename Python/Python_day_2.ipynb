{
  "nbformat": 4,
  "nbformat_minor": 0,
  "metadata": {
    "colab": {
      "provenance": []
    },
    "kernelspec": {
      "name": "python3",
      "display_name": "Python 3"
    },
    "language_info": {
      "name": "python"
    }
  },
  "cells": [
    {
      "cell_type": "markdown",
      "source": [
        "# PYTHON STATEMENTS "
      ],
      "metadata": {
        "id": "BiatFXp742mj"
      }
    },
    {
      "cell_type": "code",
      "source": [
        "# Multiple line statements \n",
        "number = 10+20+30+ \\\n",
        "         40+50+60+ \\\n",
        "         20\n",
        "print(number)\n",
        "number = (10+20+30+ \n",
        "         40+50+60+ \n",
        "         20)\n",
        "print(number)"
      ],
      "metadata": {
        "colab": {
          "base_uri": "https://localhost:8080/"
        },
        "id": "YmXc9s2S46Xx",
        "outputId": "3acb0720-8f0a-489b-da32-44dded56b7a7"
      },
      "execution_count": null,
      "outputs": [
        {
          "output_type": "stream",
          "name": "stdout",
          "text": [
            "230\n",
            "230\n"
          ]
        }
      ]
    },
    {
      "cell_type": "markdown",
      "source": [
        "# PYTHON INDENTATION\n",
        "  *Unlike C, C++, Java where we use braces {} to define a block of code. In python we use indentation."
      ],
      "metadata": {
        "id": "qOwt_Jbk5WXh"
      }
    },
    {
      "cell_type": "code",
      "source": [
        "var1=10\n",
        "     var_2=20"
      ],
      "metadata": {
        "id": "MIKsblFA5mKc"
      },
      "execution_count": null,
      "outputs": []
    },
    {
      "cell_type": "code",
      "source": [
        "var_1=10\n",
        "var_2=20"
      ],
      "metadata": {
        "id": "K_AGT-VF5vOQ"
      },
      "execution_count": null,
      "outputs": []
    },
    {
      "cell_type": "code",
      "source": [
        "p=10\n",
        "if p==10:\n",
        "print(\"abc\")"
      ],
      "metadata": {
        "id": "4LmEzqxW5zjq"
      },
      "execution_count": null,
      "outputs": []
    },
    {
      "cell_type": "markdown",
      "source": [
        "# CONDITIONAL STATEMENTS\n",
        "  * Control or conditional statements allow to check conditions and change behaviour of a program."
      ],
      "metadata": {
        "id": "hFvstS9N6OzA"
      }
    },
    {
      "cell_type": "code",
      "source": [
        "number = 20\n",
        "\n",
        "if number<15:\n",
        "  print(\"Num is less than 15\")\n",
        "  print(\"within if block\")\n",
        "#default\n",
        "print(\"Outside if block\")"
      ],
      "metadata": {
        "colab": {
          "base_uri": "https://localhost:8080/"
        },
        "id": "uWxkOcYB6ccT",
        "outputId": "dfda7e89-7f5b-475e-83b4-23f4713fa480"
      },
      "execution_count": null,
      "outputs": [
        {
          "output_type": "stream",
          "name": "stdout",
          "text": [
            "Outside if block\n"
          ]
        }
      ]
    },
    {
      "cell_type": "code",
      "source": [
        "age = 17\n",
        "\n",
        "if age >= 18:\n",
        "  print(\"Adult\")\n",
        "else:\n",
        "  print(\"Child\")"
      ],
      "metadata": {
        "colab": {
          "base_uri": "https://localhost:8080/"
        },
        "id": "NPcJCHZP6tGl",
        "outputId": "ae22d7db-c8fb-4646-a075-437c13a58013"
      },
      "execution_count": null,
      "outputs": [
        {
          "output_type": "stream",
          "name": "stdout",
          "text": [
            "Child\n"
          ]
        }
      ]
    },
    {
      "cell_type": "code",
      "source": [
        "#NESTED IF STATEMENTS \n",
        "age =14\n",
        "\n",
        "if age>=13:\n",
        "  if age<=19:\n",
        "    print(\"Teen\")\n",
        "  else:\n",
        "    print(\"Adult\")\n",
        "else:\n",
        "  print(\"Child\")\n",
        "print(\"This is default and this statement will always get executed\")"
      ],
      "metadata": {
        "colab": {
          "base_uri": "https://localhost:8080/"
        },
        "id": "UXggBttM_7RZ",
        "outputId": "11e96c5f-2f1d-41a1-f1fe-b3d1b92e2c2d"
      },
      "execution_count": null,
      "outputs": [
        {
          "output_type": "stream",
          "name": "stdout",
          "text": [
            "Teen\n",
            "This is default and this statement will always get executed\n"
          ]
        }
      ]
    },
    {
      "cell_type": "code",
      "source": [
        "age = input(\"Enter a number: \")   # input takes in string as default\n",
        "print(type(age))"
      ],
      "metadata": {
        "colab": {
          "base_uri": "https://localhost:8080/"
        },
        "id": "9q-vaYZOA3YI",
        "outputId": "e1e288a6-f256-4b5d-df72-2acd7eb75329"
      },
      "execution_count": null,
      "outputs": [
        {
          "output_type": "stream",
          "name": "stdout",
          "text": [
            "Enter a number: 2\n",
            "<class 'str'>\n"
          ]
        }
      ]
    },
    {
      "cell_type": "code",
      "source": [
        "age = int(input(\"Enter a number: \"))\n",
        "print(type(age))"
      ],
      "metadata": {
        "colab": {
          "base_uri": "https://localhost:8080/"
        },
        "id": "aibanjkXA960",
        "outputId": "dcc4a9ed-436a-4f12-85f9-0eeba3c50899"
      },
      "execution_count": null,
      "outputs": [
        {
          "output_type": "stream",
          "name": "stdout",
          "text": [
            "Enter a number: 3\n",
            "<class 'int'>\n"
          ]
        }
      ]
    },
    {
      "cell_type": "code",
      "source": [
        "#NESTED IF STATEMENTS \n",
        "age = int(input(\"Enter a num: \"))\n",
        "\n",
        "if age>=13:\n",
        "  if age<=19:\n",
        "    print(\"Teen\")\n",
        "  else:\n",
        "    print(\"Adult\")\n",
        "else:\n",
        "  print(\"Child\")"
      ],
      "metadata": {
        "colab": {
          "base_uri": "https://localhost:8080/"
        },
        "id": "6nc3kTIHAcTQ",
        "outputId": "80520204-b1fe-484f-8367-de8b1a9d9753"
      },
      "execution_count": null,
      "outputs": [
        {
          "output_type": "stream",
          "name": "stdout",
          "text": [
            "Enter a num: 34\n",
            "Adult\n"
          ]
        }
      ]
    },
    {
      "cell_type": "code",
      "source": [
        "# if...  elif(else if)...  else\n",
        "marks= float(input(\"Enter the marks: \"))\n",
        "\n",
        "if marks>90:\n",
        "  print(\"Grade A\")\n",
        "elif 80<marks<=90:\n",
        "  print(\"Grade B\")\n",
        "elif 70<marks<=80:\n",
        "  print(\"Grade C\")\n",
        "elif 60<marks<=70:\n",
        "  print(\"Grade D\")\n",
        "elif 50<marks<=60:\n",
        "  print(\"Grade E\")\n",
        "else:\n",
        "  print(\"Grade F\")"
      ],
      "metadata": {
        "colab": {
          "base_uri": "https://localhost:8080/"
        },
        "id": "9sYp0vb9CD_r",
        "outputId": "7ac3cc1a-c959-4e6d-dea9-ad2b1bbe6263"
      },
      "execution_count": null,
      "outputs": [
        {
          "output_type": "stream",
          "name": "stdout",
          "text": [
            "Enter the marks: 34.5\n",
            "Grade F\n"
          ]
        }
      ]
    },
    {
      "cell_type": "markdown",
      "source": [
        "# Ternary Operators\n",
        "* Also known as conditional statements, test a condition in a single line replacing mutiple lines of code."
      ],
      "metadata": {
        "id": "fpZnitC6D7W2"
      }
    },
    {
      "cell_type": "code",
      "source": [
        "a, b=10,20\n",
        "max = a if a>b else b\n",
        "print(max)"
      ],
      "metadata": {
        "colab": {
          "base_uri": "https://localhost:8080/"
        },
        "id": "X3kPeon2EBlN",
        "outputId": "45b8f1a9-00d5-4aeb-d039-cc8dfce27c90"
      },
      "execution_count": null,
      "outputs": [
        {
          "output_type": "stream",
          "name": "stdout",
          "text": [
            "20\n"
          ]
        }
      ]
    },
    {
      "cell_type": "code",
      "source": [
        "age = int(input(\"Enter age: \"))\n",
        "out= \"adult\" if age>=18 else \"child\"\n",
        "print(out)"
      ],
      "metadata": {
        "colab": {
          "base_uri": "https://localhost:8080/"
        },
        "id": "qBbjTL9_EEAC",
        "outputId": "73db33ad-67a6-4d15-dd7a-7c085b85a5b0"
      },
      "execution_count": null,
      "outputs": [
        {
          "output_type": "stream",
          "name": "stdout",
          "text": [
            "Enter age: 21\n",
            "adult\n"
          ]
        }
      ]
    },
    {
      "cell_type": "code",
      "source": [
        "brother = float(input(\"Enter brother age: \"))\n",
        "sister = float(input(\"Enter sister age: \"))\n",
        "\n",
        "if brother>sister:\n",
        "  print(\"brother is elder\")\n",
        "elif sister>brother:\n",
        "  print(\"sister is greater\")\n",
        "else: \n",
        "  print(\"both are twins\")"
      ],
      "metadata": {
        "colab": {
          "base_uri": "https://localhost:8080/"
        },
        "id": "8rnIgScfEmhs",
        "outputId": "be5eb9e0-40ba-44d6-8664-bd747808e44f"
      },
      "execution_count": null,
      "outputs": [
        {
          "output_type": "stream",
          "name": "stdout",
          "text": [
            "Enter brother age: 12\n",
            "Enter sister age: 12\n",
            "both are twins\n"
          ]
        }
      ]
    },
    {
      "cell_type": "code",
      "source": [
        "brother = float(input(\"Enter brother age: \"))\n",
        "sister = float(input(\"Enter sister age: \"))\n",
        "\n",
        "out = \"brother is elder\" if brother>sister else \"sister is elder\" if sister>brother else \"both are twins\"\n",
        "print(out)"
      ],
      "metadata": {
        "colab": {
          "base_uri": "https://localhost:8080/"
        },
        "id": "1-YkVRZzFbjz",
        "outputId": "ee590ebc-117f-4538-a7d4-1b0146a7720e"
      },
      "execution_count": null,
      "outputs": [
        {
          "output_type": "stream",
          "name": "stdout",
          "text": [
            "Enter brother age: 12\n",
            "Enter sister age: 12\n",
            "both are twins\n"
          ]
        }
      ]
    },
    {
      "cell_type": "markdown",
      "source": [
        "# WHILE LOOP\n",
        "  * use while loop to iterate over a block of code as long as the test expression is true or if the breal statement is found."
      ],
      "metadata": {
        "id": "yejZ5MjeIHQK"
      }
    },
    {
      "cell_type": "code",
      "source": [
        "mylist = [10,20,30,40,50,60,70,80,90]\n",
        "\n",
        "index=0\n",
        "while index<len(mylist):\n",
        "  print(mylist[index])\n",
        "  # update\n",
        "  index+=1"
      ],
      "metadata": {
        "colab": {
          "base_uri": "https://localhost:8080/"
        },
        "id": "FIsBawxfIltf",
        "outputId": "c57550c1-e7de-49f0-d950-9185e9812d09"
      },
      "execution_count": null,
      "outputs": [
        {
          "output_type": "stream",
          "name": "stdout",
          "text": [
            "10\n",
            "20\n",
            "30\n",
            "40\n",
            "50\n",
            "60\n",
            "70\n",
            "80\n",
            "90\n"
          ]
        }
      ]
    },
    {
      "cell_type": "code",
      "source": [
        "mylist = [10,20,30,40,50,60,70,80,90]\n",
        "\n",
        "index=0\n",
        "sum=0\n",
        "while index<len(mylist):\n",
        "  sum+=mylist[index]\n",
        "  index+=1\n",
        "print(sum)"
      ],
      "metadata": {
        "colab": {
          "base_uri": "https://localhost:8080/"
        },
        "id": "XDmN_Vp2JKYt",
        "outputId": "0837e540-c2a9-4665-8fcc-349eeb2da603"
      },
      "execution_count": null,
      "outputs": [
        {
          "output_type": "stream",
          "name": "stdout",
          "text": [
            "450\n"
          ]
        }
      ]
    },
    {
      "cell_type": "markdown",
      "source": [
        "# WHILE LOOP WITH ELSE\n",
        "  * While loop in python have an optional else part \n",
        "  * The statements in else will be executed when condition is not fulfilled anymore."
      ],
      "metadata": {
        "id": "vQhKIoslKxZX"
      }
    },
    {
      "cell_type": "code",
      "source": [
        "guess_val = 5\n",
        "guess=0\n",
        "while guess != guess_val:\n",
        "  guess=int(input(\"enter new number: \"))\n",
        "  if guess>0:\n",
        "    if guess>guess_val:\n",
        "      print(\"number is too large\")\n",
        "    elif guess<guess_val:\n",
        "      print(\"number is too small\")\n",
        "  else:\n",
        "    print(\"Sorry! that you are giving up\")\n",
        "    break\n",
        "    \n",
        "else:\n",
        "  print(\"congratulations !\")"
      ],
      "metadata": {
        "colab": {
          "base_uri": "https://localhost:8080/"
        },
        "id": "jYWIHnt4LKlq",
        "outputId": "59c39f5a-5459-47ac-feae-b18784f09b44"
      },
      "execution_count": null,
      "outputs": [
        {
          "output_type": "stream",
          "name": "stdout",
          "text": [
            "enter new number: -3\n",
            "Sorry! that you are giving up\n"
          ]
        }
      ]
    },
    {
      "cell_type": "markdown",
      "source": [
        "## Find list of even digit numbers\n",
        "Problem statement : write a program which will print all numbers between 1000 and 3000 (both included) such that each digit of number is an even number."
      ],
      "metadata": {
        "id": "KjOZWix4NMAl"
      }
    },
    {
      "cell_type": "code",
      "source": [
        "mylist=[]\n",
        "num=1000\n",
        "while num <= 3000:\n",
        "  if num%2 == 0:\n",
        "    mylist.append(num)\n",
        "  num+=1\n",
        "print(mylist)"
      ],
      "metadata": {
        "colab": {
          "base_uri": "https://localhost:8080/"
        },
        "id": "tcyq_NzjNcnr",
        "outputId": "38724b09-44ba-457f-8b29-5c1edbb0b018"
      },
      "execution_count": null,
      "outputs": [
        {
          "output_type": "stream",
          "name": "stdout",
          "text": [
            "[1000, 1002, 1004, 1006, 1008, 1010, 1012, 1014, 1016, 1018, 1020, 1022, 1024, 1026, 1028, 1030, 1032, 1034, 1036, 1038, 1040, 1042, 1044, 1046, 1048, 1050, 1052, 1054, 1056, 1058, 1060, 1062, 1064, 1066, 1068, 1070, 1072, 1074, 1076, 1078, 1080, 1082, 1084, 1086, 1088, 1090, 1092, 1094, 1096, 1098, 1100, 1102, 1104, 1106, 1108, 1110, 1112, 1114, 1116, 1118, 1120, 1122, 1124, 1126, 1128, 1130, 1132, 1134, 1136, 1138, 1140, 1142, 1144, 1146, 1148, 1150, 1152, 1154, 1156, 1158, 1160, 1162, 1164, 1166, 1168, 1170, 1172, 1174, 1176, 1178, 1180, 1182, 1184, 1186, 1188, 1190, 1192, 1194, 1196, 1198, 1200, 1202, 1204, 1206, 1208, 1210, 1212, 1214, 1216, 1218, 1220, 1222, 1224, 1226, 1228, 1230, 1232, 1234, 1236, 1238, 1240, 1242, 1244, 1246, 1248, 1250, 1252, 1254, 1256, 1258, 1260, 1262, 1264, 1266, 1268, 1270, 1272, 1274, 1276, 1278, 1280, 1282, 1284, 1286, 1288, 1290, 1292, 1294, 1296, 1298, 1300, 1302, 1304, 1306, 1308, 1310, 1312, 1314, 1316, 1318, 1320, 1322, 1324, 1326, 1328, 1330, 1332, 1334, 1336, 1338, 1340, 1342, 1344, 1346, 1348, 1350, 1352, 1354, 1356, 1358, 1360, 1362, 1364, 1366, 1368, 1370, 1372, 1374, 1376, 1378, 1380, 1382, 1384, 1386, 1388, 1390, 1392, 1394, 1396, 1398, 1400, 1402, 1404, 1406, 1408, 1410, 1412, 1414, 1416, 1418, 1420, 1422, 1424, 1426, 1428, 1430, 1432, 1434, 1436, 1438, 1440, 1442, 1444, 1446, 1448, 1450, 1452, 1454, 1456, 1458, 1460, 1462, 1464, 1466, 1468, 1470, 1472, 1474, 1476, 1478, 1480, 1482, 1484, 1486, 1488, 1490, 1492, 1494, 1496, 1498, 1500, 1502, 1504, 1506, 1508, 1510, 1512, 1514, 1516, 1518, 1520, 1522, 1524, 1526, 1528, 1530, 1532, 1534, 1536, 1538, 1540, 1542, 1544, 1546, 1548, 1550, 1552, 1554, 1556, 1558, 1560, 1562, 1564, 1566, 1568, 1570, 1572, 1574, 1576, 1578, 1580, 1582, 1584, 1586, 1588, 1590, 1592, 1594, 1596, 1598, 1600, 1602, 1604, 1606, 1608, 1610, 1612, 1614, 1616, 1618, 1620, 1622, 1624, 1626, 1628, 1630, 1632, 1634, 1636, 1638, 1640, 1642, 1644, 1646, 1648, 1650, 1652, 1654, 1656, 1658, 1660, 1662, 1664, 1666, 1668, 1670, 1672, 1674, 1676, 1678, 1680, 1682, 1684, 1686, 1688, 1690, 1692, 1694, 1696, 1698, 1700, 1702, 1704, 1706, 1708, 1710, 1712, 1714, 1716, 1718, 1720, 1722, 1724, 1726, 1728, 1730, 1732, 1734, 1736, 1738, 1740, 1742, 1744, 1746, 1748, 1750, 1752, 1754, 1756, 1758, 1760, 1762, 1764, 1766, 1768, 1770, 1772, 1774, 1776, 1778, 1780, 1782, 1784, 1786, 1788, 1790, 1792, 1794, 1796, 1798, 1800, 1802, 1804, 1806, 1808, 1810, 1812, 1814, 1816, 1818, 1820, 1822, 1824, 1826, 1828, 1830, 1832, 1834, 1836, 1838, 1840, 1842, 1844, 1846, 1848, 1850, 1852, 1854, 1856, 1858, 1860, 1862, 1864, 1866, 1868, 1870, 1872, 1874, 1876, 1878, 1880, 1882, 1884, 1886, 1888, 1890, 1892, 1894, 1896, 1898, 1900, 1902, 1904, 1906, 1908, 1910, 1912, 1914, 1916, 1918, 1920, 1922, 1924, 1926, 1928, 1930, 1932, 1934, 1936, 1938, 1940, 1942, 1944, 1946, 1948, 1950, 1952, 1954, 1956, 1958, 1960, 1962, 1964, 1966, 1968, 1970, 1972, 1974, 1976, 1978, 1980, 1982, 1984, 1986, 1988, 1990, 1992, 1994, 1996, 1998, 2000, 2002, 2004, 2006, 2008, 2010, 2012, 2014, 2016, 2018, 2020, 2022, 2024, 2026, 2028, 2030, 2032, 2034, 2036, 2038, 2040, 2042, 2044, 2046, 2048, 2050, 2052, 2054, 2056, 2058, 2060, 2062, 2064, 2066, 2068, 2070, 2072, 2074, 2076, 2078, 2080, 2082, 2084, 2086, 2088, 2090, 2092, 2094, 2096, 2098, 2100, 2102, 2104, 2106, 2108, 2110, 2112, 2114, 2116, 2118, 2120, 2122, 2124, 2126, 2128, 2130, 2132, 2134, 2136, 2138, 2140, 2142, 2144, 2146, 2148, 2150, 2152, 2154, 2156, 2158, 2160, 2162, 2164, 2166, 2168, 2170, 2172, 2174, 2176, 2178, 2180, 2182, 2184, 2186, 2188, 2190, 2192, 2194, 2196, 2198, 2200, 2202, 2204, 2206, 2208, 2210, 2212, 2214, 2216, 2218, 2220, 2222, 2224, 2226, 2228, 2230, 2232, 2234, 2236, 2238, 2240, 2242, 2244, 2246, 2248, 2250, 2252, 2254, 2256, 2258, 2260, 2262, 2264, 2266, 2268, 2270, 2272, 2274, 2276, 2278, 2280, 2282, 2284, 2286, 2288, 2290, 2292, 2294, 2296, 2298, 2300, 2302, 2304, 2306, 2308, 2310, 2312, 2314, 2316, 2318, 2320, 2322, 2324, 2326, 2328, 2330, 2332, 2334, 2336, 2338, 2340, 2342, 2344, 2346, 2348, 2350, 2352, 2354, 2356, 2358, 2360, 2362, 2364, 2366, 2368, 2370, 2372, 2374, 2376, 2378, 2380, 2382, 2384, 2386, 2388, 2390, 2392, 2394, 2396, 2398, 2400, 2402, 2404, 2406, 2408, 2410, 2412, 2414, 2416, 2418, 2420, 2422, 2424, 2426, 2428, 2430, 2432, 2434, 2436, 2438, 2440, 2442, 2444, 2446, 2448, 2450, 2452, 2454, 2456, 2458, 2460, 2462, 2464, 2466, 2468, 2470, 2472, 2474, 2476, 2478, 2480, 2482, 2484, 2486, 2488, 2490, 2492, 2494, 2496, 2498, 2500, 2502, 2504, 2506, 2508, 2510, 2512, 2514, 2516, 2518, 2520, 2522, 2524, 2526, 2528, 2530, 2532, 2534, 2536, 2538, 2540, 2542, 2544, 2546, 2548, 2550, 2552, 2554, 2556, 2558, 2560, 2562, 2564, 2566, 2568, 2570, 2572, 2574, 2576, 2578, 2580, 2582, 2584, 2586, 2588, 2590, 2592, 2594, 2596, 2598, 2600, 2602, 2604, 2606, 2608, 2610, 2612, 2614, 2616, 2618, 2620, 2622, 2624, 2626, 2628, 2630, 2632, 2634, 2636, 2638, 2640, 2642, 2644, 2646, 2648, 2650, 2652, 2654, 2656, 2658, 2660, 2662, 2664, 2666, 2668, 2670, 2672, 2674, 2676, 2678, 2680, 2682, 2684, 2686, 2688, 2690, 2692, 2694, 2696, 2698, 2700, 2702, 2704, 2706, 2708, 2710, 2712, 2714, 2716, 2718, 2720, 2722, 2724, 2726, 2728, 2730, 2732, 2734, 2736, 2738, 2740, 2742, 2744, 2746, 2748, 2750, 2752, 2754, 2756, 2758, 2760, 2762, 2764, 2766, 2768, 2770, 2772, 2774, 2776, 2778, 2780, 2782, 2784, 2786, 2788, 2790, 2792, 2794, 2796, 2798, 2800, 2802, 2804, 2806, 2808, 2810, 2812, 2814, 2816, 2818, 2820, 2822, 2824, 2826, 2828, 2830, 2832, 2834, 2836, 2838, 2840, 2842, 2844, 2846, 2848, 2850, 2852, 2854, 2856, 2858, 2860, 2862, 2864, 2866, 2868, 2870, 2872, 2874, 2876, 2878, 2880, 2882, 2884, 2886, 2888, 2890, 2892, 2894, 2896, 2898, 2900, 2902, 2904, 2906, 2908, 2910, 2912, 2914, 2916, 2918, 2920, 2922, 2924, 2926, 2928, 2930, 2932, 2934, 2936, 2938, 2940, 2942, 2944, 2946, 2948, 2950, 2952, 2954, 2956, 2958, 2960, 2962, 2964, 2966, 2968, 2970, 2972, 2974, 2976, 2978, 2980, 2982, 2984, 2986, 2988, 2990, 2992, 2994, 2996, 2998, 3000]\n"
          ]
        }
      ]
    },
    {
      "cell_type": "markdown",
      "source": [
        "# FOR LOOP \n",
        "* Python for loop is an iterator-based for loop. It steps through the items of lists, tuples, strings, key of dictionaries and other iterables.\n"
      ],
      "metadata": {
        "id": "wIIvQtk9Os_y"
      }
    },
    {
      "cell_type": "code",
      "source": [
        "mylist = [10,20,30,40,50,60,70,80,90]\n",
        "\n",
        "add=0\n",
        "#Iterate over lists\n",
        "for i in mylist:\n",
        "  add+=i\n",
        "print(\"Sum of lists is {}\".format(add))"
      ],
      "metadata": {
        "colab": {
          "base_uri": "https://localhost:8080/"
        },
        "id": "QARIlKixPFC8",
        "outputId": "003d1cb6-8992-4c7c-a4f8-1c96e62013d7"
      },
      "execution_count": null,
      "outputs": [
        {
          "output_type": "stream",
          "name": "stdout",
          "text": [
            "Sum of lists is 450\n"
          ]
        }
      ]
    },
    {
      "cell_type": "code",
      "source": [
        "for val in range(1,11):\n",
        "  print(val)"
      ],
      "metadata": {
        "colab": {
          "base_uri": "https://localhost:8080/"
        },
        "id": "XiVkeJfiPY1b",
        "outputId": "84d76bd1-26da-4d10-f125-2fbfa8410d5f"
      },
      "execution_count": null,
      "outputs": [
        {
          "output_type": "stream",
          "name": "stdout",
          "text": [
            "1\n",
            "2\n",
            "3\n",
            "4\n",
            "5\n",
            "6\n",
            "7\n",
            "8\n",
            "9\n",
            "10\n"
          ]
        }
      ]
    },
    {
      "cell_type": "code",
      "source": [
        "for val in range(0,11,3):   # 3 is the step count\n",
        "  print(val)"
      ],
      "metadata": {
        "colab": {
          "base_uri": "https://localhost:8080/"
        },
        "id": "Y3qlKDMyQldR",
        "outputId": "f4321ab4-4a2e-4308-a166-cdce37aab9aa"
      },
      "execution_count": null,
      "outputs": [
        {
          "output_type": "stream",
          "name": "stdout",
          "text": [
            "0\n",
            "3\n",
            "6\n",
            "9\n"
          ]
        }
      ]
    },
    {
      "cell_type": "markdown",
      "source": [
        "## Find list of even digit numbers\n",
        "Problem statement : write a program which will print all numbers between 1000 and 3000 (both included) such that each digit of number is an even number."
      ],
      "metadata": {
        "id": "S05t9ozhQIv7"
      }
    },
    {
      "cell_type": "code",
      "source": [
        "mylist=[]\n",
        "for val in range (1000,3001):\n",
        "  if val%2 == 0:\n",
        "    mylist.append(val)\n",
        "print(mylist)"
      ],
      "metadata": {
        "colab": {
          "base_uri": "https://localhost:8080/"
        },
        "id": "oE1T_qDDQJtN",
        "outputId": "11ff1cd9-54aa-4b3b-c078-11bded6a5dad"
      },
      "execution_count": null,
      "outputs": [
        {
          "output_type": "stream",
          "name": "stdout",
          "text": [
            "[1000, 1002, 1004, 1006, 1008, 1010, 1012, 1014, 1016, 1018, 1020, 1022, 1024, 1026, 1028, 1030, 1032, 1034, 1036, 1038, 1040, 1042, 1044, 1046, 1048, 1050, 1052, 1054, 1056, 1058, 1060, 1062, 1064, 1066, 1068, 1070, 1072, 1074, 1076, 1078, 1080, 1082, 1084, 1086, 1088, 1090, 1092, 1094, 1096, 1098, 1100, 1102, 1104, 1106, 1108, 1110, 1112, 1114, 1116, 1118, 1120, 1122, 1124, 1126, 1128, 1130, 1132, 1134, 1136, 1138, 1140, 1142, 1144, 1146, 1148, 1150, 1152, 1154, 1156, 1158, 1160, 1162, 1164, 1166, 1168, 1170, 1172, 1174, 1176, 1178, 1180, 1182, 1184, 1186, 1188, 1190, 1192, 1194, 1196, 1198, 1200, 1202, 1204, 1206, 1208, 1210, 1212, 1214, 1216, 1218, 1220, 1222, 1224, 1226, 1228, 1230, 1232, 1234, 1236, 1238, 1240, 1242, 1244, 1246, 1248, 1250, 1252, 1254, 1256, 1258, 1260, 1262, 1264, 1266, 1268, 1270, 1272, 1274, 1276, 1278, 1280, 1282, 1284, 1286, 1288, 1290, 1292, 1294, 1296, 1298, 1300, 1302, 1304, 1306, 1308, 1310, 1312, 1314, 1316, 1318, 1320, 1322, 1324, 1326, 1328, 1330, 1332, 1334, 1336, 1338, 1340, 1342, 1344, 1346, 1348, 1350, 1352, 1354, 1356, 1358, 1360, 1362, 1364, 1366, 1368, 1370, 1372, 1374, 1376, 1378, 1380, 1382, 1384, 1386, 1388, 1390, 1392, 1394, 1396, 1398, 1400, 1402, 1404, 1406, 1408, 1410, 1412, 1414, 1416, 1418, 1420, 1422, 1424, 1426, 1428, 1430, 1432, 1434, 1436, 1438, 1440, 1442, 1444, 1446, 1448, 1450, 1452, 1454, 1456, 1458, 1460, 1462, 1464, 1466, 1468, 1470, 1472, 1474, 1476, 1478, 1480, 1482, 1484, 1486, 1488, 1490, 1492, 1494, 1496, 1498, 1500, 1502, 1504, 1506, 1508, 1510, 1512, 1514, 1516, 1518, 1520, 1522, 1524, 1526, 1528, 1530, 1532, 1534, 1536, 1538, 1540, 1542, 1544, 1546, 1548, 1550, 1552, 1554, 1556, 1558, 1560, 1562, 1564, 1566, 1568, 1570, 1572, 1574, 1576, 1578, 1580, 1582, 1584, 1586, 1588, 1590, 1592, 1594, 1596, 1598, 1600, 1602, 1604, 1606, 1608, 1610, 1612, 1614, 1616, 1618, 1620, 1622, 1624, 1626, 1628, 1630, 1632, 1634, 1636, 1638, 1640, 1642, 1644, 1646, 1648, 1650, 1652, 1654, 1656, 1658, 1660, 1662, 1664, 1666, 1668, 1670, 1672, 1674, 1676, 1678, 1680, 1682, 1684, 1686, 1688, 1690, 1692, 1694, 1696, 1698, 1700, 1702, 1704, 1706, 1708, 1710, 1712, 1714, 1716, 1718, 1720, 1722, 1724, 1726, 1728, 1730, 1732, 1734, 1736, 1738, 1740, 1742, 1744, 1746, 1748, 1750, 1752, 1754, 1756, 1758, 1760, 1762, 1764, 1766, 1768, 1770, 1772, 1774, 1776, 1778, 1780, 1782, 1784, 1786, 1788, 1790, 1792, 1794, 1796, 1798, 1800, 1802, 1804, 1806, 1808, 1810, 1812, 1814, 1816, 1818, 1820, 1822, 1824, 1826, 1828, 1830, 1832, 1834, 1836, 1838, 1840, 1842, 1844, 1846, 1848, 1850, 1852, 1854, 1856, 1858, 1860, 1862, 1864, 1866, 1868, 1870, 1872, 1874, 1876, 1878, 1880, 1882, 1884, 1886, 1888, 1890, 1892, 1894, 1896, 1898, 1900, 1902, 1904, 1906, 1908, 1910, 1912, 1914, 1916, 1918, 1920, 1922, 1924, 1926, 1928, 1930, 1932, 1934, 1936, 1938, 1940, 1942, 1944, 1946, 1948, 1950, 1952, 1954, 1956, 1958, 1960, 1962, 1964, 1966, 1968, 1970, 1972, 1974, 1976, 1978, 1980, 1982, 1984, 1986, 1988, 1990, 1992, 1994, 1996, 1998, 2000, 2002, 2004, 2006, 2008, 2010, 2012, 2014, 2016, 2018, 2020, 2022, 2024, 2026, 2028, 2030, 2032, 2034, 2036, 2038, 2040, 2042, 2044, 2046, 2048, 2050, 2052, 2054, 2056, 2058, 2060, 2062, 2064, 2066, 2068, 2070, 2072, 2074, 2076, 2078, 2080, 2082, 2084, 2086, 2088, 2090, 2092, 2094, 2096, 2098, 2100, 2102, 2104, 2106, 2108, 2110, 2112, 2114, 2116, 2118, 2120, 2122, 2124, 2126, 2128, 2130, 2132, 2134, 2136, 2138, 2140, 2142, 2144, 2146, 2148, 2150, 2152, 2154, 2156, 2158, 2160, 2162, 2164, 2166, 2168, 2170, 2172, 2174, 2176, 2178, 2180, 2182, 2184, 2186, 2188, 2190, 2192, 2194, 2196, 2198, 2200, 2202, 2204, 2206, 2208, 2210, 2212, 2214, 2216, 2218, 2220, 2222, 2224, 2226, 2228, 2230, 2232, 2234, 2236, 2238, 2240, 2242, 2244, 2246, 2248, 2250, 2252, 2254, 2256, 2258, 2260, 2262, 2264, 2266, 2268, 2270, 2272, 2274, 2276, 2278, 2280, 2282, 2284, 2286, 2288, 2290, 2292, 2294, 2296, 2298, 2300, 2302, 2304, 2306, 2308, 2310, 2312, 2314, 2316, 2318, 2320, 2322, 2324, 2326, 2328, 2330, 2332, 2334, 2336, 2338, 2340, 2342, 2344, 2346, 2348, 2350, 2352, 2354, 2356, 2358, 2360, 2362, 2364, 2366, 2368, 2370, 2372, 2374, 2376, 2378, 2380, 2382, 2384, 2386, 2388, 2390, 2392, 2394, 2396, 2398, 2400, 2402, 2404, 2406, 2408, 2410, 2412, 2414, 2416, 2418, 2420, 2422, 2424, 2426, 2428, 2430, 2432, 2434, 2436, 2438, 2440, 2442, 2444, 2446, 2448, 2450, 2452, 2454, 2456, 2458, 2460, 2462, 2464, 2466, 2468, 2470, 2472, 2474, 2476, 2478, 2480, 2482, 2484, 2486, 2488, 2490, 2492, 2494, 2496, 2498, 2500, 2502, 2504, 2506, 2508, 2510, 2512, 2514, 2516, 2518, 2520, 2522, 2524, 2526, 2528, 2530, 2532, 2534, 2536, 2538, 2540, 2542, 2544, 2546, 2548, 2550, 2552, 2554, 2556, 2558, 2560, 2562, 2564, 2566, 2568, 2570, 2572, 2574, 2576, 2578, 2580, 2582, 2584, 2586, 2588, 2590, 2592, 2594, 2596, 2598, 2600, 2602, 2604, 2606, 2608, 2610, 2612, 2614, 2616, 2618, 2620, 2622, 2624, 2626, 2628, 2630, 2632, 2634, 2636, 2638, 2640, 2642, 2644, 2646, 2648, 2650, 2652, 2654, 2656, 2658, 2660, 2662, 2664, 2666, 2668, 2670, 2672, 2674, 2676, 2678, 2680, 2682, 2684, 2686, 2688, 2690, 2692, 2694, 2696, 2698, 2700, 2702, 2704, 2706, 2708, 2710, 2712, 2714, 2716, 2718, 2720, 2722, 2724, 2726, 2728, 2730, 2732, 2734, 2736, 2738, 2740, 2742, 2744, 2746, 2748, 2750, 2752, 2754, 2756, 2758, 2760, 2762, 2764, 2766, 2768, 2770, 2772, 2774, 2776, 2778, 2780, 2782, 2784, 2786, 2788, 2790, 2792, 2794, 2796, 2798, 2800, 2802, 2804, 2806, 2808, 2810, 2812, 2814, 2816, 2818, 2820, 2822, 2824, 2826, 2828, 2830, 2832, 2834, 2836, 2838, 2840, 2842, 2844, 2846, 2848, 2850, 2852, 2854, 2856, 2858, 2860, 2862, 2864, 2866, 2868, 2870, 2872, 2874, 2876, 2878, 2880, 2882, 2884, 2886, 2888, 2890, 2892, 2894, 2896, 2898, 2900, 2902, 2904, 2906, 2908, 2910, 2912, 2914, 2916, 2918, 2920, 2922, 2924, 2926, 2928, 2930, 2932, 2934, 2936, 2938, 2940, 2942, 2944, 2946, 2948, 2950, 2952, 2954, 2956, 2958, 2960, 2962, 2964, 2966, 2968, 2970, 2972, 2974, 2976, 2978, 2980, 2982, 2984, 2986, 2988, 2990, 2992, 2994, 2996, 2998, 3000]\n"
          ]
        }
      ]
    },
    {
      "cell_type": "markdown",
      "source": [
        "## List of all prime numbers between 1 to 100\n",
        "Problem Statemnet: Write a program which will print all numbers between 1 and 100 (both included) such that each number is prime number."
      ],
      "metadata": {
        "id": "V1WmOIKZTpEu"
      }
    },
    {
      "cell_type": "code",
      "source": [
        "prime=[]\n",
        "for val in range(1,101):\n",
        "  cnt, i=0,1\n",
        "  while i<=val:\n",
        "    if val%i == 0:\n",
        "      cnt +=1\n",
        "    i+=1\n",
        "  if cnt==2:\n",
        "    prime.append(val)\n",
        "print(prime)"
      ],
      "metadata": {
        "colab": {
          "base_uri": "https://localhost:8080/"
        },
        "id": "r2ZFB_zjUDvC",
        "outputId": "79e57f06-d0c3-4868-bc65-c7339aab7bc6"
      },
      "execution_count": null,
      "outputs": [
        {
          "output_type": "stream",
          "name": "stdout",
          "text": [
            "[2, 3, 5, 7, 11, 13, 17, 19, 23, 29, 31, 37, 41, 43, 47, 53, 59, 61, 67, 71, 73, 79, 83, 89, 97]\n"
          ]
        }
      ]
    },
    {
      "cell_type": "markdown",
      "source": [
        "# LOOP & DICTIONARY EXERCISES"
      ],
      "metadata": {
        "id": "OkywyI64k5Sp"
      }
    },
    {
      "cell_type": "code",
      "source": [
        "keys=['M','A','N','G']\n",
        "values=['Meta','Apple','Netflix','Google']\n",
        "mang = dict(zip(keys,values))\n",
        "print(mang)"
      ],
      "metadata": {
        "colab": {
          "base_uri": "https://localhost:8080/"
        },
        "id": "hjBkoK0DlAcy",
        "outputId": "756ceccf-9775-426d-bb4c-33b1cab541f3"
      },
      "execution_count": null,
      "outputs": [
        {
          "output_type": "stream",
          "name": "stdout",
          "text": [
            "{'M': 'Meta', 'A': 'Apple', 'N': 'Netflix', 'G': 'Google'}\n"
          ]
        }
      ]
    },
    {
      "cell_type": "code",
      "source": [
        "M={}\n",
        "for val in range (0,len(keys)):\n",
        "  M[keys[val]]=values[val]\n",
        "print(M)"
      ],
      "metadata": {
        "colab": {
          "base_uri": "https://localhost:8080/"
        },
        "id": "DtxpEJenlt05",
        "outputId": "07b6a6e4-3b4a-4f92-c28a-337b62f3fa22"
      },
      "execution_count": null,
      "outputs": [
        {
          "output_type": "stream",
          "name": "stdout",
          "text": [
            "{'M': 'Meta', 'A': 'Apple', 'N': 'Netflix', 'G': 'Google'}\n"
          ]
        }
      ]
    },
    {
      "cell_type": "code",
      "source": [
        "M={}\n",
        "for val in range (len(keys)):\n",
        "  M.update({keys[val] : values[val]})\n",
        "print(M)"
      ],
      "metadata": {
        "colab": {
          "base_uri": "https://localhost:8080/"
        },
        "id": "ZYCsDfHYrWAm",
        "outputId": "c723231b-6f58-4378-d1d2-1723caa63535"
      },
      "execution_count": null,
      "outputs": [
        {
          "output_type": "stream",
          "name": "stdout",
          "text": [
            "{'M': 'Meta', 'A': 'Apple', 'N': 'Netflix', 'G': 'Google'}\n"
          ]
        }
      ]
    },
    {
      "cell_type": "code",
      "source": [
        "import time\n",
        "time.time()"
      ],
      "metadata": {
        "colab": {
          "base_uri": "https://localhost:8080/"
        },
        "id": "APrv8lDHuCyG",
        "outputId": "0de43949-d2aa-4fe1-cb2f-46dcb1435b02"
      },
      "execution_count": null,
      "outputs": [
        {
          "output_type": "execute_result",
          "data": {
            "text/plain": [
              "1677230505.2066832"
            ]
          },
          "metadata": {},
          "execution_count": 59
        }
      ]
    },
    {
      "cell_type": "code",
      "source": [
        "# Add a delay\n",
        "# time.sleep()"
      ],
      "metadata": {
        "id": "rs375cevuk8Y"
      },
      "execution_count": null,
      "outputs": []
    },
    {
      "cell_type": "code",
      "source": [
        "M={}\n",
        "# start timestamp\n",
        "start=time.time()\n",
        "\n",
        "for val in range (len(keys)):\n",
        "  M.update({keys[val] : values[val]})\n",
        "\n",
        "duration=time.time() - start\n",
        "\n",
        "print(M)\n",
        "print(duration)"
      ],
      "metadata": {
        "colab": {
          "base_uri": "https://localhost:8080/"
        },
        "id": "ktCGpNdHu6rd",
        "outputId": "8e608d36-6072-4a2e-bc4d-122a1bd213de"
      },
      "execution_count": null,
      "outputs": [
        {
          "output_type": "stream",
          "name": "stdout",
          "text": [
            "{'M': 'Meta', 'A': 'Apple', 'N': 'Netflix', 'G': 'Google'}\n",
            "0.00015401840209960938\n"
          ]
        }
      ]
    },
    {
      "cell_type": "markdown",
      "source": [
        "## Exercise : Create a dictionary by extracting the keys from a given dictionary"
      ],
      "metadata": {
        "id": "5sZPcTnowPFC"
      }
    },
    {
      "cell_type": "code",
      "source": [
        "sample = {\n",
        "    \"name\":\"XYZ\",\n",
        "    \"age\":29,\n",
        "    \"salary\":100000,\n",
        "    \"city\":\"new york\",\n",
        "    \"contact\":8973234567\n",
        "}\n",
        "\n",
        "# keys to extract \n",
        "keys = [\"name\",\"salary\"]\n",
        "\n",
        "k={}\n",
        "for val in range (len(keys)):\n",
        "  k[keys[val]]=sample.get(keys[val])\n",
        "print(k)\n",
        "\n",
        "kn={keys[0]:sample[keys[0]],keys[1]:sample[keys[1]]}\n",
        "print(kn)\n",
        "\n",
        "kn1={k : sample[k] for k in keys}\n",
        "print(kn1)"
      ],
      "metadata": {
        "id": "6r8zyht1vL41",
        "colab": {
          "base_uri": "https://localhost:8080/"
        },
        "outputId": "56a0fa0a-3a2b-4da4-96e2-89245ca7b2df"
      },
      "execution_count": null,
      "outputs": [
        {
          "output_type": "stream",
          "name": "stdout",
          "text": [
            "{'name': 'XYZ', 'salary': 100000}\n",
            "{'name': 'XYZ', 'salary': 100000}\n",
            "{'name': 'XYZ', 'salary': 100000}\n"
          ]
        }
      ]
    },
    {
      "cell_type": "code",
      "source": [
        "min()\n",
        "max()\n",
        "sum()\n",
        "abs()"
      ],
      "metadata": {
        "id": "zdAJ_i1E2ris"
      },
      "execution_count": null,
      "outputs": []
    },
    {
      "cell_type": "markdown",
      "source": [
        "min()\n",
        "max()\n",
        "sum()\n",
        "abs()\n",
        "## Exercise: Scan all keys from dictionary and get a key with minimum value"
      ],
      "metadata": {
        "id": "80-nAtRj27GA"
      }
    },
    {
      "cell_type": "code",
      "source": [
        "sample = {\n",
        "    'PHY':89,\n",
        "    'MATH':78,\n",
        "    \"HIST\":65\n",
        "}\n",
        "# min(iterable = dictionary, key=function)\n",
        "print(min(sample, key = sample.get))"
      ],
      "metadata": {
        "colab": {
          "base_uri": "https://localhost:8080/"
        },
        "id": "lB6DKQKW3GXK",
        "outputId": "0451170b-3168-4c10-fc50-2621e148b7c4"
      },
      "execution_count": null,
      "outputs": [
        {
          "output_type": "stream",
          "name": "stdout",
          "text": [
            "HIST\n"
          ]
        }
      ]
    },
    {
      "cell_type": "markdown",
      "source": [
        "## Find frequency of each word from a given input string"
      ],
      "metadata": {
        "id": "urj1Vl8B5dJw"
      }
    },
    {
      "cell_type": "code",
      "source": [
        "s = 'mumbai delhi delhi hyderabad nagpur hyderabad guwahati delhi'\n",
        "s1=list()\n",
        "s1=s.split()\n",
        "print (s1)"
      ],
      "metadata": {
        "colab": {
          "base_uri": "https://localhost:8080/"
        },
        "id": "jhHMxYv55pyi",
        "outputId": "70e0ebb3-f307-4a90-bdd4-4f09c4ec5bb2"
      },
      "execution_count": null,
      "outputs": [
        {
          "output_type": "stream",
          "name": "stdout",
          "text": [
            "['mumbai', 'delhi', 'delhi', 'hyderabad', 'nagpur', 'hyderabad', 'guwahati', 'delhi']\n"
          ]
        }
      ]
    },
    {
      "cell_type": "code",
      "source": [
        "print(\"mumbai : {}\".format(s.count(\"mumbai\")))\n",
        "\n",
        "sample={}\n",
        "for i in range (len(s1)):\n",
        "  if sample.get(s1[i]):\n",
        "    sample[s1[i]]+=1\n",
        "  else:\n",
        "    sample[s1[i]]=1\n",
        "print(sample)"
      ],
      "metadata": {
        "colab": {
          "base_uri": "https://localhost:8080/"
        },
        "id": "7ZFAgw-S6cuN",
        "outputId": "14582d06-55a6-4984-c118-bb4ea76d4ed6"
      },
      "execution_count": null,
      "outputs": [
        {
          "output_type": "stream",
          "name": "stdout",
          "text": [
            "mumbai : 1\n",
            "{'mumbai': 1, 'delhi': 3, 'hyderabad': 2, 'nagpur': 1, 'guwahati': 1}\n"
          ]
        }
      ]
    },
    {
      "cell_type": "markdown",
      "source": [
        "# FUNCTIONS\n",
        "  * In programming, we define a function to make reusable code that performs similar operation. It is block of organized code written to perform a specific task.\n",
        "  * Information can be passed into function as arguments.\n",
        "  * Parameters are specific after the function name within paranthesis. function_name(arg1,arg2,....)\n",
        "  * A function in python is declared using 'def' keyword\n",
        "  * A function may or may not return data"
      ],
      "metadata": {
        "id": "Y-ZU7psyF9G2"
      }
    },
    {
      "cell_type": "code",
      "source": [
        "# Declaration of a function\n",
        "def myfunc():\n",
        "  print(\"Hello world\")"
      ],
      "metadata": {
        "id": "JPQbziPeH539"
      },
      "execution_count": null,
      "outputs": []
    },
    {
      "cell_type": "code",
      "source": [
        "# Call function\n",
        "myfunc()"
      ],
      "metadata": {
        "colab": {
          "base_uri": "https://localhost:8080/"
        },
        "id": "ftvUji6pIFdR",
        "outputId": "e4dd7622-20e7-4d6a-a066-38a1a4c5c9dc"
      },
      "execution_count": null,
      "outputs": [
        {
          "output_type": "stream",
          "name": "stdout",
          "text": [
            "Hello world\n"
          ]
        }
      ]
    },
    {
      "cell_type": "markdown",
      "source": [
        "## FUNCTION WITH PARAMETERS"
      ],
      "metadata": {
        "id": "sAUjYKKAI8qV"
      }
    },
    {
      "cell_type": "code",
      "source": [
        "def greetings(name):\n",
        "  '''\n",
        "  This function greets a person by its name.\n",
        "  greetings(name)\n",
        "  '''\n",
        "  print(\"Hello \"+str(name)+\" Good Evening!\")\n",
        "\n",
        "greetings(\"arya\")"
      ],
      "metadata": {
        "colab": {
          "base_uri": "https://localhost:8080/"
        },
        "id": "nZ8YmmRHJBbF",
        "outputId": "496267be-d9cf-46c4-a7da-fd6f7aa7ae62"
      },
      "execution_count": null,
      "outputs": [
        {
          "output_type": "stream",
          "name": "stdout",
          "text": [
            "Hello arya Good Evening!\n"
          ]
        }
      ]
    },
    {
      "cell_type": "code",
      "source": [
        "print(print.__doc__)"
      ],
      "metadata": {
        "colab": {
          "base_uri": "https://localhost:8080/"
        },
        "id": "tiBYOxR9JhZk",
        "outputId": "d91caf40-0a51-4d35-e772-b855f27e31a4"
      },
      "execution_count": null,
      "outputs": [
        {
          "output_type": "stream",
          "name": "stdout",
          "text": [
            "print(value, ..., sep=' ', end='\\n', file=sys.stdout, flush=False)\n",
            "\n",
            "Prints the values to a stream, or to sys.stdout by default.\n",
            "Optional keyword arguments:\n",
            "file:  a file-like object (stream); defaults to the current sys.stdout.\n",
            "sep:   string inserted between values, default a space.\n",
            "end:   string appended after the last value, default a newline.\n",
            "flush: whether to forcibly flush the stream.\n"
          ]
        }
      ]
    },
    {
      "cell_type": "code",
      "source": [
        "# .__doc__ use this to get document of methods/function\n",
        "print(greetings.__doc__)"
      ],
      "metadata": {
        "colab": {
          "base_uri": "https://localhost:8080/"
        },
        "id": "-NrlWqxJJn8k",
        "outputId": "bcdf1c9b-0410-4c90-ff05-47b2c00b4270"
      },
      "execution_count": null,
      "outputs": [
        {
          "output_type": "stream",
          "name": "stdout",
          "text": [
            "\n",
            "  This function greets a person by its name.\n",
            "  greetings(name)\n",
            "  \n"
          ]
        }
      ]
    },
    {
      "cell_type": "code",
      "source": [
        "# Function with 2 arguments\n",
        "def add(var1,var2):\n",
        "  var3=var1+var2\n",
        "  # %s - string, %d%i - numerical(int), %f - float\n",
        "  print(\"Sum of two arguments are : %d\" %var3)\n",
        "add(12,23.45)"
      ],
      "metadata": {
        "colab": {
          "base_uri": "https://localhost:8080/"
        },
        "id": "8CvfVShZKtRq",
        "outputId": "9fccd1ff-0a80-46d3-8418-12ae2d267f83"
      },
      "execution_count": null,
      "outputs": [
        {
          "output_type": "stream",
          "name": "stdout",
          "text": [
            "Sum of two arguments are : 35\n"
          ]
        }
      ]
    },
    {
      "cell_type": "code",
      "source": [
        "# Function with 2 arguments\n",
        "def add(var1,var2):\n",
        "  var3=var1+var2\n",
        "  # %s - string, %d%i - numerical(int), %f - float\n",
        "  print(\"Sum of two arguments are : %f\" %var3)\n",
        "add(12,23.45)"
      ],
      "metadata": {
        "colab": {
          "base_uri": "https://localhost:8080/"
        },
        "id": "4vmfsDMoLLc7",
        "outputId": "2be42d02-3978-46d5-ef39-bbc26bc861ce"
      },
      "execution_count": null,
      "outputs": [
        {
          "output_type": "stream",
          "name": "stdout",
          "text": [
            "Sum of two arguments are : 35.450000\n"
          ]
        }
      ]
    },
    {
      "cell_type": "code",
      "source": [
        "# Function with return statement \n",
        "def greetings(name):\n",
        "  statement = \"Hello \"+name+\" Good Evening\"\n",
        "  return statement\n",
        "\n",
        "# calling a function\n",
        "greetings(\"Arya\")"
      ],
      "metadata": {
        "colab": {
          "base_uri": "https://localhost:8080/",
          "height": 35
        },
        "id": "VIFGJnumLxAa",
        "outputId": "77e8b7bd-74f8-4adc-853c-dc97f83a2130"
      },
      "execution_count": null,
      "outputs": [
        {
          "output_type": "execute_result",
          "data": {
            "text/plain": [
              "'Hello Arya Good Evening'"
            ],
            "application/vnd.google.colaboratory.intrinsic+json": {
              "type": "string"
            }
          },
          "metadata": {},
          "execution_count": 94
        }
      ]
    },
    {
      "cell_type": "markdown",
      "source": [
        "## Exercise: Create a function calculator takes 3 parameters two number and one operator/operations"
      ],
      "metadata": {
        "id": "OptEf4EfM3bL"
      }
    },
    {
      "cell_type": "code",
      "source": [
        "def Calculator(val1,val2,operator):\n",
        "  if operator == '+':\n",
        "    val3=val1+val2\n",
        "  elif operator == '-':\n",
        "    val3=val1-val2\n",
        "  elif operator == '*':\n",
        "    val3=val1*val2\n",
        "  elif operator == '/':\n",
        "    val3=val1/val2\n",
        "  elif operator == '%':\n",
        "    val3=val1%val2\n",
        "  return val3\n",
        "\n",
        "def Cal1(v1,v2,op):\n",
        "  print(v1+v2) if op=='+' else  print(v1-v2) if op=='-' else  print(v1*v2) if op=='*' else  print(v1/v2) if op=='/' else  print(v1%v2)\n",
        "\n",
        "val1 = int(input(\"enter value 1 : \"))\n",
        "operator = input(\"enter operator : \")\n",
        "val2 = int(input(\"enter value 2 : \"))\n",
        "\n",
        "value=Calculator(val1,val2,operator)\n",
        "print(value)\n",
        "\n",
        "Cal1(val1,val2,operator)"
      ],
      "metadata": {
        "colab": {
          "base_uri": "https://localhost:8080/"
        },
        "id": "INE2UZExMt2x",
        "outputId": "1a9c6d9d-be49-489d-e95c-3460a79db030"
      },
      "execution_count": null,
      "outputs": [
        {
          "output_type": "stream",
          "name": "stdout",
          "text": [
            "enter value 1 : 12\n",
            "enter operator : %\n",
            "enter value 2 : 12\n",
            "0\n",
            "0\n"
          ]
        }
      ]
    },
    {
      "cell_type": "markdown",
      "source": [
        "# SCOPE OF VARIABLE"
      ],
      "metadata": {
        "id": "877qmVmWYtjl"
      }
    },
    {
      "cell_type": "code",
      "source": [
        "# Global  variable\n",
        "var = \"global variable\"\n",
        "def inner():\n",
        "  var = 'inner variable'\n",
        "  print(var)\n",
        "\n",
        "inner()\n",
        "print(var)"
      ],
      "metadata": {
        "colab": {
          "base_uri": "https://localhost:8080/"
        },
        "id": "XcrVp7XmYuaR",
        "outputId": "e3a5531f-da38-4e5a-9217-d9565494ff8e"
      },
      "execution_count": null,
      "outputs": [
        {
          "output_type": "stream",
          "name": "stdout",
          "text": [
            "inner variable\n",
            "global variable\n"
          ]
        }
      ]
    },
    {
      "cell_type": "code",
      "source": [
        "# Enclosed scope\n",
        "\n",
        "var = \"Global variable\"\n",
        "\n",
        "def outer():\n",
        "  var = \"outer varaible\"\n",
        "  def inner():\n",
        "    print(var)\n",
        "  inner()\n",
        "\n",
        "outer()\n",
        "print(var)"
      ],
      "metadata": {
        "colab": {
          "base_uri": "https://localhost:8080/"
        },
        "id": "2mQHbTboYwp0",
        "outputId": "a1e4a83a-7140-40a5-cd1c-c024272c629e"
      },
      "execution_count": null,
      "outputs": [
        {
          "output_type": "stream",
          "name": "stdout",
          "text": [
            "outer varaible\n",
            "Global variable\n"
          ]
        }
      ]
    },
    {
      "cell_type": "code",
      "source": [],
      "metadata": {
        "id": "NFpVY1LoYyn-"
      },
      "execution_count": null,
      "outputs": []
    }
  ]
}