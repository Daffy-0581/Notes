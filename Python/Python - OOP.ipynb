{
 "cells": [
  {
   "cell_type": "markdown",
   "id": "5582988d",
   "metadata": {},
   "source": [
    "# Classes and Objects\n",
    "    * A class is an object constructor or a blueprint for creating objects\n",
    "    * Objects are nothing but an encapsulation of multiple variables and methods in a single entity.\n",
    "    * Object get their variables and functions from classes.\n",
    "    * self parameter is reference to current/newly declared object of class, with object user can access attributes/methods\n",
    "    * self is the first parameter of any method(function) in class"
   ]
  },
  {
   "cell_type": "code",
   "execution_count": 3,
   "id": "26ef7502",
   "metadata": {},
   "outputs": [],
   "source": [
    "# declare a class with classname\n",
    "class classname:\n",
    "    # declare a function with parameter \"name\"\n",
    "    def createname(self,name):\n",
    "        # initialize attribute with self.name = name passed by user\n",
    "        self.name=name\n",
    "    \n",
    "    def greetings(self):\n",
    "        print(\"Hello, Good Afternoon\",self.name)\n",
    "        \n",
    "# obj is object of class\n",
    "obj=classname()"
   ]
  },
  {
   "cell_type": "code",
   "execution_count": 4,
   "id": "6717c3b8",
   "metadata": {},
   "outputs": [
    {
     "name": "stdout",
     "output_type": "stream",
     "text": [
      "Hello, Good Afternoon xyz\n"
     ]
    }
   ],
   "source": [
    "obj.createname(\"xyz\")\n",
    "obj.greetings()"
   ]
  },
  {
   "cell_type": "code",
   "execution_count": 5,
   "id": "2b05a849",
   "metadata": {},
   "outputs": [],
   "source": [
    "# Create an employee class\n",
    "class emp:\n",
    "    def __init__(self,name,empid):       #__init__() method is used to assign value at the object declaration\n",
    "        self.name = name\n",
    "        self.empid = empid\n",
    "        \n",
    "    def greet(self):\n",
    "        print(\"Thanks for joining XYZ Company {}!!\".format(self.name))"
   ]
  },
  {
   "cell_type": "code",
   "execution_count": 7,
   "id": "1c031c8b",
   "metadata": {},
   "outputs": [],
   "source": [
    "# Create an Employee object\n",
    "emp1 = emp(\"Arya\", 98172)"
   ]
  },
  {
   "cell_type": "code",
   "execution_count": 9,
   "id": "b3824995",
   "metadata": {},
   "outputs": [
    {
     "name": "stdout",
     "output_type": "stream",
     "text": [
      "emp id: 98172\n",
      "Name:  Arya\n",
      "Thanks for joining XYZ Company Arya!!\n"
     ]
    }
   ],
   "source": [
    "print(\"emp id:\",emp1.empid)\n",
    "print(\"Name: \",emp1.name)\n",
    "emp1.greet()"
   ]
  },
  {
   "cell_type": "code",
   "execution_count": 12,
   "id": "9e528c58",
   "metadata": {},
   "outputs": [
    {
     "name": "stdout",
     "output_type": "stream",
     "text": [
      "emp id: 89345\n",
      "Name:  Bhavi\n",
      "Thanks for joining XYZ Company Bhavi!!\n",
      "India\n",
      "Bhanu\n",
      "Thanks for joining XYZ Company Bhanu!!\n"
     ]
    }
   ],
   "source": [
    "# Create another object \n",
    "emp2 = emp(\"Bhavi\", 89345)\n",
    "print(\"emp id:\",emp2.empid)\n",
    "print(\"Name: \",emp2.name)\n",
    "emp2.greet()\n",
    "\n",
    "emp2.country = 'India'      # Instance variable can be created manually.\n",
    "print(emp2.country)\n",
    "\n",
    "# Modify the properties\n",
    "emp1.name = \"Bhanu\"\n",
    "print(emp1.name)\n",
    "emp1.greet()"
   ]
  },
  {
   "cell_type": "code",
   "execution_count": 13,
   "id": "acb58f57",
   "metadata": {},
   "outputs": [],
   "source": [
    "# Delete an Object Properties\n",
    "del(emp1)"
   ]
  },
  {
   "cell_type": "markdown",
   "id": "169af46c",
   "metadata": {},
   "source": [
    "### Exercise :  Create a class named as person.\n",
    "    * Initialize values like 'name', 'surname', 'birthdate', 'address', 'contact', 'email'\n",
    "    * Create a method that returns age"
   ]
  },
  {
   "cell_type": "code",
   "execution_count": 51,
   "id": "19d9e052",
   "metadata": {},
   "outputs": [
    {
     "name": "stdout",
     "output_type": "stream",
     "text": [
      "21\n"
     ]
    }
   ],
   "source": [
    "import datetime\n",
    "today = datetime.date.today()\n",
    "\n",
    "class person:\n",
    "    def __init__(self,name,surname,birthdate,address,contact,email):\n",
    "        self.name = name\n",
    "        self.surname = surname\n",
    "        self.birthdate = birthdate\n",
    "        self.address = address\n",
    "        self.contact = contact\n",
    "        self.email = email\n",
    "    \n",
    "    def cal_age(self):\n",
    "        age=today.year - person1.birthdate.year\n",
    "        if(age<=0):\n",
    "            print(\"invalid date\")\n",
    "        elif (today.month < person1.birthdate.month):\n",
    "            print(age - 1)\n",
    "        else:\n",
    "            print(age)\n",
    "        \n",
    "person1 = person(\"arya\", \"t\",datetime.date(2001,8,5), \"trinity homes\", 5647839023, \"ehdah@xyz.com\")\n",
    "person1.cal_age()"
   ]
  },
  {
   "cell_type": "markdown",
   "id": "40d9f5a9",
   "metadata": {},
   "source": [
    "## Access Modifiers - Public, Private and Protected Modifiers"
   ]
  },
  {
   "cell_type": "code",
   "execution_count": 55,
   "id": "1d0586c3",
   "metadata": {},
   "outputs": [],
   "source": [
    "# Example public access modifiers in a class\n",
    "class emp:\n",
    "    # declare constructor\n",
    "    def __init__(self, name, age):\n",
    "        # public data member\n",
    "        self.empname=name\n",
    "        self.empage=age\n",
    "    \n",
    "    # public member function\n",
    "    def printAge(self):\n",
    "        print(\"Employee Age: \",self.empage)"
   ]
  },
  {
   "cell_type": "code",
   "execution_count": 53,
   "id": "845d2621",
   "metadata": {},
   "outputs": [
    {
     "name": "stdout",
     "output_type": "stream",
     "text": [
      "Employee Age:  23\n"
     ]
    }
   ],
   "source": [
    "# Create an object of the class emp\n",
    "empobj=emp(\"Ria\", 23)\n",
    "empobj.printAge()"
   ]
  },
  {
   "cell_type": "code",
   "execution_count": 80,
   "id": "a631ba3f",
   "metadata": {},
   "outputs": [],
   "source": [
    "# Example of protected access modifiers in a class\n",
    "# Parent class\n",
    "class emp1:\n",
    "    # protected data members\n",
    "    _name = None\n",
    "    _dept = None\n",
    "    \n",
    "    # declare a constructor \n",
    "    def __init__(self,name,dept):\n",
    "        # protected data members\n",
    "        self._name = name\n",
    "        self._dept = dept\n",
    "    \n",
    "    # protected member function\n",
    "    def _display(self):\n",
    "        print(\"Name : \",self._name)\n",
    "        print(\"Dept : \",self._dept)       "
   ]
  },
  {
   "cell_type": "code",
   "execution_count": 81,
   "id": "45bfbd54",
   "metadata": {},
   "outputs": [],
   "source": [
    "# Derived class - derived class can access protected data members of parent class\n",
    "class empDetails1(emp1):\n",
    "    def __init__(self,name,dept):\n",
    "        # calling parent class constructor\n",
    "        emp1.__init__(self,name,dept)\n",
    "        \n",
    "    # public method\n",
    "    def displaydetails(self):\n",
    "        print(\"Name : \",self._name)\n",
    "        self._display()"
   ]
  },
  {
   "cell_type": "code",
   "execution_count": 83,
   "id": "29578ffb",
   "metadata": {},
   "outputs": [
    {
     "name": "stdout",
     "output_type": "stream",
     "text": [
      "Name :  abc\n",
      "Name :  abc\n",
      "Dept :  it\n"
     ]
    }
   ],
   "source": [
    "# declare object of derived class \n",
    "obj = empDetails1(\"abc\", \"it\")\n",
    "obj.displaydetails()"
   ]
  },
  {
   "cell_type": "code",
   "execution_count": 85,
   "id": "64ac947d",
   "metadata": {},
   "outputs": [],
   "source": [
    "# Private Access Modifiers\n",
    "class emp2:\n",
    "    # private data members\n",
    "    __name = None\n",
    "    __dept = None\n",
    "    \n",
    "    # declare a constructor \n",
    "    def __init__(self,name,dept):\n",
    "        # protected data members\n",
    "        self.__name = name\n",
    "        self.__dept = dept\n",
    "    \n",
    "    # protected member function\n",
    "    def __display(self):\n",
    "        print(\"Name : \",self.__name)\n",
    "        print(\"Dept : \",self.__dept)   \n",
    "        \n",
    "    # public method\n",
    "    def accessPrivateFunction(self):\n",
    "        self.__display()"
   ]
  },
  {
   "cell_type": "code",
   "execution_count": 86,
   "id": "bf029a07",
   "metadata": {},
   "outputs": [
    {
     "name": "stdout",
     "output_type": "stream",
     "text": [
      "enter emp name: arya\n",
      "enter emp dept: cse\n"
     ]
    }
   ],
   "source": [
    "name = input(\"enter emp name: \")\n",
    "dept = input(\"enter emp dept: \")\n",
    "obj=emp2(name,dept)"
   ]
  },
  {
   "cell_type": "code",
   "execution_count": 87,
   "id": "956d2570",
   "metadata": {},
   "outputs": [
    {
     "name": "stdout",
     "output_type": "stream",
     "text": [
      "Name :  arya\n",
      "Dept :  cse\n"
     ]
    }
   ],
   "source": [
    "obj.accessPrivateFunction()"
   ]
  },
  {
   "cell_type": "markdown",
   "id": "ba9aeb07",
   "metadata": {},
   "source": [
    "# INHERITANCE \n",
    "    * Inheritance provides code resuability in program so we can use an existing class(super class/parent class/base class) to create a new class (sub class/child class/ derived class) instead of creating everything from scratch"
   ]
  },
  {
   "cell_type": "code",
   "execution_count": 2,
   "id": "89b860f9",
   "metadata": {},
   "outputs": [],
   "source": [
    "# parent class declaration\n",
    "class Parent:\n",
    "    #constructor\n",
    "    def __init__(self,name):\n",
    "        self.name=name\n",
    "        print(self.name)\n",
    "    def ParentMethod(self):\n",
    "        print(\"Parent class method\")\n",
    "        \n",
    "# derived class\n",
    "class Child(Parent):\n",
    "    def __init__(self):\n",
    "        print(\"child class constructor\")\n",
    "    def ChildMethod(self):\n",
    "        print(\"child class method\")"
   ]
  },
  {
   "cell_type": "code",
   "execution_count": 3,
   "id": "c48b5c2f",
   "metadata": {},
   "outputs": [
    {
     "name": "stdout",
     "output_type": "stream",
     "text": [
      "ravi\n",
      "child class constructor\n"
     ]
    }
   ],
   "source": [
    "# Object of parent class\n",
    "obj1 = Parent(\"ravi\")\n",
    "\n",
    "# Object of child class\n",
    "obj2 = Child()"
   ]
  },
  {
   "cell_type": "code",
   "execution_count": 4,
   "id": "bfbabfe6",
   "metadata": {},
   "outputs": [
    {
     "name": "stdout",
     "output_type": "stream",
     "text": [
      "Parent class method\n"
     ]
    }
   ],
   "source": [
    "obj2.ParentMethod()"
   ]
  },
  {
   "cell_type": "code",
   "execution_count": 5,
   "id": "65f32766",
   "metadata": {},
   "outputs": [
    {
     "data": {
      "text/plain": [
       "'ravi'"
      ]
     },
     "execution_count": 5,
     "metadata": {},
     "output_type": "execute_result"
    }
   ],
   "source": [
    "obj1.name"
   ]
  },
  {
   "cell_type": "markdown",
   "id": "81b390fc",
   "metadata": {},
   "source": [
    "### Multi-level inheritance"
   ]
  },
  {
   "cell_type": "raw",
   "id": "7e2e955e",
   "metadata": {},
   "source": [
    "# Multi-level inheritance \n",
    "class Parent:\n",
    "    statement(s)\n",
    "    \n",
    "class Child(Parent)\n",
    "    statements(s)\n",
    "    \n",
    "class GrandChild(Child):\n",
    "    statements(s)"
   ]
  },
  {
   "cell_type": "code",
   "execution_count": 10,
   "id": "e435a431",
   "metadata": {},
   "outputs": [],
   "source": [
    "class person:\n",
    "    def __init__(self,name,age,gender):\n",
    "        self.name=name\n",
    "        self.age=age\n",
    "        self.gender=gender\n",
    "    def PersonInfo(self):\n",
    "        print(\"Name : {}\".format(self.name))\n",
    "        print(\"Age : {}\".format(self.age))\n",
    "        print(\"Gender : {}\".format(self.gender))\n",
    "\n",
    "# Child class of person\n",
    "class emp(person):\n",
    "    def __init__(self,name,age,gender,empid,salary):\n",
    "        person.__init__(self,name,age,gender)\n",
    "        self.empid=empid\n",
    "        self.salary=salary\n",
    "    def EmpInfo(self):\n",
    "        print(\"Empid : {}\".format(self.empid))\n",
    "        print(\"Salary : {}\".format(self.salary))\n",
    "        \n",
    "# grand child class of person and child class of emp\n",
    "class fulltime(emp):\n",
    "    def __init__(self,name,age ,gender,empid,salary,workexp):\n",
    "        emp.__init__(self,name,age,gender,empid,salary)\n",
    "        self.workexp=workexp\n",
    "    def FulltimeInfo(self):\n",
    "        print(\"Workexp : {}\".format(self.workexp))\n",
    "        \n",
    "# grand child class of person and child class of emp\n",
    "class contract(emp):\n",
    "    def __init__(self,name,age ,gender,empid,salary,expiry):\n",
    "        emp.__init__(self,name,age,gender,empid,salary)\n",
    "        self.expiry=expiry\n",
    "    def ContractInfo(self):\n",
    "        print(\"Contract Expiry : {}\".format(self.expiry))"
   ]
  },
  {
   "cell_type": "code",
   "execution_count": 13,
   "id": "d8a1e881",
   "metadata": {},
   "outputs": [
    {
     "name": "stdout",
     "output_type": "stream",
     "text": [
      "Contract emp detials:\n",
      "*********************\n",
      "Name : ravi\n",
      "Age : 43\n",
      "Gender : male\n",
      "Empid : 324122\n",
      "Salary : 300000\n",
      "Contract Expiry : 20-02-2023\n"
     ]
    }
   ],
   "source": [
    "print(\"Contract emp detials:\")\n",
    "print(\"*********************\")\n",
    "con_obj=contract(\"ravi\",43,\"male\",324122,300000,\"20-02-2023\")\n",
    "con_obj.PersonInfo()\n",
    "con_obj.EmpInfo()\n",
    "con_obj.ContractInfo()"
   ]
  },
  {
   "cell_type": "code",
   "execution_count": 14,
   "id": "1ce2bc33",
   "metadata": {},
   "outputs": [
    {
     "name": "stdout",
     "output_type": "stream",
     "text": [
      "Fulltimw emp detials:\n",
      "*********************\n",
      "Name : xyz\n",
      "Age : 43\n",
      "Gender : male\n",
      "Empid : 324122\n",
      "Salary : 300000\n",
      "Workexp : 5\n"
     ]
    }
   ],
   "source": [
    "print(\"Fulltimw emp detials:\")\n",
    "print(\"*********************\")\n",
    "fte_obj=fulltime(\"xyz\",43,\"male\",324122,300000,5)\n",
    "fte_obj.PersonInfo()\n",
    "fte_obj.EmpInfo()\n",
    "fte_obj.FulltimeInfo()"
   ]
  },
  {
   "cell_type": "markdown",
   "id": "83abb72e",
   "metadata": {},
   "source": [
    "### Multiple Inheritance"
   ]
  },
  {
   "cell_type": "raw",
   "id": "70c9fbdd",
   "metadata": {},
   "source": [
    "# Multiple Inheritance\n",
    "class Father:\n",
    "    statements(s)\n",
    "   \n",
    "class Mother:\n",
    "    statements(s)\n",
    "\n",
    "class Child(Father,Mother):\n",
    "    statements(s)"
   ]
  },
  {
   "cell_type": "code",
   "execution_count": 17,
   "id": "99230b89",
   "metadata": {},
   "outputs": [
    {
     "name": "stdout",
     "output_type": "stream",
     "text": [
      "2023-02-28 10:58:02\n"
     ]
    }
   ],
   "source": [
    "class CurrentDate:\n",
    "    def __init__(self,date):\n",
    "        self.date=date\n",
    "class CurrentTime:\n",
    "    def __init__(self,time):\n",
    "        self.time=time\n",
    "\n",
    "# Multiple Inheritance\n",
    "class timestamp(CurrentDate,CurrentTime):\n",
    "    def __init__(self,date,time):\n",
    "        CurrentDate.__init__(self,date)\n",
    "        CurrentTime.__init__(self,time)\n",
    "        timestamp = self.date + self.time\n",
    "        print(timestamp)\n",
    "        \n",
    "datetime1 = timestamp(\"2023-02-28 \" , \"10:58:02\")"
   ]
  },
  {
   "cell_type": "markdown",
   "id": "db7935e4",
   "metadata": {},
   "source": [
    "### Hierarchical Inheritance"
   ]
  },
  {
   "cell_type": "raw",
   "id": "f098efa5",
   "metadata": {},
   "source": [
    "# Hierarchical Inheritance\n",
    "class Parent:\n",
    "    statements(s)\n",
    "   \n",
    "class Child1(Parent):\n",
    "    statements(s)\n",
    "\n",
    "class Child2(Parent):\n",
    "    statements(s)"
   ]
  },
  {
   "cell_type": "code",
   "execution_count": 19,
   "id": "88656f08",
   "metadata": {},
   "outputs": [
    {
     "name": "stdout",
     "output_type": "stream",
     "text": [
      "Audi Q7\n",
      "Black\n",
      "Audi Q7\n",
      "4\n"
     ]
    }
   ],
   "source": [
    "class Car:\n",
    "    def __init__(self, model):\n",
    "        self.model=model\n",
    "    def print1(self):\n",
    "        print(self.model)\n",
    "\n",
    "class color(Car):\n",
    "    def __init__(self,model,color):\n",
    "        Car.__init__(self,model)\n",
    "        self.color=color\n",
    "    def print2(self)\n",
    "\n",
    "class seats(Car):\n",
    "    def __init__(self,model,seats):\n",
    "        Car.__init__(self,model)\n",
    "        self.seats=seats\n",
    "        \n",
    "obj1 = color(\"Audi Q7\",\"Black\")\n",
    "print(obj1.model)\n",
    "print(obj1.color)\n",
    "\n",
    "obj2 = seats(\"Audi Q7\",4)\n",
    "print(obj2.model)\n",
    "print(obj2.seats)"
   ]
  },
  {
   "cell_type": "markdown",
   "id": "3433a1fe",
   "metadata": {},
   "source": [
    "### Super function \n",
    "    * This is a built in function. It allows to access methods of base class or parent class"
   ]
  },
  {
   "cell_type": "code",
   "execution_count": 23,
   "id": "0ec936d1",
   "metadata": {},
   "outputs": [
    {
     "name": "stdout",
     "output_type": "stream",
     "text": [
      "Name : xyz\n",
      "Age : 12\n",
      "Gender : Male\n",
      "Student id : 23421\n",
      "Fees : 50000\n"
     ]
    }
   ],
   "source": [
    "class person:\n",
    "    def __init__(self,name,age,gender):\n",
    "        self.name=name\n",
    "        self.age=age\n",
    "        self.gender=gender\n",
    "    def PersonInfo(self):\n",
    "        print(\"Name : {}\".format(self.name))\n",
    "        print(\"Age : {}\".format(self.age))\n",
    "        print(\"Gender : {}\".format(self.gender))\n",
    "        \n",
    "class student(person):\n",
    "    def __init__(self,name,age,gender,studentid,fees):\n",
    "        #replace class name by super() method\n",
    "        super().__init__(name,age,gender)\n",
    "        self.studentid=studentid\n",
    "        self.fees=fees\n",
    "    def studentInfo(self):\n",
    "        super().PersonInfo()\n",
    "        print(\"Student id : {}\".format(self.studentid))\n",
    "        print(\"Fees : {}\".format(self.fees))\n",
    "\n",
    "stu_obj=student(\"xyz\",12,\"Male\",23421,50000)\n",
    "stu_obj.studentInfo()"
   ]
  },
  {
   "cell_type": "markdown",
   "id": "9510c9af",
   "metadata": {},
   "source": [
    "# ENCAPSULATION\n",
    "    * Binding/wrapping of data members and functions into a single unit\n",
    "    * It hides the state of structured data object inside a class, preventing access to unauthorized person"
   ]
  },
  {
   "cell_type": "code",
   "execution_count": 30,
   "id": "743871c4",
   "metadata": {
    "collapsed": true
   },
   "outputs": [
    {
     "name": "stdout",
     "output_type": "stream",
     "text": [
      "Calling protected members:  1000\n",
      "Calling protected memebrs:  5000\n",
      "Updated private member\n",
      "1000\n",
      "5000\n"
     ]
    },
    {
     "ename": "AttributeError",
     "evalue": "'Child' object has no attribute '__value1'",
     "output_type": "error",
     "traceback": [
      "\u001b[1;31m---------------------------------------------------------------------------\u001b[0m",
      "\u001b[1;31mAttributeError\u001b[0m                            Traceback (most recent call last)",
      "\u001b[1;32m~\\AppData\\Local\\Temp\\ipykernel_1504\\152693679.py\u001b[0m in \u001b[0;36m<module>\u001b[1;34m\u001b[0m\n\u001b[0;32m     20\u001b[0m \u001b[0mprint\u001b[0m\u001b[1;33m(\u001b[0m\u001b[0mobj1\u001b[0m\u001b[1;33m.\u001b[0m\u001b[0m_value\u001b[0m\u001b[1;33m)\u001b[0m\u001b[1;33m\u001b[0m\u001b[1;33m\u001b[0m\u001b[0m\n\u001b[0;32m     21\u001b[0m \u001b[0mprint\u001b[0m\u001b[1;33m(\u001b[0m\u001b[0mobj2\u001b[0m\u001b[1;33m.\u001b[0m\u001b[0m_value\u001b[0m\u001b[1;33m)\u001b[0m\u001b[1;33m\u001b[0m\u001b[1;33m\u001b[0m\u001b[0m\n\u001b[1;32m---> 22\u001b[1;33m \u001b[0mprint\u001b[0m\u001b[1;33m(\u001b[0m\u001b[0mobj2\u001b[0m\u001b[1;33m.\u001b[0m\u001b[0m__value1\u001b[0m\u001b[1;33m)\u001b[0m\u001b[1;33m\u001b[0m\u001b[1;33m\u001b[0m\u001b[0m\n\u001b[0m",
      "\u001b[1;31mAttributeError\u001b[0m: 'Child' object has no attribute '__value1'"
     ]
    }
   ],
   "source": [
    "class Parent:\n",
    "    def __init__(self):\n",
    "        # Protected member\n",
    "        self._value=1000\n",
    "        self.__value1=\"private member\"\n",
    "        \n",
    "class Child(Parent):\n",
    "    def __init__(self):\n",
    "        Parent.__init__(self)\n",
    "        print(\"Calling protected members: \", self._value)\n",
    "        # Modify protected varaible\n",
    "        self._value=5000\n",
    "        print(\"Calling protected memebrs: \", self._value)\n",
    "        self.__value1=\"Updated private member\"\n",
    "        print(self.__value1)\n",
    "        \n",
    "obj1 = Parent()        \n",
    "obj2 = Child()\n",
    "\n",
    "print(obj1._value)\n",
    "print(obj2._value)\n",
    "print(obj2.__value1)"
   ]
  },
  {
   "cell_type": "markdown",
   "id": "3cdb3f4e",
   "metadata": {},
   "source": [
    "### Problem statement: write a program to demonstrate encapsulation using classes, objects, and methods\n",
    "    * create a class called emp\n",
    "    * declare variables in the initiation function\n",
    "    * make a method to print the variables\n",
    "    * create an object for the class emp\n",
    "    * call the display method"
   ]
  },
  {
   "cell_type": "code",
   "execution_count": 35,
   "id": "e52be8b3",
   "metadata": {},
   "outputs": [
    {
     "name": "stdout",
     "output_type": "stream",
     "text": [
      "Emp id :  2345\n",
      "Name   :  Ravi\n",
      "Salary :  15000\n"
     ]
    }
   ],
   "source": [
    "class emp:\n",
    "    def __init__(self,empid,name,salary):\n",
    "        self.empid=empid\n",
    "        self._name=name\n",
    "        self.__salary=salary\n",
    "    \n",
    "    def print1(self):\n",
    "        print(\"Emp id : \",self.empid)\n",
    "        print(\"Name   : \", self._name)\n",
    "        print(\"Salary : \", self.__salary)\n",
    "        \n",
    "obj1=emp(2345,\"Ravi\",15000)\n",
    "obj1.print1()"
   ]
  },
  {
   "cell_type": "markdown",
   "id": "7613fee5",
   "metadata": {},
   "source": [
    "# METHOD OVERRIDING\n",
    "    * Ability of OOP that allows child class to provide a specific implementation of method that is already present by super-class or parent-class"
   ]
  },
  {
   "cell_type": "code",
   "execution_count": 38,
   "id": "434d8ec2",
   "metadata": {},
   "outputs": [],
   "source": [
    "class vehicle:\n",
    "    # constructor\n",
    "    def __init__(self):\n",
    "        self.tires = 1\n",
    "    def showtires(self):\n",
    "        print(self.tires)\n",
    "\n",
    "# inheritance\n",
    "class Auto(vehicle):\n",
    "    # constructor\n",
    "    def __init__(self):\n",
    "        self.tires = 3\n",
    "    # method overiding\n",
    "    def showtires(self):\n",
    "        print(self.tires)\n",
    "\n",
    "#inheritance\n",
    "class Car(vehicle):\n",
    "    # constructor\n",
    "    def __init__(self):\n",
    "        self.tires = 4\n",
    "    # method overiding\n",
    "    def showtires(self):\n",
    "        print(self.tires)"
   ]
  },
  {
   "cell_type": "code",
   "execution_count": 39,
   "id": "7368c3b4",
   "metadata": {},
   "outputs": [
    {
     "name": "stdout",
     "output_type": "stream",
     "text": [
      "3\n"
     ]
    }
   ],
   "source": [
    "obj = Auto()\n",
    "obj.showtires()"
   ]
  },
  {
   "cell_type": "code",
   "execution_count": 40,
   "id": "a8e5ef28",
   "metadata": {},
   "outputs": [
    {
     "name": "stdout",
     "output_type": "stream",
     "text": [
      "4\n"
     ]
    }
   ],
   "source": [
    "obj1 = Car()\n",
    "obj1.showtires()"
   ]
  },
  {
   "cell_type": "markdown",
   "id": "46136ffa",
   "metadata": {},
   "source": [
    "# DECORATORS\n",
    "    * extends the properties or features of a previous method or function\n",
    "    * powerful tool of python programming that allows programmers to modify the behaviour of a method/function/class\n",
    "    * Decorators allow you to modify the functionality of method by wrapping it in another function\n",
    "    * Outer function- called decorator- '@function_name' which takes original function and returns a modified version of it"
   ]
  },
  {
   "cell_type": "code",
   "execution_count": 44,
   "id": "0c747aeb",
   "metadata": {},
   "outputs": [],
   "source": [
    "def calculate(a,b):\n",
    "    print(a/b)"
   ]
  },
  {
   "cell_type": "code",
   "execution_count": 47,
   "id": "a3c18993",
   "metadata": {},
   "outputs": [
    {
     "name": "stdout",
     "output_type": "stream",
     "text": [
      "2.0\n",
      "0.5\n"
     ]
    }
   ],
   "source": [
    "calculate(4,2)\n",
    "calculate(2,4)"
   ]
  },
  {
   "cell_type": "markdown",
   "id": "2b135ec1",
   "metadata": {},
   "source": [
    "    * only want a to be greater than b"
   ]
  },
  {
   "cell_type": "code",
   "execution_count": 48,
   "id": "b56b45d6",
   "metadata": {},
   "outputs": [
    {
     "name": "stdout",
     "output_type": "stream",
     "text": [
      "2.0\n"
     ]
    }
   ],
   "source": [
    "def cal_smart(func):\n",
    "    def inner(a,b):\n",
    "        if a<b:\n",
    "            a,b=b,a\n",
    "        return func(a,b)\n",
    "    return inner\n",
    "\n",
    "cal2=cal_smart(calculate)\n",
    "cal2(2,4)"
   ]
  },
  {
   "cell_type": "code",
   "execution_count": 49,
   "id": "28a9399f",
   "metadata": {},
   "outputs": [
    {
     "name": "stdout",
     "output_type": "stream",
     "text": [
      "2.0\n"
     ]
    }
   ],
   "source": [
    "def cal_smart(func):\n",
    "    def inner(a,b):\n",
    "        if a<b:\n",
    "            a,b=b,a\n",
    "        return func(a,b)\n",
    "    return inner\n",
    "\n",
    "@cal_smart\n",
    "def calculate(a,b):\n",
    "    print(a/b)\n",
    "    \n",
    "calculate(2,4)"
   ]
  },
  {
   "cell_type": "markdown",
   "id": "65ddf9ec",
   "metadata": {},
   "source": [
    "# POLYMORPHISM"
   ]
  },
  {
   "cell_type": "markdown",
   "id": "b1ceb793",
   "metadata": {},
   "source": [
    "### Polymorphism in addition operator"
   ]
  },
  {
   "cell_type": "code",
   "execution_count": 51,
   "id": "c9a3fb7d",
   "metadata": {},
   "outputs": [
    {
     "name": "stdout",
     "output_type": "stream",
     "text": [
      "40\n"
     ]
    }
   ],
   "source": [
    "var1=10\n",
    "var2=30\n",
    "print(var1+var2)"
   ]
  },
  {
   "cell_type": "code",
   "execution_count": 53,
   "id": "1cd90056",
   "metadata": {},
   "outputs": [
    {
     "name": "stdout",
     "output_type": "stream",
     "text": [
      "Python Programming Polymorphism \n"
     ]
    }
   ],
   "source": [
    "str1=\"Python \"\n",
    "str2=\"Programming \"\n",
    "str3=\"Polymorphism \"\n",
    "print(str1+str2+str3)"
   ]
  },
  {
   "cell_type": "markdown",
   "id": "b1cc8e7b",
   "metadata": {},
   "source": [
    "### Polymorphism in class methods"
   ]
  },
  {
   "cell_type": "code",
   "execution_count": 59,
   "id": "0fb71711",
   "metadata": {},
   "outputs": [],
   "source": [
    "class tortoise:\n",
    "    def __init__(self,name,age):\n",
    "        self.name=name\n",
    "        self.age=age\n",
    "    def petinfo(self):\n",
    "        print(\"Name : {}\".format(self.name))\n",
    "        print(\"Age : {}\".format(self.age))\n",
    "    def sound(self):\n",
    "        print(\"Clicks\")\n",
    "        \n",
    "class dog:\n",
    "    def __init__(self,name,age):\n",
    "        self.name=name\n",
    "        self.age=age\n",
    "    def petinfo(self):\n",
    "        print(\"Name : {}\".format(self.name))\n",
    "        print(\"Age : {}\".format(self.age))\n",
    "    def sound(self):\n",
    "        print(\"Barks\")\n",
    "        \n",
    "class cat:\n",
    "    def __init__(self,name,age):\n",
    "        self.name=name\n",
    "        self.age=age\n",
    "    def petinfo(self):\n",
    "        print(\"Name : {}\".format(self.name))\n",
    "        print(\"Age : {}\".format(self.age))\n",
    "    def sound(self):\n",
    "        print(\"Meows\")"
   ]
  },
  {
   "cell_type": "code",
   "execution_count": 60,
   "id": "1ced7198",
   "metadata": {},
   "outputs": [],
   "source": [
    "cat_obj=cat(\"Kit\",3)\n",
    "dog_obj=dog(\"blue\",5)\n",
    "tortoise_obj=tortoise(\"toto\",100)"
   ]
  },
  {
   "cell_type": "code",
   "execution_count": 61,
   "id": "1b9b6e3f",
   "metadata": {},
   "outputs": [
    {
     "name": "stdout",
     "output_type": "stream",
     "text": [
      "Name : Kit\n",
      "Age : 3\n",
      "Meows\n",
      "Name : blue\n",
      "Age : 5\n",
      "Barks\n",
      "Name : toto\n",
      "Age : 100\n",
      "Clicks\n"
     ]
    }
   ],
   "source": [
    "for objs in [cat_obj,dog_obj,tortoise_obj]:\n",
    "    objs.petinfo()\n",
    "    objs.sound()"
   ]
  },
  {
   "cell_type": "markdown",
   "id": "423d9e4b",
   "metadata": {},
   "source": [
    "### Polymorphism in class inheritance"
   ]
  },
  {
   "cell_type": "code",
   "execution_count": 74,
   "id": "29f1fbce",
   "metadata": {},
   "outputs": [],
   "source": [
    "import math  \n",
    "\n",
    "class shape:\n",
    "    def __init__(self,name):\n",
    "        self.name=name \n",
    "    def area(self):\n",
    "        pass\n",
    "    \n",
    "class circle(shape):\n",
    "    def __init__(self,name,rad):\n",
    "        super().__init__(name)\n",
    "        self.rad=rad\n",
    "    def area(self):\n",
    "        return math.pi*self.rad**2\n",
    "    "
   ]
  },
  {
   "cell_type": "code",
   "execution_count": 75,
   "id": "863e73da",
   "metadata": {},
   "outputs": [
    {
     "data": {
      "text/plain": [
       "22"
      ]
     },
     "execution_count": 75,
     "metadata": {},
     "output_type": "execute_result"
    }
   ],
   "source": [
    "import random\n",
    "random.randint(2,30)"
   ]
  },
  {
   "cell_type": "code",
   "execution_count": 76,
   "id": "2ea9ab89",
   "metadata": {},
   "outputs": [
    {
     "data": {
      "text/plain": [
       "0.17708991609135483"
      ]
     },
     "execution_count": 76,
     "metadata": {},
     "output_type": "execute_result"
    }
   ],
   "source": [
    "random.random()"
   ]
  },
  {
   "cell_type": "code",
   "execution_count": 77,
   "id": "ca05c4be",
   "metadata": {},
   "outputs": [],
   "source": [
    "#pass value using random.randint() - generate random integer vale b/w range(2,30)\n",
    "obj1= circle(\"Circle\",random.randint(2,30))"
   ]
  },
  {
   "cell_type": "code",
   "execution_count": 78,
   "id": "a6afdcf3",
   "metadata": {},
   "outputs": [
    {
     "data": {
      "text/plain": [
       "380.132711084365"
      ]
     },
     "execution_count": 78,
     "metadata": {},
     "output_type": "execute_result"
    }
   ],
   "source": [
    "obj1.area()"
   ]
  },
  {
   "cell_type": "code",
   "execution_count": null,
   "id": "6c692af8",
   "metadata": {},
   "outputs": [],
   "source": []
  }
 ],
 "metadata": {
  "kernelspec": {
   "display_name": "Python 3 (ipykernel)",
   "language": "python",
   "name": "python3"
  },
  "language_info": {
   "codemirror_mode": {
    "name": "ipython",
    "version": 3
   },
   "file_extension": ".py",
   "mimetype": "text/x-python",
   "name": "python",
   "nbconvert_exporter": "python",
   "pygments_lexer": "ipython3",
   "version": "3.9.13"
  }
 },
 "nbformat": 4,
 "nbformat_minor": 5
}
